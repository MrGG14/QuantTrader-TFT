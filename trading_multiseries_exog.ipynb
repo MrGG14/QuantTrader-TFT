{
 "cells": [
  {
   "cell_type": "markdown",
   "id": "18f03e0a",
   "metadata": {},
   "source": [
    "# IMPORTS"
   ]
  },
  {
   "cell_type": "markdown",
   "id": "b5f98c2c",
   "metadata": {},
   "source": [
    "Por incompatibilidades entre librerias nos vemos obligados a hacer este workaround para que solucionar los problemas de dependencias."
   ]
  },
  {
   "cell_type": "code",
   "execution_count": 1,
   "id": "e43a3d70",
   "metadata": {},
   "outputs": [
    {
     "name": "stderr",
     "output_type": "stream",
     "text": [
      "c:\\Users\\nicov\\AppData\\Local\\Programs\\Python\\Python39\\lib\\site-packages\\pytorch_forecasting\\models\\base_model.py:30: TqdmWarning: IProgress not found. Please update jupyter and ipywidgets. See https://ipywidgets.readthedocs.io/en/stable/user_install.html\n",
      "  from tqdm.autonotebook import tqdm\n"
     ]
    }
   ],
   "source": [
    "import  scipy.signal.signaltools\n",
    "import numpy as np\n",
    "\n",
    "def _centered(arr, newsize):\n",
    "    # Return the center newsize portion of the array.\n",
    "    newsize = np.asarray(newsize)\n",
    "    currsize = np.array(arr.shape)\n",
    "    startind = (currsize - newsize) // 2\n",
    "    endind = startind + newsize\n",
    "    myslice = [slice(startind[k], endind[k]) for k in range(len(endind))]\n",
    "    return arr[tuple(myslice)]\n",
    "\n",
    "scipy.signal.signaltools._centered = _centered\n",
    "import pandas as pd\n",
    "import matplotlib.pyplot as plt\n",
    "# import os\n",
    "# import pickle\n",
    "import pytorch_forecasting\n",
    "from pytorch_forecasting.data import GroupNormalizer\n",
    "from pytorch_forecasting.models.temporal_fusion_transformer.tuning import optimize_hyperparameters\n",
    "from pytorch_forecasting import TemporalFusionTransformer, TimeSeriesDataSet\n",
    "from lightning.pytorch.callbacks import EarlyStopping, LearningRateMonitor\n",
    "import lightning.pytorch as pl\n",
    "from lightning.pytorch.loggers import TensorBoardLogger\n",
    "import torch\n",
    "from pytorch_forecasting.metrics import MAE, SMAPE, PoissonLoss, QuantileLoss, MAPE, MASE\n",
    "from lightning.pytorch.tuner import Tuner\n",
    "from  scipy.signal.signaltools import _centered\n",
    "from tft_helper import *\n",
    "\n",
    "import os\n",
    "import sys\n",
    "\n",
    "torch.backends.cudnn.benchmark = True # Enables cuDNN auto-tuner for faster runtime when input sizes are consistent\n",
    "\n",
    "basepath = os.path.abspath(\"\")  # script directory\n",
    "\n",
    "sys.path.insert(1, os.path.join(basepath, \"..\\\\\"))\n",
    "from datetime import datetime, timedelta"
   ]
  },
  {
   "cell_type": "code",
   "execution_count": 2,
   "id": "018de99c",
   "metadata": {},
   "outputs": [],
   "source": [
    "# %pip install optuna==3.4.0"
   ]
  },
  {
   "cell_type": "code",
   "execution_count": null,
   "id": "bdf5d2e2",
   "metadata": {},
   "outputs": [],
   "source": []
  },
  {
   "cell_type": "markdown",
   "id": "82736cf5",
   "metadata": {},
   "source": [
    "# PARAMS"
   ]
  },
  {
   "cell_type": "code",
   "execution_count": 3,
   "id": "62f8001a",
   "metadata": {
    "metadata": {}
   },
   "outputs": [],
   "source": [
    "seq_len = 5 #sequence lenght: how many timesteps does a sequence have. For example a week could be considered a single sequence, therefore seq_len would be 5 as as the stock market opens 5 days a week.\n",
    "pred_len = seq_len * 5 # prediction lenght: How many timesteps does a prediction sequence have. For example if each prediction is a full week pred_len should be 5 as the stock market opens 5 days a week.\n",
    "n_prev_len = 100 # Number of previous timesteps to take for inference. \n",
    "n_preds = 5 # number of predictions with test data\n",
    "test_len = pred_len * n_preds  # Number of timesteps to use for test data.\n",
    "group = \"group\" # If a same model should predict different stores, indices etc specify how to group them. If theres only one time series the set group col to one full of the same value.\n",
    "n_lags = seq_len * 20  # Number of lags to use.\n",
    "loss = MAPE() # Loss function. \n",
    "epochs = 75 # Epochs to train the model.\n",
    "\n",
    "# Set ts date range\n",
    "date_start = '2010-01-04' #None #\"2023-06-01\"\n",
    "date_end = \"2024-7-29\"\n",
    "shift = 1 # How many times to shift values. Useful for using last indicator values (RSI, MACD...) for inference\n",
    "ma_periods = [ 5, 10, 20, 50, 100, 200] # Moving averages periods\n",
    "# cols_to_shift = [2:]\n",
    "\n",
    "# Set training config.\n",
    "lr_finder = False\n",
    "grid_search = \"random\"\n",
    "early_stop_callback = EarlyStopping(monitor=\"val_loss\", min_delta=1e-4, patience=10, verbose=False, mode=\"min\")\n",
    "lr_logger = LearningRateMonitor()  # log the learning rate\n",
    "# logger = TensorBoardLogger(\"lightning_logs\")  # logging results to a tensorboard\n",
    "\n",
    "# TFT training params.\n",
    "tft_params =  {\"gradient_clip_val\": 0.03, \"hidden_size\": 24, \"dropout\": 0.25, \"hidden_continuous_size\": 24, \"attention_head_size\": 4, \"learning_rate\": 0.01, \"loss\": loss, \"early_stop_callback\": early_stop_callback}\n",
    "\n",
    "\n",
    "PIB_relevant_countries = ['USA',\n",
    " 'CHN',\n",
    " 'EMU',\n",
    " 'DEU',\n",
    " 'FRA',\n",
    " 'GBR',\n",
    " 'JPN',\n",
    " 'IND',\n",
    " 'BRA',\n",
    " 'CAN',\n",
    " 'AUS',\n",
    " 'ITA',\n",
    " 'KOR',\n",
    " 'MEX',\n",
    " 'IDN',\n",
    " 'SAU',\n",
    " 'ZAF',\n",
    " 'TUR',\n",
    " 'ESP']\n",
    "\n",
    "# If grid search, set param grid.\n",
    "# param_grid = {\n",
    "#     \"gradient_clip_val\": [0.01, 0.03, 0.05],\n",
    "#     \"hidden_size\": [8, 16, 32],\n",
    "#     \"dropout\": [0.1, 0.25, 0.4],\n",
    "#     \"hidden_continuous_size\": [8, 16, 32],\n",
    "#     \"attention_head_size\": [2, 4, 8],\n",
    "#     \"learning_rate\": [0.005, 0.01, 0.03],\n",
    "#     \"loss\": [loss],\n",
    "#     \"test_len\": [test_len],\n",
    "#     \"pred_len\": [pred_len],\n",
    "#     \"n_prev_len\": [n_prev_len],\n",
    "# }\n",
    "\n",
    "param_grid = {\n",
    "    \"gradient_clip_val\": [0.01, 0.03, 0.05],\n",
    "    \"hidden_size\": [8, 16, 32],\n",
    "    \"dropout\": [0.1, 0.2, 0.3],\n",
    "    \"hidden_continuous_size\": [16, 64, 128],\n",
    "    \"attention_head_size\": [4,8,16],\n",
    "    \"learning_rate\": [0.005, 0.01, 0.03],\n",
    "    \"loss\": [loss],\n",
    "    \"test_len\": [test_len],\n",
    "    \"pred_len\": [pred_len],\n",
    "    \"n_prev_len\": [n_prev_len],\n",
    "}"
   ]
  },
  {
   "cell_type": "markdown",
   "id": "8032f7e1",
   "metadata": {
    "id": "8032f7e1"
   },
   "source": [
    "# LOAD DATA"
   ]
  },
  {
   "cell_type": "code",
   "execution_count": 4,
   "id": "888ad372",
   "metadata": {},
   "outputs": [
    {
     "name": "stdout",
     "output_type": "stream",
     "text": [
      "Dataset does not contain volume data.\n"
     ]
    },
    {
     "name": "stderr",
     "output_type": "stream",
     "text": [
      "C:\\Users\\nicov\\AppData\\Local\\Temp\\ipykernel_19224\\2957053358.py:100: FutureWarning: Downcasting object dtype arrays on .fillna, .ffill, .bfill is deprecated and will change in a future version. Call result.infer_objects(copy=False) instead. To opt-in to the future behavior, set `pd.set_option('future.no_silent_downcasting', True)`\n",
      "  df = df.ffill()\n"
     ]
    }
   ],
   "source": [
    "# Load time series data.\n",
    "df_nasdaq = load_file(file_name=\"Nasdaq\", path=\"./data/\", ftype=\"csv\")\n",
    "df_nasdaq = investing_preprocessing(df_nasdaq)\n",
    "df_nasdaq = df_nasdaq.rename(columns={\"target\": \"target_nasdaq\"})\n",
    "\n",
    "df_ibex35 = load_file(file_name=\"Datos históricos del IBEX 35\", path=\"./data/\", ftype=\"csv\")\n",
    "df_ibex35 = investing_preprocessing(df_ibex35)\n",
    "df_ibex35 = df_ibex35.rename(columns={\"target\": \"target_ibex35\"})\n",
    "\n",
    "df_syp500 = load_file(file_name=\"S&P500\", path=\"./data/\", ftype=\"csv\")\n",
    "df_syp500 = investing_preprocessing(df_syp500)\n",
    "\n",
    "df_eustoxx = load_file(file_name=\"EUStoxx50\", path=\"./data/\", ftype=\"csv\")\n",
    "df_eustoxx = investing_preprocessing(df_eustoxx)\n",
    "df_eustoxx = df_eustoxx.rename(columns={\"target\": \"target_eustoxx\"})\n",
    "\n",
    "# Usamos las series de Ibex35, EUSTOXX y Nasdaq como variables exogenas.\n",
    "df = df_ibex35.merge(df_nasdaq[['Date','target_nasdaq']], on='Date', how='left')\n",
    "df = df.merge(df_eustoxx[['Date','target_eustoxx']], on='Date', how='left')\n",
    "df = df.merge(df_syp500[['Date','target']], on='Date',how='left')\n",
    "\n",
    "# Cargamos los datos de la tasa de interes (Federal Funds Effective Rate) de estados unidos. https://fred.stlouisfed.org/series/FEDFUNDS\n",
    "FedFundsRate_df = load_file(file_name=\"FedFundsEffRate\", path=\"./data/\", ftype=\"csv\")\n",
    "FedFundsRate_df = FedFundsRate_df.rename(columns={\"DATE\": \"Date\"})\n",
    "FedFundsRate_df[\"Date\"] = pd.to_datetime(FedFundsRate_df[\"Date\"], format=\"%Y-%m-%d\")\n",
    "\n",
    "\n",
    "\n",
    "# Cargamos los datos del indice VIX. https://fred.stlouisfed.org/series/VIXCLS\n",
    "VIX_df = load_file(file_name=\"VIX_FRED\", path=\"./data/\", ftype=\"csv\")\n",
    "VIX_df = VIX_df.rename(columns={\"DATE\": \"Date\", \"VIXCLS\": \"VIX\"})\n",
    "VIX_df[\"Date\"] = pd.to_datetime(VIX_df[\"Date\"], format=\"%Y-%m-%d\")\n",
    "\n",
    "\n",
    "EUVIX_df = load_file(file_name=\"VSTOXX\", path=\"./data/\", ftype=\"csv\")\n",
    "EUVIX_df = EUVIX_df.rename(columns={\"target\": \"EUVIX\"})\n",
    "EUVIX_df = EUVIX_df[['Date', 'Price']]\n",
    "EUVIX_df[\"Date\"] = pd.to_datetime(EUVIX_df[\"Date\"], format=\"%m/%d/%Y\")\n",
    "EUVIX_df = EUVIX_df.rename(columns={\"Price\": \"EUVIX\"})\n",
    "\n",
    "\n",
    "# Cargamos los datos del PIB de los paises seleccionados\n",
    "worldPIB = load_file(file_name=\"worldPIBdata\", path=\"./data/\", ftype=\"xls\", skiprows=3)\n",
    "worldPIB = worldPIB.iloc[:, [0, 1] + list(range(50, len(worldPIB.columns)))]\n",
    "# df = df.iloc[1:, :]\n",
    "\n",
    "worldPIB=worldPIB.set_index('Country Code').loc[PIB_relevant_countries].T\n",
    "worldPIB = worldPIB.drop(index='Country Name')\n",
    "worldPIB.index.name = 'Date'\n",
    "worldPIB.reset_index(inplace=True)\n",
    "worldPIB[\"Date\"] = pd.to_datetime(worldPIB[\"Date\"], format=\"%Y\")\n",
    "worldPIB.columns.name = ''\n",
    "worldPIB = worldPIB.rename(columns={col: f\"PIB_{col}\" for col in worldPIB.columns[1:]})\n",
    "\n",
    "\n",
    "# Cargamos los datos de AAII (American Association of Individual Investors)\n",
    "AAII_df=load_file(file_name=\"IIAA_sentiment\", path=\"./data/\", ftype=\"xls\", usecols=range(0,4), **{\"skiprows\":3, \"skipfooter\":203})\n",
    "AAII_df[\"Date\"] = pd.to_datetime(AAII_df[\"Date\"], format=\"%Y-%m-%d %H:%M:%S\")\n",
    "\n",
    "# Loas AAII stock sentiment historic data.\n",
    "AAII_df = AAII_df.rename(\n",
    "    columns={\n",
    "        \"Bullish\": \"AAII_Bullish\",\n",
    "        \"Neutral\": \"AAII_Neutral\",\n",
    "        \"Bearish\": \"AAII_Bearish\",})\n",
    "\n",
    "# Get selected time range for training\n",
    "if date_end:\n",
    "    df = df[df[\"Date\"] <= date_end]\n",
    "    AAII_df = AAII_df[AAII_df[\"Date\"] < date_end]\n",
    "\n",
    "\n",
    "if date_start:\n",
    "    df = df[df[\"Date\"] >= date_start]\n",
    "    AAII_df = AAII_df[AAII_df[\"Date\"] >= date_start]\n",
    "\n",
    "# Creo que es mas eficiente asi que eliminar con el merge\n",
    "\n",
    "AAII_df = AAII_df.reset_index(drop=True)\n",
    "\n",
    "# Merge dataframes to create training df.\n",
    "df = df.merge(AAII_df, on=\"Date\", how=\"left\")\n",
    "df = df.merge(FedFundsRate_df, on=\"Date\", how=\"left\")\n",
    "df = df.merge(VIX_df, on=\"Date\", how=\"left\")\n",
    "df = df.merge(EUVIX_df, on=\"Date\", how=\"left\")\n",
    "\n",
    "df['year'] = pd.to_datetime(df['Date']).dt.year\n",
    "\n",
    "# Crear una columna temporal 'year' en df2 convirtiendo 'date' a enteros\n",
    "# Extraer el año directamente de la columna 'Date' en worldPIB\n",
    "worldPIB['year'] = pd.to_datetime(worldPIB['Date']).dt.year\n",
    "\n",
    "# Realizar el merge usando la columna temporal 'year'\n",
    "df = pd.merge(df, worldPIB, on='year', how='left')\n",
    "df = df.rename(columns={'Date_x': 'Date'})\n",
    "\n",
    "# Eliminar la columna temporal 'year' después del merge\n",
    "df = df.drop(columns=['year'])\n",
    "\n",
    "df = df.ffill()\n",
    "df = df.bfill()"
   ]
  },
  {
   "cell_type": "code",
   "execution_count": 5,
   "id": "6cab5ddf",
   "metadata": {},
   "outputs": [
    {
     "data": {
      "text/html": [
       "<div>\n",
       "<style scoped>\n",
       "    .dataframe tbody tr th:only-of-type {\n",
       "        vertical-align: middle;\n",
       "    }\n",
       "\n",
       "    .dataframe tbody tr th {\n",
       "        vertical-align: top;\n",
       "    }\n",
       "\n",
       "    .dataframe thead th {\n",
       "        text-align: right;\n",
       "    }\n",
       "</style>\n",
       "<table border=\"1\" class=\"dataframe\">\n",
       "  <thead>\n",
       "    <tr style=\"text-align: right;\">\n",
       "      <th></th>\n",
       "      <th>Date</th>\n",
       "      <th>EUVIX</th>\n",
       "    </tr>\n",
       "  </thead>\n",
       "  <tbody>\n",
       "    <tr>\n",
       "      <th>0</th>\n",
       "      <td>2024-11-01</td>\n",
       "      <td>21.09</td>\n",
       "    </tr>\n",
       "    <tr>\n",
       "      <th>1</th>\n",
       "      <td>2024-10-31</td>\n",
       "      <td>21.73</td>\n",
       "    </tr>\n",
       "    <tr>\n",
       "      <th>2</th>\n",
       "      <td>2024-10-30</td>\n",
       "      <td>19.93</td>\n",
       "    </tr>\n",
       "    <tr>\n",
       "      <th>3</th>\n",
       "      <td>2024-10-29</td>\n",
       "      <td>18.99</td>\n",
       "    </tr>\n",
       "    <tr>\n",
       "      <th>4</th>\n",
       "      <td>2024-10-28</td>\n",
       "      <td>18.66</td>\n",
       "    </tr>\n",
       "    <tr>\n",
       "      <th>...</th>\n",
       "      <td>...</td>\n",
       "      <td>...</td>\n",
       "    </tr>\n",
       "    <tr>\n",
       "      <th>3018</th>\n",
       "      <td>2013-01-07</td>\n",
       "      <td>16.82</td>\n",
       "    </tr>\n",
       "    <tr>\n",
       "      <th>3019</th>\n",
       "      <td>2013-01-04</td>\n",
       "      <td>16.07</td>\n",
       "    </tr>\n",
       "    <tr>\n",
       "      <th>3020</th>\n",
       "      <td>2013-01-03</td>\n",
       "      <td>17.54</td>\n",
       "    </tr>\n",
       "    <tr>\n",
       "      <th>3021</th>\n",
       "      <td>2013-01-02</td>\n",
       "      <td>18.36</td>\n",
       "    </tr>\n",
       "    <tr>\n",
       "      <th>3022</th>\n",
       "      <td>2012-12-28</td>\n",
       "      <td>21.35</td>\n",
       "    </tr>\n",
       "  </tbody>\n",
       "</table>\n",
       "<p>3023 rows × 2 columns</p>\n",
       "</div>"
      ],
      "text/plain": [
       "           Date  EUVIX\n",
       "0    2024-11-01  21.09\n",
       "1    2024-10-31  21.73\n",
       "2    2024-10-30  19.93\n",
       "3    2024-10-29  18.99\n",
       "4    2024-10-28  18.66\n",
       "...         ...    ...\n",
       "3018 2013-01-07  16.82\n",
       "3019 2013-01-04  16.07\n",
       "3020 2013-01-03  17.54\n",
       "3021 2013-01-02  18.36\n",
       "3022 2012-12-28  21.35\n",
       "\n",
       "[3023 rows x 2 columns]"
      ]
     },
     "execution_count": 5,
     "metadata": {},
     "output_type": "execute_result"
    }
   ],
   "source": [
    "EUVIX_df"
   ]
  },
  {
   "cell_type": "code",
   "execution_count": 6,
   "id": "7ba96331",
   "metadata": {},
   "outputs": [
    {
     "data": {
      "text/html": [
       "<div>\n",
       "<style scoped>\n",
       "    .dataframe tbody tr th:only-of-type {\n",
       "        vertical-align: middle;\n",
       "    }\n",
       "\n",
       "    .dataframe tbody tr th {\n",
       "        vertical-align: top;\n",
       "    }\n",
       "\n",
       "    .dataframe thead th {\n",
       "        text-align: right;\n",
       "    }\n",
       "</style>\n",
       "<table border=\"1\" class=\"dataframe\">\n",
       "  <thead>\n",
       "    <tr style=\"text-align: right;\">\n",
       "      <th></th>\n",
       "      <th>Date</th>\n",
       "      <th>target_ibex35</th>\n",
       "      <th>open</th>\n",
       "      <th>max</th>\n",
       "      <th>min</th>\n",
       "      <th>vol</th>\n",
       "      <th>var</th>\n",
       "      <th>target_nasdaq</th>\n",
       "      <th>target_eustoxx</th>\n",
       "      <th>target</th>\n",
       "      <th>...</th>\n",
       "      <th>PIB_CAN</th>\n",
       "      <th>PIB_AUS</th>\n",
       "      <th>PIB_ITA</th>\n",
       "      <th>PIB_KOR</th>\n",
       "      <th>PIB_MEX</th>\n",
       "      <th>PIB_IDN</th>\n",
       "      <th>PIB_SAU</th>\n",
       "      <th>PIB_ZAF</th>\n",
       "      <th>PIB_TUR</th>\n",
       "      <th>PIB_ESP</th>\n",
       "    </tr>\n",
       "  </thead>\n",
       "  <tbody>\n",
       "    <tr>\n",
       "      <th>0</th>\n",
       "      <td>2010-01-04</td>\n",
       "      <td>12145.1</td>\n",
       "      <td>11986.5</td>\n",
       "      <td>12145.1</td>\n",
       "      <td>11986.1</td>\n",
       "      <td>184130000.0</td>\n",
       "      <td>1.72</td>\n",
       "      <td>1886.70</td>\n",
       "      <td>2324.48</td>\n",
       "      <td>1133.00</td>\n",
       "      <td>...</td>\n",
       "      <td>3.090806</td>\n",
       "      <td>2.226538</td>\n",
       "      <td>1.713296</td>\n",
       "      <td>6.804825</td>\n",
       "      <td>4.971335</td>\n",
       "      <td>6.223854</td>\n",
       "      <td>5.039508</td>\n",
       "      <td>3.039733</td>\n",
       "      <td>8.427104</td>\n",
       "      <td>0.162920</td>\n",
       "    </tr>\n",
       "    <tr>\n",
       "      <th>1</th>\n",
       "      <td>2010-01-05</td>\n",
       "      <td>12204.4</td>\n",
       "      <td>12141.8</td>\n",
       "      <td>12240.5</td>\n",
       "      <td>12139.8</td>\n",
       "      <td>238430000.0</td>\n",
       "      <td>0.49</td>\n",
       "      <td>1888.43</td>\n",
       "      <td>2324.48</td>\n",
       "      <td>1136.50</td>\n",
       "      <td>...</td>\n",
       "      <td>3.090806</td>\n",
       "      <td>2.226538</td>\n",
       "      <td>1.713296</td>\n",
       "      <td>6.804825</td>\n",
       "      <td>4.971335</td>\n",
       "      <td>6.223854</td>\n",
       "      <td>5.039508</td>\n",
       "      <td>3.039733</td>\n",
       "      <td>8.427104</td>\n",
       "      <td>0.162920</td>\n",
       "    </tr>\n",
       "    <tr>\n",
       "      <th>2</th>\n",
       "      <td>2010-01-06</td>\n",
       "      <td>12222.5</td>\n",
       "      <td>12216.4</td>\n",
       "      <td>12230.7</td>\n",
       "      <td>12147.6</td>\n",
       "      <td>123740000.0</td>\n",
       "      <td>0.15</td>\n",
       "      <td>1878.42</td>\n",
       "      <td>2324.48</td>\n",
       "      <td>1137.10</td>\n",
       "      <td>...</td>\n",
       "      <td>3.090806</td>\n",
       "      <td>2.226538</td>\n",
       "      <td>1.713296</td>\n",
       "      <td>6.804825</td>\n",
       "      <td>4.971335</td>\n",
       "      <td>6.223854</td>\n",
       "      <td>5.039508</td>\n",
       "      <td>3.039733</td>\n",
       "      <td>8.427104</td>\n",
       "      <td>0.162920</td>\n",
       "    </tr>\n",
       "    <tr>\n",
       "      <th>3</th>\n",
       "      <td>2010-01-07</td>\n",
       "      <td>12166.3</td>\n",
       "      <td>12163.0</td>\n",
       "      <td>12199.7</td>\n",
       "      <td>12079.1</td>\n",
       "      <td>192310000.0</td>\n",
       "      <td>-0.46</td>\n",
       "      <td>1876.72</td>\n",
       "      <td>2324.48</td>\n",
       "      <td>1141.70</td>\n",
       "      <td>...</td>\n",
       "      <td>3.090806</td>\n",
       "      <td>2.226538</td>\n",
       "      <td>1.713296</td>\n",
       "      <td>6.804825</td>\n",
       "      <td>4.971335</td>\n",
       "      <td>6.223854</td>\n",
       "      <td>5.039508</td>\n",
       "      <td>3.039733</td>\n",
       "      <td>8.427104</td>\n",
       "      <td>0.162920</td>\n",
       "    </tr>\n",
       "    <tr>\n",
       "      <th>4</th>\n",
       "      <td>2010-01-08</td>\n",
       "      <td>12163.0</td>\n",
       "      <td>12218.0</td>\n",
       "      <td>12232.2</td>\n",
       "      <td>12079.9</td>\n",
       "      <td>213110000.0</td>\n",
       "      <td>-0.03</td>\n",
       "      <td>1892.59</td>\n",
       "      <td>2324.48</td>\n",
       "      <td>1145.00</td>\n",
       "      <td>...</td>\n",
       "      <td>3.090806</td>\n",
       "      <td>2.226538</td>\n",
       "      <td>1.713296</td>\n",
       "      <td>6.804825</td>\n",
       "      <td>4.971335</td>\n",
       "      <td>6.223854</td>\n",
       "      <td>5.039508</td>\n",
       "      <td>3.039733</td>\n",
       "      <td>8.427104</td>\n",
       "      <td>0.162920</td>\n",
       "    </tr>\n",
       "    <tr>\n",
       "      <th>...</th>\n",
       "      <td>...</td>\n",
       "      <td>...</td>\n",
       "      <td>...</td>\n",
       "      <td>...</td>\n",
       "      <td>...</td>\n",
       "      <td>...</td>\n",
       "      <td>...</td>\n",
       "      <td>...</td>\n",
       "      <td>...</td>\n",
       "      <td>...</td>\n",
       "      <td>...</td>\n",
       "      <td>...</td>\n",
       "      <td>...</td>\n",
       "      <td>...</td>\n",
       "      <td>...</td>\n",
       "      <td>...</td>\n",
       "      <td>...</td>\n",
       "      <td>...</td>\n",
       "      <td>...</td>\n",
       "      <td>...</td>\n",
       "      <td>...</td>\n",
       "    </tr>\n",
       "    <tr>\n",
       "      <th>3728</th>\n",
       "      <td>2024-07-23</td>\n",
       "      <td>11212.7</td>\n",
       "      <td>11154.3</td>\n",
       "      <td>11221.8</td>\n",
       "      <td>11097.5</td>\n",
       "      <td>101470000.0</td>\n",
       "      <td>0.62</td>\n",
       "      <td>19754.34</td>\n",
       "      <td>4916.80</td>\n",
       "      <td>5555.74</td>\n",
       "      <td>...</td>\n",
       "      <td>1.065994</td>\n",
       "      <td>3.016988</td>\n",
       "      <td>0.920692</td>\n",
       "      <td>1.356733</td>\n",
       "      <td>3.228737</td>\n",
       "      <td>5.048106</td>\n",
       "      <td>-0.754915</td>\n",
       "      <td>0.601662</td>\n",
       "      <td>4.516867</td>\n",
       "      <td>2.503294</td>\n",
       "    </tr>\n",
       "    <tr>\n",
       "      <th>3729</th>\n",
       "      <td>2024-07-24</td>\n",
       "      <td>11210.1</td>\n",
       "      <td>11170.8</td>\n",
       "      <td>11245.5</td>\n",
       "      <td>11154.4</td>\n",
       "      <td>128810000.0</td>\n",
       "      <td>-0.02</td>\n",
       "      <td>19032.39</td>\n",
       "      <td>4861.87</td>\n",
       "      <td>5427.13</td>\n",
       "      <td>...</td>\n",
       "      <td>1.065994</td>\n",
       "      <td>3.016988</td>\n",
       "      <td>0.920692</td>\n",
       "      <td>1.356733</td>\n",
       "      <td>3.228737</td>\n",
       "      <td>5.048106</td>\n",
       "      <td>-0.754915</td>\n",
       "      <td>0.601662</td>\n",
       "      <td>4.516867</td>\n",
       "      <td>2.503294</td>\n",
       "    </tr>\n",
       "    <tr>\n",
       "      <th>3730</th>\n",
       "      <td>2024-07-25</td>\n",
       "      <td>11145.6</td>\n",
       "      <td>11132.7</td>\n",
       "      <td>11158.1</td>\n",
       "      <td>11012.0</td>\n",
       "      <td>120030000.0</td>\n",
       "      <td>-0.58</td>\n",
       "      <td>18830.59</td>\n",
       "      <td>4811.28</td>\n",
       "      <td>5399.22</td>\n",
       "      <td>...</td>\n",
       "      <td>1.065994</td>\n",
       "      <td>3.016988</td>\n",
       "      <td>0.920692</td>\n",
       "      <td>1.356733</td>\n",
       "      <td>3.228737</td>\n",
       "      <td>5.048106</td>\n",
       "      <td>-0.754915</td>\n",
       "      <td>0.601662</td>\n",
       "      <td>4.516867</td>\n",
       "      <td>2.503294</td>\n",
       "    </tr>\n",
       "    <tr>\n",
       "      <th>3731</th>\n",
       "      <td>2024-07-26</td>\n",
       "      <td>11165.9</td>\n",
       "      <td>11102.5</td>\n",
       "      <td>11177.6</td>\n",
       "      <td>11068.7</td>\n",
       "      <td>86560000.0</td>\n",
       "      <td>0.18</td>\n",
       "      <td>19023.66</td>\n",
       "      <td>4862.50</td>\n",
       "      <td>5459.10</td>\n",
       "      <td>...</td>\n",
       "      <td>1.065994</td>\n",
       "      <td>3.016988</td>\n",
       "      <td>0.920692</td>\n",
       "      <td>1.356733</td>\n",
       "      <td>3.228737</td>\n",
       "      <td>5.048106</td>\n",
       "      <td>-0.754915</td>\n",
       "      <td>0.601662</td>\n",
       "      <td>4.516867</td>\n",
       "      <td>2.503294</td>\n",
       "    </tr>\n",
       "    <tr>\n",
       "      <th>3732</th>\n",
       "      <td>2024-07-29</td>\n",
       "      <td>11117.8</td>\n",
       "      <td>11224.4</td>\n",
       "      <td>11254.2</td>\n",
       "      <td>11089.7</td>\n",
       "      <td>76500000.0</td>\n",
       "      <td>-0.43</td>\n",
       "      <td>19059.49</td>\n",
       "      <td>4815.39</td>\n",
       "      <td>5463.54</td>\n",
       "      <td>...</td>\n",
       "      <td>1.065994</td>\n",
       "      <td>3.016988</td>\n",
       "      <td>0.920692</td>\n",
       "      <td>1.356733</td>\n",
       "      <td>3.228737</td>\n",
       "      <td>5.048106</td>\n",
       "      <td>-0.754915</td>\n",
       "      <td>0.601662</td>\n",
       "      <td>4.516867</td>\n",
       "      <td>2.503294</td>\n",
       "    </tr>\n",
       "  </tbody>\n",
       "</table>\n",
       "<p>3733 rows × 36 columns</p>\n",
       "</div>"
      ],
      "text/plain": [
       "           Date  target_ibex35     open      max      min          vol   var  \\\n",
       "0    2010-01-04        12145.1  11986.5  12145.1  11986.1  184130000.0  1.72   \n",
       "1    2010-01-05        12204.4  12141.8  12240.5  12139.8  238430000.0  0.49   \n",
       "2    2010-01-06        12222.5  12216.4  12230.7  12147.6  123740000.0  0.15   \n",
       "3    2010-01-07        12166.3  12163.0  12199.7  12079.1  192310000.0 -0.46   \n",
       "4    2010-01-08        12163.0  12218.0  12232.2  12079.9  213110000.0 -0.03   \n",
       "...         ...            ...      ...      ...      ...          ...   ...   \n",
       "3728 2024-07-23        11212.7  11154.3  11221.8  11097.5  101470000.0  0.62   \n",
       "3729 2024-07-24        11210.1  11170.8  11245.5  11154.4  128810000.0 -0.02   \n",
       "3730 2024-07-25        11145.6  11132.7  11158.1  11012.0  120030000.0 -0.58   \n",
       "3731 2024-07-26        11165.9  11102.5  11177.6  11068.7   86560000.0  0.18   \n",
       "3732 2024-07-29        11117.8  11224.4  11254.2  11089.7   76500000.0 -0.43   \n",
       "\n",
       "      target_nasdaq  target_eustoxx   target  ...   PIB_CAN   PIB_AUS  \\\n",
       "0           1886.70         2324.48  1133.00  ...  3.090806  2.226538   \n",
       "1           1888.43         2324.48  1136.50  ...  3.090806  2.226538   \n",
       "2           1878.42         2324.48  1137.10  ...  3.090806  2.226538   \n",
       "3           1876.72         2324.48  1141.70  ...  3.090806  2.226538   \n",
       "4           1892.59         2324.48  1145.00  ...  3.090806  2.226538   \n",
       "...             ...             ...      ...  ...       ...       ...   \n",
       "3728       19754.34         4916.80  5555.74  ...  1.065994  3.016988   \n",
       "3729       19032.39         4861.87  5427.13  ...  1.065994  3.016988   \n",
       "3730       18830.59         4811.28  5399.22  ...  1.065994  3.016988   \n",
       "3731       19023.66         4862.50  5459.10  ...  1.065994  3.016988   \n",
       "3732       19059.49         4815.39  5463.54  ...  1.065994  3.016988   \n",
       "\n",
       "       PIB_ITA   PIB_KOR   PIB_MEX   PIB_IDN   PIB_SAU   PIB_ZAF   PIB_TUR  \\\n",
       "0     1.713296  6.804825  4.971335  6.223854  5.039508  3.039733  8.427104   \n",
       "1     1.713296  6.804825  4.971335  6.223854  5.039508  3.039733  8.427104   \n",
       "2     1.713296  6.804825  4.971335  6.223854  5.039508  3.039733  8.427104   \n",
       "3     1.713296  6.804825  4.971335  6.223854  5.039508  3.039733  8.427104   \n",
       "4     1.713296  6.804825  4.971335  6.223854  5.039508  3.039733  8.427104   \n",
       "...        ...       ...       ...       ...       ...       ...       ...   \n",
       "3728  0.920692  1.356733  3.228737  5.048106 -0.754915  0.601662  4.516867   \n",
       "3729  0.920692  1.356733  3.228737  5.048106 -0.754915  0.601662  4.516867   \n",
       "3730  0.920692  1.356733  3.228737  5.048106 -0.754915  0.601662  4.516867   \n",
       "3731  0.920692  1.356733  3.228737  5.048106 -0.754915  0.601662  4.516867   \n",
       "3732  0.920692  1.356733  3.228737  5.048106 -0.754915  0.601662  4.516867   \n",
       "\n",
       "       PIB_ESP  \n",
       "0     0.162920  \n",
       "1     0.162920  \n",
       "2     0.162920  \n",
       "3     0.162920  \n",
       "4     0.162920  \n",
       "...        ...  \n",
       "3728  2.503294  \n",
       "3729  2.503294  \n",
       "3730  2.503294  \n",
       "3731  2.503294  \n",
       "3732  2.503294  \n",
       "\n",
       "[3733 rows x 36 columns]"
      ]
     },
     "execution_count": 6,
     "metadata": {},
     "output_type": "execute_result"
    }
   ],
   "source": [
    "df"
   ]
  },
  {
   "cell_type": "markdown",
   "id": "56b5f849",
   "metadata": {},
   "source": [
    "## ADD INDICATORS\n"
   ]
  },
  {
   "cell_type": "code",
   "execution_count": 7,
   "id": "ed78615b",
   "metadata": {},
   "outputs": [],
   "source": [
    "# añadimos lags\n",
    "lags = buildLaggedFeatures(df, n_lags, [\"target\"])\n",
    "df = pd.concat([df, lags], axis=1)\n",
    "\n",
    "for i in ma_periods:\n",
    "    df = add_sma(df, period=i)\n",
    "    df = add_ema(df, period=i)\n",
    "\n",
    "df = add_rsi(df)\n",
    "df = add_bollinger_bands(df)\n",
    "df = add_macd(df)\n",
    "df = add_atr(df)\n",
    "\n",
    "# Agregar CCI con diferentes períodos\n",
    "for i in [10,20]:\n",
    "    df = add_cci(df, period=i)\n",
    "\n",
    "# Agregar ROC con diferentes períodos\n",
    "for i in [10, 14, 20]:\n",
    "    df = add_roc(df, period=i)\n",
    "\n",
    "# Agregar Stochastic Oscillator con diferentes períodos\n",
    "df = add_stochastic(df)\n",
    "\n",
    "# Agregar Williams %R con diferentes períodos\n",
    "df = add_williams_r(df)\n",
    "\n",
    "# Suponiendo que ya has agregado los indicadores a df\n",
    "\n",
    "# Crear variables binarias para identificar tendencias\n",
    "# 1. Tendencia alcista/bajista usando medias móviles\n",
    "df['bullish_sma_50_200'] = (df['SMA_50'] > df['SMA_200']).astype(int)  # 1 si la SMA de 50 > SMA de 200\n",
    "df['bearish_sma_50_200'] = (df['SMA_50'] < df['SMA_200']).astype(int)  # 1 si la SMA de 50 < SMA de 200\n",
    "\n",
    "# 2. Tendencia alcista/bajista usando RSI\n",
    "df['bullish_rsi'] = (df['RSI_14'] < 30).astype(int)  # 1 si RSI es menor que 30 (sobreventa)\n",
    "df['bearish_rsi'] = (df['RSI_14'] > 70).astype(int)  # 1 si RSI es mayor que 70 (sobrecompra)\n",
    "\n",
    "# 3. Tendencia alcista/bajista usando Bandas de Bollinger\n",
    "df['bullish_bollinger'] = (df['target'] < df['Bollinger_Lower_20']).astype(int)  # 1 si el precio está por debajo de la banda inferior\n",
    "df['bearish_bollinger'] = (df['target'] > df['Bollinger_Upper_20']).astype(int)  # 1 si el precio está por encima de la banda superior\n",
    "\n",
    "# 4. Tendencia alcista/bajista usando MACD\n",
    "df['bullish_macd'] = (df['MACD'] > df['Signal_Line']).astype(int)  # 1 si MACD es mayor que la señal\n",
    "df['bearish_macd'] = (df['MACD'] < df['Signal_Line']).astype(int)  # 1 si MACD es menor que la señal\n",
    "\n",
    "# 5. Tendencia alcista/bajista usando ATR\n",
    "df['bullish_atr'] = (df['ATR_14'] > df['ATR_14'].rolling(window=14).mean()).astype(int)  # 1 si ATR actual es mayor que la media\n",
    "df['bearish_atr'] = (df['ATR_14'] < df['ATR_14'].rolling(window=14).mean()).astype(int)  # 1 si ATR actual es menor que la media\n",
    "\n",
    "# Ejemplo de combinación de señales para una tendencia general\n",
    "df['bullish_trend'] = ((df['bullish_sma_50_200'] + df['bullish_rsi'] + \n",
    "                        df['bullish_bollinger'] + df['bullish_macd'] + \n",
    "                        df['bullish_atr']) > 2).astype(int)\n",
    "\n",
    "df['bearish_trend'] = ((df['bearish_sma_50_200'] + df['bearish_rsi'] + \n",
    "                        df['bearish_bollinger'] + df['bearish_macd'] + \n",
    "                        df['bearish_atr']) >= 3).astype(int)\n",
    "\n",
    "binary_columns = [\n",
    "    'bullish_sma_50_200', 'bearish_sma_50_200', \n",
    "    'bullish_rsi', 'bearish_rsi', \n",
    "    'bullish_bollinger', 'bearish_bollinger', \n",
    "    'bullish_macd', 'bearish_macd', \n",
    "    'bullish_atr', 'bearish_atr', \n",
    "    'bullish_trend', 'bearish_trend'\n",
    "]\n",
    "\n",
    "# Convertir cada columna binaria a string\n",
    "for col in binary_columns:\n",
    "    df[col] = df[col].astype(str)\n",
    "\n",
    "# Agregar Parabolic SAR (sin período, pero podrías ajustar los factores de aceleración)\n",
    "# data = add_parabolic_sar(data)\n",
    "\n",
    "# Agregar Ichimoku Cloud (no requiere período)\n",
    "# df = add_ichimoku(df)\n",
    "\n",
    "# Calculate ATR (Average True Range)\n",
    "\n",
    "# df[\"ATR\"] = ta.ATR(df[\"max\"], df[\"min\"], df[\"close\"], timeperiod=14)\n",
    "\n",
    "# Calculate ADX (Average Directional Index)\n",
    "# df[\"ADX\"] = ta.ADX(df[\"max\"], df[\"min\"], df[\"close\"], timeperiod=14)\n",
    "\n",
    "\n",
    "# # Calculate CCI (Commodity Channel Index)\n",
    "# df[\"CCI\"] = ta.CCI(df[\"max\"], df[\"min\"], df[\"close\"], timeperiod=14)\n",
    "\n",
    "# # Calculate OBV (On-Balance Volume)\n",
    "# df[\"OBV\"] = ta.OBV(df[\"close\"], df[\"vol\"])\n",
    "\n",
    "# # Calculate Stochastic Oscillator (SlowK, SlowD)\n",
    "# df[\"SlowK\"], df[\"SlowD\"] = ta.STOCH(df[\"max\"], df[\"min\"], df[\"close\"], fastk_period=14, slowk_period=3, slowk_matype=0, slowd_period=3, slowd_matype=0)\n",
    "\n",
    "# df[\"WilliamsR\"] = ta.WILLR(df[\"max\"], df[\"min\"], df[\"close\"], timeperiod=14)"
   ]
  },
  {
   "cell_type": "code",
   "execution_count": 8,
   "id": "8103608c",
   "metadata": {},
   "outputs": [
    {
     "data": {
      "text/html": [
       "<div>\n",
       "<style scoped>\n",
       "    .dataframe tbody tr th:only-of-type {\n",
       "        vertical-align: middle;\n",
       "    }\n",
       "\n",
       "    .dataframe tbody tr th {\n",
       "        vertical-align: top;\n",
       "    }\n",
       "\n",
       "    .dataframe thead th {\n",
       "        text-align: right;\n",
       "    }\n",
       "</style>\n",
       "<table border=\"1\" class=\"dataframe\">\n",
       "  <thead>\n",
       "    <tr style=\"text-align: right;\">\n",
       "      <th></th>\n",
       "      <th>Date</th>\n",
       "      <th>target_ibex35</th>\n",
       "      <th>open</th>\n",
       "      <th>max</th>\n",
       "      <th>min</th>\n",
       "      <th>vol</th>\n",
       "      <th>var</th>\n",
       "      <th>target_nasdaq</th>\n",
       "      <th>target_eustoxx</th>\n",
       "      <th>target</th>\n",
       "      <th>...</th>\n",
       "      <th>bullish_rsi</th>\n",
       "      <th>bearish_rsi</th>\n",
       "      <th>bullish_bollinger</th>\n",
       "      <th>bearish_bollinger</th>\n",
       "      <th>bullish_macd</th>\n",
       "      <th>bearish_macd</th>\n",
       "      <th>bullish_atr</th>\n",
       "      <th>bearish_atr</th>\n",
       "      <th>bullish_trend</th>\n",
       "      <th>bearish_trend</th>\n",
       "    </tr>\n",
       "  </thead>\n",
       "  <tbody>\n",
       "    <tr>\n",
       "      <th>0</th>\n",
       "      <td>2010-01-04</td>\n",
       "      <td>12145.1</td>\n",
       "      <td>11986.5</td>\n",
       "      <td>12145.1</td>\n",
       "      <td>11986.1</td>\n",
       "      <td>184130000.0</td>\n",
       "      <td>1.72</td>\n",
       "      <td>1886.70</td>\n",
       "      <td>2324.48</td>\n",
       "      <td>1133.00</td>\n",
       "      <td>...</td>\n",
       "      <td>0</td>\n",
       "      <td>0</td>\n",
       "      <td>0</td>\n",
       "      <td>0</td>\n",
       "      <td>0</td>\n",
       "      <td>0</td>\n",
       "      <td>0</td>\n",
       "      <td>0</td>\n",
       "      <td>0</td>\n",
       "      <td>0</td>\n",
       "    </tr>\n",
       "    <tr>\n",
       "      <th>1</th>\n",
       "      <td>2010-01-05</td>\n",
       "      <td>12204.4</td>\n",
       "      <td>12141.8</td>\n",
       "      <td>12240.5</td>\n",
       "      <td>12139.8</td>\n",
       "      <td>238430000.0</td>\n",
       "      <td>0.49</td>\n",
       "      <td>1888.43</td>\n",
       "      <td>2324.48</td>\n",
       "      <td>1136.50</td>\n",
       "      <td>...</td>\n",
       "      <td>0</td>\n",
       "      <td>0</td>\n",
       "      <td>0</td>\n",
       "      <td>0</td>\n",
       "      <td>1</td>\n",
       "      <td>0</td>\n",
       "      <td>0</td>\n",
       "      <td>0</td>\n",
       "      <td>0</td>\n",
       "      <td>0</td>\n",
       "    </tr>\n",
       "    <tr>\n",
       "      <th>2</th>\n",
       "      <td>2010-01-06</td>\n",
       "      <td>12222.5</td>\n",
       "      <td>12216.4</td>\n",
       "      <td>12230.7</td>\n",
       "      <td>12147.6</td>\n",
       "      <td>123740000.0</td>\n",
       "      <td>0.15</td>\n",
       "      <td>1878.42</td>\n",
       "      <td>2324.48</td>\n",
       "      <td>1137.10</td>\n",
       "      <td>...</td>\n",
       "      <td>0</td>\n",
       "      <td>0</td>\n",
       "      <td>0</td>\n",
       "      <td>0</td>\n",
       "      <td>1</td>\n",
       "      <td>0</td>\n",
       "      <td>0</td>\n",
       "      <td>0</td>\n",
       "      <td>0</td>\n",
       "      <td>0</td>\n",
       "    </tr>\n",
       "    <tr>\n",
       "      <th>3</th>\n",
       "      <td>2010-01-07</td>\n",
       "      <td>12166.3</td>\n",
       "      <td>12163.0</td>\n",
       "      <td>12199.7</td>\n",
       "      <td>12079.1</td>\n",
       "      <td>192310000.0</td>\n",
       "      <td>-0.46</td>\n",
       "      <td>1876.72</td>\n",
       "      <td>2324.48</td>\n",
       "      <td>1141.70</td>\n",
       "      <td>...</td>\n",
       "      <td>0</td>\n",
       "      <td>0</td>\n",
       "      <td>0</td>\n",
       "      <td>0</td>\n",
       "      <td>1</td>\n",
       "      <td>0</td>\n",
       "      <td>0</td>\n",
       "      <td>0</td>\n",
       "      <td>0</td>\n",
       "      <td>0</td>\n",
       "    </tr>\n",
       "    <tr>\n",
       "      <th>4</th>\n",
       "      <td>2010-01-08</td>\n",
       "      <td>12163.0</td>\n",
       "      <td>12218.0</td>\n",
       "      <td>12232.2</td>\n",
       "      <td>12079.9</td>\n",
       "      <td>213110000.0</td>\n",
       "      <td>-0.03</td>\n",
       "      <td>1892.59</td>\n",
       "      <td>2324.48</td>\n",
       "      <td>1145.00</td>\n",
       "      <td>...</td>\n",
       "      <td>0</td>\n",
       "      <td>0</td>\n",
       "      <td>0</td>\n",
       "      <td>0</td>\n",
       "      <td>1</td>\n",
       "      <td>0</td>\n",
       "      <td>0</td>\n",
       "      <td>0</td>\n",
       "      <td>0</td>\n",
       "      <td>0</td>\n",
       "    </tr>\n",
       "    <tr>\n",
       "      <th>...</th>\n",
       "      <td>...</td>\n",
       "      <td>...</td>\n",
       "      <td>...</td>\n",
       "      <td>...</td>\n",
       "      <td>...</td>\n",
       "      <td>...</td>\n",
       "      <td>...</td>\n",
       "      <td>...</td>\n",
       "      <td>...</td>\n",
       "      <td>...</td>\n",
       "      <td>...</td>\n",
       "      <td>...</td>\n",
       "      <td>...</td>\n",
       "      <td>...</td>\n",
       "      <td>...</td>\n",
       "      <td>...</td>\n",
       "      <td>...</td>\n",
       "      <td>...</td>\n",
       "      <td>...</td>\n",
       "      <td>...</td>\n",
       "      <td>...</td>\n",
       "    </tr>\n",
       "    <tr>\n",
       "      <th>3728</th>\n",
       "      <td>2024-07-23</td>\n",
       "      <td>11212.7</td>\n",
       "      <td>11154.3</td>\n",
       "      <td>11221.8</td>\n",
       "      <td>11097.5</td>\n",
       "      <td>101470000.0</td>\n",
       "      <td>0.62</td>\n",
       "      <td>19754.34</td>\n",
       "      <td>4916.80</td>\n",
       "      <td>5555.74</td>\n",
       "      <td>...</td>\n",
       "      <td>0</td>\n",
       "      <td>0</td>\n",
       "      <td>0</td>\n",
       "      <td>0</td>\n",
       "      <td>0</td>\n",
       "      <td>1</td>\n",
       "      <td>1</td>\n",
       "      <td>0</td>\n",
       "      <td>0</td>\n",
       "      <td>0</td>\n",
       "    </tr>\n",
       "    <tr>\n",
       "      <th>3729</th>\n",
       "      <td>2024-07-24</td>\n",
       "      <td>11210.1</td>\n",
       "      <td>11170.8</td>\n",
       "      <td>11245.5</td>\n",
       "      <td>11154.4</td>\n",
       "      <td>128810000.0</td>\n",
       "      <td>-0.02</td>\n",
       "      <td>19032.39</td>\n",
       "      <td>4861.87</td>\n",
       "      <td>5427.13</td>\n",
       "      <td>...</td>\n",
       "      <td>0</td>\n",
       "      <td>0</td>\n",
       "      <td>1</td>\n",
       "      <td>0</td>\n",
       "      <td>0</td>\n",
       "      <td>1</td>\n",
       "      <td>1</td>\n",
       "      <td>0</td>\n",
       "      <td>1</td>\n",
       "      <td>0</td>\n",
       "    </tr>\n",
       "    <tr>\n",
       "      <th>3730</th>\n",
       "      <td>2024-07-25</td>\n",
       "      <td>11145.6</td>\n",
       "      <td>11132.7</td>\n",
       "      <td>11158.1</td>\n",
       "      <td>11012.0</td>\n",
       "      <td>120030000.0</td>\n",
       "      <td>-0.58</td>\n",
       "      <td>18830.59</td>\n",
       "      <td>4811.28</td>\n",
       "      <td>5399.22</td>\n",
       "      <td>...</td>\n",
       "      <td>0</td>\n",
       "      <td>0</td>\n",
       "      <td>1</td>\n",
       "      <td>0</td>\n",
       "      <td>0</td>\n",
       "      <td>1</td>\n",
       "      <td>1</td>\n",
       "      <td>0</td>\n",
       "      <td>1</td>\n",
       "      <td>0</td>\n",
       "    </tr>\n",
       "    <tr>\n",
       "      <th>3731</th>\n",
       "      <td>2024-07-26</td>\n",
       "      <td>11165.9</td>\n",
       "      <td>11102.5</td>\n",
       "      <td>11177.6</td>\n",
       "      <td>11068.7</td>\n",
       "      <td>86560000.0</td>\n",
       "      <td>0.18</td>\n",
       "      <td>19023.66</td>\n",
       "      <td>4862.50</td>\n",
       "      <td>5459.10</td>\n",
       "      <td>...</td>\n",
       "      <td>0</td>\n",
       "      <td>0</td>\n",
       "      <td>0</td>\n",
       "      <td>0</td>\n",
       "      <td>0</td>\n",
       "      <td>1</td>\n",
       "      <td>1</td>\n",
       "      <td>0</td>\n",
       "      <td>0</td>\n",
       "      <td>0</td>\n",
       "    </tr>\n",
       "    <tr>\n",
       "      <th>3732</th>\n",
       "      <td>2024-07-29</td>\n",
       "      <td>11117.8</td>\n",
       "      <td>11224.4</td>\n",
       "      <td>11254.2</td>\n",
       "      <td>11089.7</td>\n",
       "      <td>76500000.0</td>\n",
       "      <td>-0.43</td>\n",
       "      <td>19059.49</td>\n",
       "      <td>4815.39</td>\n",
       "      <td>5463.54</td>\n",
       "      <td>...</td>\n",
       "      <td>0</td>\n",
       "      <td>0</td>\n",
       "      <td>0</td>\n",
       "      <td>0</td>\n",
       "      <td>0</td>\n",
       "      <td>1</td>\n",
       "      <td>1</td>\n",
       "      <td>0</td>\n",
       "      <td>0</td>\n",
       "      <td>0</td>\n",
       "    </tr>\n",
       "  </tbody>\n",
       "</table>\n",
       "<p>3733 rows × 174 columns</p>\n",
       "</div>"
      ],
      "text/plain": [
       "           Date  target_ibex35     open      max      min          vol   var  \\\n",
       "0    2010-01-04        12145.1  11986.5  12145.1  11986.1  184130000.0  1.72   \n",
       "1    2010-01-05        12204.4  12141.8  12240.5  12139.8  238430000.0  0.49   \n",
       "2    2010-01-06        12222.5  12216.4  12230.7  12147.6  123740000.0  0.15   \n",
       "3    2010-01-07        12166.3  12163.0  12199.7  12079.1  192310000.0 -0.46   \n",
       "4    2010-01-08        12163.0  12218.0  12232.2  12079.9  213110000.0 -0.03   \n",
       "...         ...            ...      ...      ...      ...          ...   ...   \n",
       "3728 2024-07-23        11212.7  11154.3  11221.8  11097.5  101470000.0  0.62   \n",
       "3729 2024-07-24        11210.1  11170.8  11245.5  11154.4  128810000.0 -0.02   \n",
       "3730 2024-07-25        11145.6  11132.7  11158.1  11012.0  120030000.0 -0.58   \n",
       "3731 2024-07-26        11165.9  11102.5  11177.6  11068.7   86560000.0  0.18   \n",
       "3732 2024-07-29        11117.8  11224.4  11254.2  11089.7   76500000.0 -0.43   \n",
       "\n",
       "      target_nasdaq  target_eustoxx   target  ...  bullish_rsi  bearish_rsi  \\\n",
       "0           1886.70         2324.48  1133.00  ...            0            0   \n",
       "1           1888.43         2324.48  1136.50  ...            0            0   \n",
       "2           1878.42         2324.48  1137.10  ...            0            0   \n",
       "3           1876.72         2324.48  1141.70  ...            0            0   \n",
       "4           1892.59         2324.48  1145.00  ...            0            0   \n",
       "...             ...             ...      ...  ...          ...          ...   \n",
       "3728       19754.34         4916.80  5555.74  ...            0            0   \n",
       "3729       19032.39         4861.87  5427.13  ...            0            0   \n",
       "3730       18830.59         4811.28  5399.22  ...            0            0   \n",
       "3731       19023.66         4862.50  5459.10  ...            0            0   \n",
       "3732       19059.49         4815.39  5463.54  ...            0            0   \n",
       "\n",
       "      bullish_bollinger  bearish_bollinger bullish_macd  bearish_macd  \\\n",
       "0                     0                  0            0             0   \n",
       "1                     0                  0            1             0   \n",
       "2                     0                  0            1             0   \n",
       "3                     0                  0            1             0   \n",
       "4                     0                  0            1             0   \n",
       "...                 ...                ...          ...           ...   \n",
       "3728                  0                  0            0             1   \n",
       "3729                  1                  0            0             1   \n",
       "3730                  1                  0            0             1   \n",
       "3731                  0                  0            0             1   \n",
       "3732                  0                  0            0             1   \n",
       "\n",
       "     bullish_atr  bearish_atr  bullish_trend  bearish_trend  \n",
       "0              0            0              0              0  \n",
       "1              0            0              0              0  \n",
       "2              0            0              0              0  \n",
       "3              0            0              0              0  \n",
       "4              0            0              0              0  \n",
       "...          ...          ...            ...            ...  \n",
       "3728           1            0              0              0  \n",
       "3729           1            0              1              0  \n",
       "3730           1            0              1              0  \n",
       "3731           1            0              0              0  \n",
       "3732           1            0              0              0  \n",
       "\n",
       "[3733 rows x 174 columns]"
      ]
     },
     "execution_count": 8,
     "metadata": {},
     "output_type": "execute_result"
    }
   ],
   "source": [
    "df"
   ]
  },
  {
   "cell_type": "code",
   "execution_count": 9,
   "id": "f2bef641",
   "metadata": {},
   "outputs": [],
   "source": [
    "# SHift indicator values\n",
    "cols_to_shift = [col for col in df.columns[3:] if not (col.startswith('AAII') or col.startswith('PIB'))]\n",
    "df[cols_to_shift] = df[cols_to_shift].shift(shift)\n"
   ]
  },
  {
   "cell_type": "code",
   "execution_count": 10,
   "id": "faa75de8",
   "metadata": {},
   "outputs": [],
   "source": [
    "# data = df.copy()\n",
    "# data[\"group\"] = 1\n",
    "\n",
    "# # Supongamos que tu DataFrame se llama 'data' y que la columna 'Date' tiene las fechas\n",
    "# # Crear una lista de días festivos (ejemplo, agrega tus días festivos)\n",
    "# dias_festivos = pd.to_datetime([\"2024-01-01\", \"2024-12-25\", ])  # Añade más días festivos\n",
    "\n",
    "# # Meses del año (de 1 a 12, de manera categórica)\n",
    "# data[\"month\"] = data[\"Date\"].dt.month.astype(\"category\")\n",
    "\n",
    "# # Días del año (de 1 a 365 o 366 en años bisiestos)\n",
    "# data[\"day_of_year\"] = data[\"Date\"].dt.dayofyear.astype(\"category\")\n",
    "\n",
    "# # Días de la semana (de lunes a viernes: 0 = lunes, 4 = viernes)\n",
    "# data[\"weekday\"] = data[\"Date\"].dt.weekday\n",
    "# data = data[data[\"weekday\"] < 5]  # Eliminar sábados (5) y domingos (6)\n",
    "\n",
    "# # Identificar si el día es festivo (1 si es festivo, 0 si no lo es)\n",
    "# data[\"is_holiday\"] = data[\"Date\"].isin(dias_festivos).astype(int)\n",
    "\n",
    "# # data[\"time_idx\"] = data.groupby(group).cumcount()\n",
    "\n",
    "# data[\"time_idx\"] = data.index\n",
    "\n",
    "# # data[\"Low\"].fillna(method=\"ffill\", inplace=True)\n",
    "# # data[\"High\"].fillna(method=\"ffill\", inplace=True)\n"
   ]
  },
  {
   "cell_type": "code",
   "execution_count": 11,
   "id": "179a60de",
   "metadata": {},
   "outputs": [],
   "source": [
    "data = df.copy()\n",
    "data[\"group\"] = 1\n",
    "\n",
    "# Supongamos que tu DataFrame se llama 'data' y que la columna 'Date' tiene las fechas\n",
    "# Crear una lista de días festivos (ejemplo, agrega tus días festivos)\n",
    "dias_festivos = pd.to_datetime([\"2024-01-01\", \"2024-12-25\", ])  # Añade más días festivos\n",
    "\n",
    "# Meses del año (convertir a nombres de meses)\n",
    "data[\"month\"] = data[\"Date\"].dt.strftime('%B')  # Ejemplo: \"January\", \"February\", etc.\n",
    "\n",
    "# Días del año (de 1 a 365 o 366 en años bisiestos), convertir en cadena\n",
    "data[\"day_of_year\"] = data[\"Date\"].dt.dayofyear.astype(str)  # Convertir el número de día a cadena\n",
    "\n",
    "# Días de la semana (de lunes a viernes: 0 = lunes, 4 = viernes), convertir a nombre de día\n",
    "data[\"weekday\"] = data[\"Date\"].dt.strftime('%A')  # Ejemplo: \"Monday\", \"Tuesday\", etc.\n",
    "\n",
    "# Filtrar para eliminar sábados y domingos\n",
    "data = data[data[\"weekday\"].isin([\"Monday\", \"Tuesday\", \"Wednesday\", \"Thursday\", \"Friday\"])]\n",
    "\n",
    "# Identificar si el día es festivo (usar \"Yes\" o \"No\" en lugar de 1 o 0)\n",
    "data[\"is_holiday\"] = data[\"Date\"].isin(dias_festivos).map({True: \"Yes\", False: \"No\"})\n",
    "\n",
    "data[\"time_idx\"] = data.index\n"
   ]
  },
  {
   "cell_type": "code",
   "execution_count": 12,
   "id": "a4f482f2",
   "metadata": {},
   "outputs": [],
   "source": [
    "cols_to_convert = [\n",
    "    \"target\",\n",
    "    \"open\",\n",
    "    \"max\",\n",
    "    \"min\",\n",
    "    \"var\",\n",
    "    \"SMA_5\",\n",
    "    \"EMA_5\",\n",
    "    \"SMA_10\",\n",
    "    \"EMA_10\",\n",
    "    \"SMA_20\",\n",
    "    \"EMA_20\",\n",
    "    \"Bollinger_Upper_20\",\n",
    "    \"Bollinger_Lower_20\",\n",
    "    \"MACD\",\n",
    "    \"Signal_Line\",\n",
    "    \"CCI_10\",\n",
    "    \"CCI_20\",\n",
    "    \"ROC_10\",\n",
    "    \"ROC_14\",\n",
    "    \"ROC_20\",\n",
    "    \"Stochastic_14_K\",\n",
    "    \"Stochastic_14_D\",\n",
    "    \"Williams_%R_14\",\n",
    "    \"VIX\",\n",
    "]\n",
    "\n",
    "data[cols_to_convert] = data[cols_to_convert].apply(pd.to_numeric, errors=\"coerce\")\n",
    "data = data.ffill().bfill()"
   ]
  },
  {
   "cell_type": "markdown",
   "id": "4fa86e03",
   "metadata": {},
   "source": [
    "## TRAIN - TEST SPLIT"
   ]
  },
  {
   "cell_type": "code",
   "execution_count": 13,
   "id": "1c2fd2fb",
   "metadata": {},
   "outputs": [
    {
     "data": {
      "image/png": "[encoded data removed]",
      "text/plain": [
       "<Figure size 720x432 with 1 Axes>"
      ]
     },
     "metadata": {
      "needs_background": "light"
     },
     "output_type": "display_data"
    }
   ],
   "source": [
    "full = data.copy()\n",
    "cols_to_convert = [\"target\", \"open\", \"max\", \"min\", \"var\", \"SMA_5\", \"EMA_5\", \"SMA_10\", \"EMA_10\", \"SMA_20\", \"EMA_20\",\n",
    "                   \"Bollinger_Upper_20\", \"Bollinger_Lower_20\", \"MACD\", \"Signal_Line\", \"CCI_10\", \"CCI_20\", \"ROC_10\",\n",
    "                   \"ROC_14\", \"ROC_20\", \"Stochastic_14_K\", \"Stochastic_14_D\", \"Williams_%R_14\", \"VIX\"]\n",
    "\n",
    "data[cols_to_convert] = data[cols_to_convert].apply(pd.to_numeric, errors='coerce')\n",
    "data = data.ffill().bfill()\n",
    "data = full[:-test_len]\n",
    "test = full[-test_len:]\n",
    "# test[\"target\"] = 0\n",
    "data = data.reset_index(drop=True)\n",
    "data = data.dropna()\n",
    "\n",
    "\n",
    "plt.figure(figsize=(10, 6))\n",
    "plt.plot(data[\"Date\"], data[\"target\"], color=\"blue\", label=\"Train\")\n",
    "plt.plot(test[\"Date\"], test[\"target\"], color=\"green\", label=\"Test\")\n",
    "\n",
    "plt.xlabel(\"Fecha y Hora\")\n",
    "plt.ylabel(\"Precio Spot\")\n",
    "plt.title(\"Precio Spot en función de Fecha y Hora\")\n",
    "plt.legend()\n",
    "plt.grid(True)\n",
    "plt.show()"
   ]
  },
  {
   "cell_type": "markdown",
   "id": "45a04371",
   "metadata": {},
   "source": [
    "<!-- ## DF FINL -->"
   ]
  },
  {
   "cell_type": "markdown",
   "id": "da4fc650",
   "metadata": {},
   "source": [
    "## TimeSeriesDataset"
   ]
  },
  {
   "cell_type": "code",
   "execution_count": 13,
   "id": "39224a5e",
   "metadata": {},
   "outputs": [],
   "source": []
  },
  {
   "cell_type": "code",
   "execution_count": 14,
   "id": "afdbea69",
   "metadata": {
    "metadata": {}
   },
   "outputs": [
    {
     "name": "stderr",
     "output_type": "stream",
     "text": [
      "c:\\Users\\nicov\\AppData\\Local\\Programs\\Python\\Python39\\lib\\site-packages\\pytorch_forecasting\\data\\encoders.py:318: UserWarning: Found 1 unknown classes which were set to NaN\n",
      "  warnings.warn(\n"
     ]
    }
   ],
   "source": [
    "max_prediction_length = pred_len\n",
    "max_encoder_length = n_prev_len \n",
    "# Ajusta training_cutoff para reservar un rango más amplio para la validación\n",
    "validation_size = 50  # ajusta según el tamaño deseado para el conjunto de validación\n",
    "training_cutoff = data[\"time_idx\"].max() - max_prediction_length - validation_size\n",
    "\n",
    "train = TimeSeriesDataSet(\n",
    "    data[lambda x: x.time_idx <= training_cutoff],\n",
    "    time_idx=\"time_idx\",\n",
    "    target=\"target\",\n",
    "    group_ids=[group],\n",
    "    min_encoder_length=max_encoder_length,  # keep encoder length long (as it is in the validation set)\n",
    "    max_encoder_length=max_encoder_length,\n",
    "    # min_prediction_length=24,\n",
    "    max_prediction_length=max_prediction_length,\n",
    "    static_categoricals=[],\n",
    "    static_reals=[],\n",
    "    time_varying_known_categoricals=[\"month\", \"weekday\", \"day_of_year\", \"is_holiday\"],  # group of categorical variables can be treated as one variable\n",
    "    time_varying_known_reals=[\"Date\", \"time_idx\", 'AAII_Bullish',\t'AAII_Neutral',\t'AAII_Bearish', 'FEDFUNDS'] +\n",
    "                                        [col for col in df.columns if col.startswith('PIB')],\n",
    "    time_varying_unknown_categoricals=[\n",
    "        'bullish_sma_50_200',\n",
    "        'bearish_sma_50_200',\n",
    "        'bullish_rsi',\n",
    "        'bearish_rsi',\n",
    "        'bullish_bollinger',\n",
    "        'bearish_bollinger',\n",
    "        'bullish_macd',\n",
    "        'bearish_macd',\n",
    "        'bullish_atr',\n",
    "        'bearish_atr',\n",
    "        'bullish_trend',\n",
    "        'bearish_trend'],\n",
    "    time_varying_unknown_reals=[\n",
    "        \"target\",\n",
    "        \"open\",\n",
    "        \"max\",\n",
    "        \"min\",\n",
    "        # \"vol\",\n",
    "        \"var\",\n",
    "        \"target_lag1\",\n",
    "        \"target_lag2\",\n",
    "        \"target_lag3\",\n",
    "        \"target_lag4\",\n",
    "        \"target_lag5\",\n",
    "        \"SMA_5\",\n",
    "        \"EMA_5\",\n",
    "        \"SMA_10\",\n",
    "        \"EMA_10\",\n",
    "        # \"SMA_15\",\n",
    "        # \"EMA_15\",\n",
    "        \"SMA_20\",\n",
    "        \"EMA_20\",\n",
    "        # \"RSI_20\",\n",
    "        \"Bollinger_Upper_20\",\n",
    "        \"Bollinger_Lower_20\",\n",
    "        \"MACD\",\n",
    "        \"Signal_Line\",\n",
    "        # \"ATR_20\",\n",
    "        \"CCI_10\",\n",
    "        \"CCI_20\",\n",
    "        \"ROC_10\",\n",
    "        \"ROC_14\",\n",
    "        \"ROC_20\",\n",
    "        \"Stochastic_14_K\",\n",
    "        \"Stochastic_14_D\",\n",
    "        \"Williams_%R_14\",\n",
    "        \"VIX\",\n",
    "        \"EUVIX\",\n",
    "        \"target_eustoxx\",\n",
    "        \"target_ibex35\",\n",
    "        \"target_nasdaq\",\n",
    "    ],\n",
    "    # lags={\"target\": list(range(1, 5))},\n",
    "    # target_normalizer=GroupNormalizer(\"standard\", groups=[group], transformation=\"softplus\"),\n",
    "    # use softplus and normalize by group\n",
    "    add_relative_time_idx=True,\n",
    "    add_target_scales=True,\n",
    "    allow_missing_timesteps=True,\n",
    "    # add_encoder_length=True,\n",
    "    categorical_encoders={\n",
    "        \"month\": pytorch_forecasting.data.encoders.NaNLabelEncoder(add_nan=True),\n",
    "        \"weekday\": pytorch_forecasting.data.encoders.NaNLabelEncoder(add_nan=True),\n",
    "        \"day_of_year\": pytorch_forecasting.data.encoders.NaNLabelEncoder(add_nan=True),\n",
    "    },\n",
    ")\n",
    "\n",
    "validation = TimeSeriesDataSet.from_dataset(train,  data, predict=True, stop_randomization=True)\n",
    "# test = TimeSeriesDataSet.from_dataset(training, test_data, predict=True, stop_randomization=True)\n",
    "\n",
    "# create dataloaders for model\n",
    "batch_size = 32  # set this between 32 to 128\n",
    "train_dataloader = train.to_dataloader(\n",
    "    train=True, batch_size=batch_size, num_workers=7, persistent_workers=True\n",
    ")\n",
    "val_dataloader = validation.to_dataloader(\n",
    "    train=False, batch_size=batch_size, num_workers=7, persistent_workers=True\n",
    ")\n",
    "# test_dataloader = test.to_dataloader(train=False, batch_size=batch_size, num_workers=11, persistent_workers=True)"
   ]
  },
  {
   "cell_type": "code",
   "execution_count": 15,
   "id": "9b716d2f",
   "metadata": {},
   "outputs": [
    {
     "name": "stdout",
     "output_type": "stream",
     "text": [
      "75\n"
     ]
    }
   ],
   "source": [
    "validation_data = data[lambda x: x.time_idx > training_cutoff]\n",
    "print(len(validation_data))"
   ]
  },
  {
   "cell_type": "code",
   "execution_count": 16,
   "id": "1db5ef6e",
   "metadata": {},
   "outputs": [
    {
     "data": {
      "text/plain": [
       "TimeSeriesDataSet[length=1](\n",
       "\ttime_idx='time_idx',\n",
       "\ttarget='target',\n",
       "\tgroup_ids=['group'],\n",
       "\tweight=None,\n",
       "\tmax_encoder_length=100,\n",
       "\tmin_encoder_length=100,\n",
       "\tmin_prediction_idx=0,\n",
       "\tmin_prediction_length=25,\n",
       "\tmax_prediction_length=25,\n",
       "\tstatic_categoricals=[],\n",
       "\tstatic_reals=['target_center', 'target_scale'],\n",
       "\ttime_varying_known_categoricals=['month', 'weekday', 'day_of_year', 'is_holiday'],\n",
       "\ttime_varying_known_reals=['Date', 'time_idx', 'AAII_Bullish', 'AAII_Neutral', 'AAII_Bearish', 'FEDFUNDS', 'PIB_USA', 'PIB_CHN', 'PIB_EMU', 'PIB_DEU', 'PIB_FRA', 'PIB_GBR', 'PIB_JPN', 'PIB_IND', 'PIB_BRA', 'PIB_CAN', 'PIB_AUS', 'PIB_ITA', 'PIB_KOR', 'PIB_MEX', 'PIB_IDN', 'PIB_SAU', 'PIB_ZAF', 'PIB_TUR', 'PIB_ESP', 'relative_time_idx'],\n",
       "\ttime_varying_unknown_categoricals=['bullish_sma_50_200', 'bearish_sma_50_200', 'bullish_rsi', 'bearish_rsi', 'bullish_bollinger', 'bearish_bollinger', 'bullish_macd', 'bearish_macd', 'bullish_atr', 'bearish_atr', 'bullish_trend', 'bearish_trend'],\n",
       "\ttime_varying_unknown_reals=['target', 'open', 'max', 'min', 'var', 'target_lag1', 'target_lag2', 'target_lag3', 'target_lag4', 'target_lag5', 'SMA_5', 'EMA_5', 'SMA_10', 'EMA_10', 'SMA_20', 'EMA_20', 'Bollinger_Upper_20', 'Bollinger_Lower_20', 'MACD', 'Signal_Line', 'CCI_10', 'CCI_20', 'ROC_10', 'ROC_14', 'ROC_20', 'Stochastic_14_K', 'Stochastic_14_D', 'Williams_%R_14', 'VIX', 'EUVIX', 'target_eustoxx', 'target_ibex35', 'target_nasdaq'],\n",
       "\tvariable_groups={},\n",
       "\tconstant_fill_strategy={},\n",
       "\tallow_missing_timesteps=True,\n",
       "\tlags={},\n",
       "\tadd_relative_time_idx=True,\n",
       "\tadd_target_scales=True,\n",
       "\tadd_encoder_length=False,\n",
       "\ttarget_normalizer=EncoderNormalizer(\n",
       "\tmethod='standard',\n",
       "\tcenter=True,\n",
       "\tmax_length=None,\n",
       "\ttransformation='relu',\n",
       "\tmethod_kwargs={}\n",
       "),\n",
       "\tcategorical_encoders={'month': NaNLabelEncoder(add_nan=True, warn=True), 'weekday': NaNLabelEncoder(add_nan=True, warn=True), 'day_of_year': NaNLabelEncoder(add_nan=True, warn=True), '__group_id__group': NaNLabelEncoder(add_nan=False, warn=True), 'is_holiday': NaNLabelEncoder(add_nan=False, warn=True), 'bullish_sma_50_200': NaNLabelEncoder(add_nan=False, warn=True), 'bearish_sma_50_200': NaNLabelEncoder(add_nan=False, warn=True), 'bullish_rsi': NaNLabelEncoder(add_nan=False, warn=True), 'bearish_rsi': NaNLabelEncoder(add_nan=False, warn=True), 'bullish_bollinger': NaNLabelEncoder(add_nan=False, warn=True), 'bearish_bollinger': NaNLabelEncoder(add_nan=False, warn=True), 'bullish_macd': NaNLabelEncoder(add_nan=False, warn=True), 'bearish_macd': NaNLabelEncoder(add_nan=False, warn=True), 'bullish_atr': NaNLabelEncoder(add_nan=False, warn=True), 'bearish_atr': NaNLabelEncoder(add_nan=False, warn=True), 'bullish_trend': NaNLabelEncoder(add_nan=False, warn=True), 'bearish_trend': NaNLabelEncoder(add_nan=False, warn=True)},\n",
       "\tscalers={'target_center': StandardScaler(), 'target_scale': StandardScaler(), 'Date': StandardScaler(), 'time_idx': StandardScaler(), 'AAII_Bullish': StandardScaler(), 'AAII_Neutral': StandardScaler(), 'AAII_Bearish': StandardScaler(), 'FEDFUNDS': StandardScaler(), 'PIB_USA': StandardScaler(), 'PIB_CHN': StandardScaler(), 'PIB_EMU': StandardScaler(), 'PIB_DEU': StandardScaler(), 'PIB_FRA': StandardScaler(), 'PIB_GBR': StandardScaler(), 'PIB_JPN': StandardScaler(), 'PIB_IND': StandardScaler(), 'PIB_BRA': StandardScaler(), 'PIB_CAN': StandardScaler(), 'PIB_AUS': StandardScaler(), 'PIB_ITA': StandardScaler(), 'PIB_KOR': StandardScaler(), 'PIB_MEX': StandardScaler(), 'PIB_IDN': StandardScaler(), 'PIB_SAU': StandardScaler(), 'PIB_ZAF': StandardScaler(), 'PIB_TUR': StandardScaler(), 'PIB_ESP': StandardScaler(), 'relative_time_idx': StandardScaler(), 'open': StandardScaler(), 'max': StandardScaler(), 'min': StandardScaler(), 'var': StandardScaler(), 'target_lag1': StandardScaler(), 'target_lag2': StandardScaler(), 'target_lag3': StandardScaler(), 'target_lag4': StandardScaler(), 'target_lag5': StandardScaler(), 'SMA_5': StandardScaler(), 'EMA_5': StandardScaler(), 'SMA_10': StandardScaler(), 'EMA_10': StandardScaler(), 'SMA_20': StandardScaler(), 'EMA_20': StandardScaler(), 'Bollinger_Upper_20': StandardScaler(), 'Bollinger_Lower_20': StandardScaler(), 'MACD': StandardScaler(), 'Signal_Line': StandardScaler(), 'CCI_10': StandardScaler(), 'CCI_20': StandardScaler(), 'ROC_10': StandardScaler(), 'ROC_14': StandardScaler(), 'ROC_20': StandardScaler(), 'Stochastic_14_K': StandardScaler(), 'Stochastic_14_D': StandardScaler(), 'Williams_%R_14': StandardScaler(), 'VIX': StandardScaler(), 'EUVIX': StandardScaler(), 'target_eustoxx': StandardScaler(), 'target_ibex35': StandardScaler(), 'target_nasdaq': StandardScaler()},\n",
       "\trandomize_length=None,\n",
       "\tpredict_mode=True\n",
       ")"
      ]
     },
     "execution_count": 16,
     "metadata": {},
     "output_type": "execute_result"
    }
   ],
   "source": [
    "validation"
   ]
  },
  {
   "cell_type": "markdown",
   "id": "8c2a24e8",
   "metadata": {},
   "source": [
    "\n",
    "# LEARNIG RATE FINDER"
   ]
  },
  {
   "cell_type": "markdown",
   "id": "44fa807d",
   "metadata": {},
   "source": [
    "En primer lugar realizamos un estudio para hallar de forma aproximada el valor optimo de tasa de aprendizaje.  No es recomendable al 100% usar el valor sugerido directamente pues a veces no encuentra el mejor, sin embargo si que da un muy buen punto de partida por donde empezar a probar. Para ello usamos un modelo TFT cualquiera basico."
   ]
  },
  {
   "cell_type": "code",
   "execution_count": 17,
   "id": "54055c1a",
   "metadata": {},
   "outputs": [],
   "source": [
    "if lr_finder:\n",
    "    res = get_best_lr(train, train_dataloader, val_dataloader, **tft_params)\n"
   ]
  },
  {
   "cell_type": "markdown",
   "id": "008a1fdd",
   "metadata": {},
   "source": [
    "# MODELLING"
   ]
  },
  {
   "cell_type": "markdown",
   "id": "927621bc",
   "metadata": {},
   "source": [
    "## TRAIN MODEL"
   ]
  },
  {
   "cell_type": "code",
   "execution_count": 18,
   "id": "152ce290",
   "metadata": {},
   "outputs": [],
   "source": [
    "if not grid_search:\n",
    "    # tft_params[\"learning_rate\"] = 0.01\n",
    "    tft, val_loss = tft_trainer(train, train_dataloader, val_dataloader, max_epochs=epochs, **tft_params)"
   ]
  },
  {
   "cell_type": "markdown",
   "id": "dff7ab74",
   "metadata": {},
   "source": []
  },
  {
   "cell_type": "markdown",
   "id": "6f0f0114",
   "metadata": {},
   "source": [
    "### EVAL MODEL"
   ]
  },
  {
   "cell_type": "code",
   "execution_count": 19,
   "id": "ba6ae28f",
   "metadata": {},
   "outputs": [],
   "source": [
    "if not grid_search:\n",
    "    preds = tft_predict(tft, val_dataloader)\n"
   ]
  },
  {
   "cell_type": "code",
   "execution_count": 20,
   "id": "a670302f",
   "metadata": {},
   "outputs": [
    {
     "data": {
      "text/plain": [
       "True"
      ]
     },
     "execution_count": 20,
     "metadata": {},
     "output_type": "execute_result"
    }
   ],
   "source": [
    "import torch\n",
    "torch.cuda.is_available()"
   ]
  },
  {
   "cell_type": "markdown",
   "id": "54f4ad1d",
   "metadata": {},
   "source": [
    "## GRID SEARCH"
   ]
  },
  {
   "cell_type": "code",
   "execution_count": 21,
   "id": "45763d2b",
   "metadata": {},
   "outputs": [
    {
     "name": "stderr",
     "output_type": "stream",
     "text": [
      "GPU available: True (cuda), used: True\n",
      "TPU available: False, using: 0 TPU cores\n",
      "HPU available: False, using: 0 HPUs\n"
     ]
    },
    {
     "name": "stdout",
     "output_type": "stream",
     "text": [
      "\n",
      " -------------------------------------------------------- \n",
      " Probando combinación aleatoria 1/100: {'gradient_clip_val': 0.03, 'hidden_size': 8, 'dropout': 0.3, 'hidden_continuous_size': 16, 'attention_head_size': 4, 'learning_rate': 0.005, 'loss': MAPE(), 'test_len': 125, 'pred_len': 25, 'n_prev_len': 100}\n"
     ]
    },
    {
     "name": "stderr",
     "output_type": "stream",
     "text": [
      "LOCAL_RANK: 0 - CUDA_VISIBLE_DEVICES: [0]\n"
     ]
    },
    {
     "name": "stdout",
     "output_type": "stream",
     "text": [
      "Epoch 49: 100%|██████████| 32/32 [00:21<00:00,  1.48it/s, v_num=0, train_loss_step=0.0146, val_loss=0.0253, train_loss_epoch=0.0163]"
     ]
    },
    {
     "name": "stderr",
     "output_type": "stream",
     "text": [
      "`Trainer.fit` stopped: `max_epochs=50` reached.\n"
     ]
    },
    {
     "name": "stdout",
     "output_type": "stream",
     "text": [
      "Epoch 49: 100%|██████████| 32/32 [00:22<00:00,  1.44it/s, v_num=0, train_loss_step=0.0146, val_loss=0.0253, train_loss_epoch=0.0163]\n"
     ]
    },
    {
     "name": "stderr",
     "output_type": "stream",
     "text": [
      "LOCAL_RANK: 0 - CUDA_VISIBLE_DEVICES: [0]\n"
     ]
    },
    {
     "name": "stdout",
     "output_type": "stream",
     "text": [
      "Number of parameters in network: 57.4k\n",
      "Training time: 18m 55s\n"
     ]
    },
    {
     "name": "stderr",
     "output_type": "stream",
     "text": [
      "LOCAL_RANK: 0 - CUDA_VISIBLE_DEVICES: [0]\n",
      "LOCAL_RANK: 0 - CUDA_VISIBLE_DEVICES: [0]\n",
      "LOCAL_RANK: 0 - CUDA_VISIBLE_DEVICES: [0]\n",
      "LOCAL_RANK: 0 - CUDA_VISIBLE_DEVICES: [0]\n",
      "GPU available: True (cuda), used: True\n",
      "TPU available: False, using: 0 TPU cores\n",
      "HPU available: False, using: 0 HPUs\n"
     ]
    },
    {
     "name": "stdout",
     "output_type": "stream",
     "text": [
      "Nueva mejor combinación encontrada: {'gradient_clip_val': 0.03, 'hidden_size': 8, 'dropout': 0.3, 'hidden_continuous_size': 16, 'attention_head_size': 4, 'learning_rate': 0.005, 'loss': MAPE(), 'test_len': 125, 'pred_len': 25, 'n_prev_len': 100} con pérdida 0.0253\n",
      "\n",
      " -------------------------------------------------------- \n",
      " Probando combinación aleatoria 2/100: {'gradient_clip_val': 0.01, 'hidden_size': 16, 'dropout': 0.2, 'hidden_continuous_size': 16, 'attention_head_size': 4, 'learning_rate': 0.03, 'loss': MAPE(), 'test_len': 125, 'pred_len': 25, 'n_prev_len': 100}\n"
     ]
    },
    {
     "name": "stderr",
     "output_type": "stream",
     "text": [
      "LOCAL_RANK: 0 - CUDA_VISIBLE_DEVICES: [0]\n"
     ]
    },
    {
     "name": "stdout",
     "output_type": "stream",
     "text": [
      "Epoch 49: 100%|██████████| 32/32 [00:18<00:00,  1.73it/s, v_num=6, train_loss_step=0.0114, val_loss=0.039, train_loss_epoch=0.00945]  "
     ]
    },
    {
     "name": "stderr",
     "output_type": "stream",
     "text": [
      "`Trainer.fit` stopped: `max_epochs=50` reached.\n"
     ]
    },
    {
     "name": "stdout",
     "output_type": "stream",
     "text": [
      "Epoch 49: 100%|██████████| 32/32 [00:19<00:00,  1.68it/s, v_num=6, train_loss_step=0.0114, val_loss=0.039, train_loss_epoch=0.00945]\n"
     ]
    },
    {
     "name": "stderr",
     "output_type": "stream",
     "text": [
      "LOCAL_RANK: 0 - CUDA_VISIBLE_DEVICES: [0]\n"
     ]
    },
    {
     "name": "stdout",
     "output_type": "stream",
     "text": [
      "Number of parameters in network: 148.2k\n",
      "Training time: 15m 46s\n"
     ]
    },
    {
     "name": "stderr",
     "output_type": "stream",
     "text": [
      "LOCAL_RANK: 0 - CUDA_VISIBLE_DEVICES: [0]\n",
      "LOCAL_RANK: 0 - CUDA_VISIBLE_DEVICES: [0]\n",
      "LOCAL_RANK: 0 - CUDA_VISIBLE_DEVICES: [0]\n",
      "LOCAL_RANK: 0 - CUDA_VISIBLE_DEVICES: [0]\n",
      "GPU available: True (cuda), used: True\n",
      "TPU available: False, using: 0 TPU cores\n",
      "HPU available: False, using: 0 HPUs\n",
      "LOCAL_RANK: 0 - CUDA_VISIBLE_DEVICES: [0]\n"
     ]
    },
    {
     "name": "stdout",
     "output_type": "stream",
     "text": [
      "\n",
      " -------------------------------------------------------- \n",
      " Probando combinación aleatoria 3/100: {'gradient_clip_val': 0.03, 'hidden_size': 32, 'dropout': 0.1, 'hidden_continuous_size': 64, 'attention_head_size': 8, 'learning_rate': 0.03, 'loss': MAPE(), 'test_len': 125, 'pred_len': 25, 'n_prev_len': 100}\n",
      "Epoch 49: 100%|██████████| 32/32 [00:22<00:00,  1.45it/s, v_num=12, train_loss_step=0.00753, val_loss=0.0319, train_loss_epoch=0.00812]"
     ]
    },
    {
     "name": "stderr",
     "output_type": "stream",
     "text": [
      "`Trainer.fit` stopped: `max_epochs=50` reached.\n"
     ]
    },
    {
     "name": "stdout",
     "output_type": "stream",
     "text": [
      "Epoch 49: 100%|██████████| 32/32 [00:22<00:00,  1.41it/s, v_num=12, train_loss_step=0.00753, val_loss=0.0319, train_loss_epoch=0.00812]\n"
     ]
    },
    {
     "name": "stderr",
     "output_type": "stream",
     "text": [
      "LOCAL_RANK: 0 - CUDA_VISIBLE_DEVICES: [0]\n"
     ]
    },
    {
     "name": "stdout",
     "output_type": "stream",
     "text": [
      "Number of parameters in network: 730.1k\n",
      "Training time: 19m 38s\n"
     ]
    },
    {
     "name": "stderr",
     "output_type": "stream",
     "text": [
      "LOCAL_RANK: 0 - CUDA_VISIBLE_DEVICES: [0]\n",
      "LOCAL_RANK: 0 - CUDA_VISIBLE_DEVICES: [0]\n",
      "LOCAL_RANK: 0 - CUDA_VISIBLE_DEVICES: [0]\n",
      "LOCAL_RANK: 0 - CUDA_VISIBLE_DEVICES: [0]\n",
      "GPU available: True (cuda), used: True\n",
      "TPU available: False, using: 0 TPU cores\n",
      "HPU available: False, using: 0 HPUs\n",
      "LOCAL_RANK: 0 - CUDA_VISIBLE_DEVICES: [0]\n"
     ]
    },
    {
     "name": "stdout",
     "output_type": "stream",
     "text": [
      "\n",
      " -------------------------------------------------------- \n",
      " Probando combinación aleatoria 4/100: {'gradient_clip_val': 0.03, 'hidden_size': 8, 'dropout': 0.2, 'hidden_continuous_size': 128, 'attention_head_size': 4, 'learning_rate': 0.01, 'loss': MAPE(), 'test_len': 125, 'pred_len': 25, 'n_prev_len': 100}\n",
      "Epoch 49: 100%|██████████| 32/32 [00:20<00:00,  1.55it/s, v_num=18, train_loss_step=0.0112, val_loss=0.0247, train_loss_epoch=0.0136]"
     ]
    },
    {
     "name": "stderr",
     "output_type": "stream",
     "text": [
      "`Trainer.fit` stopped: `max_epochs=50` reached.\n"
     ]
    },
    {
     "name": "stdout",
     "output_type": "stream",
     "text": [
      "Epoch 49: 100%|██████████| 32/32 [00:21<00:00,  1.51it/s, v_num=18, train_loss_step=0.0112, val_loss=0.0247, train_loss_epoch=0.0136]\n"
     ]
    },
    {
     "name": "stderr",
     "output_type": "stream",
     "text": [
      "LOCAL_RANK: 0 - CUDA_VISIBLE_DEVICES: [0]\n"
     ]
    },
    {
     "name": "stdout",
     "output_type": "stream",
     "text": [
      "Number of parameters in network: 225.6k\n",
      "Training time: 18m 59s\n"
     ]
    },
    {
     "name": "stderr",
     "output_type": "stream",
     "text": [
      "LOCAL_RANK: 0 - CUDA_VISIBLE_DEVICES: [0]\n",
      "LOCAL_RANK: 0 - CUDA_VISIBLE_DEVICES: [0]\n",
      "LOCAL_RANK: 0 - CUDA_VISIBLE_DEVICES: [0]\n",
      "LOCAL_RANK: 0 - CUDA_VISIBLE_DEVICES: [0]\n",
      "GPU available: True (cuda), used: True\n",
      "TPU available: False, using: 0 TPU cores\n",
      "HPU available: False, using: 0 HPUs\n"
     ]
    },
    {
     "name": "stdout",
     "output_type": "stream",
     "text": [
      "Nueva mejor combinación encontrada: {'gradient_clip_val': 0.03, 'hidden_size': 8, 'dropout': 0.2, 'hidden_continuous_size': 128, 'attention_head_size': 4, 'learning_rate': 0.01, 'loss': MAPE(), 'test_len': 125, 'pred_len': 25, 'n_prev_len': 100} con pérdida 0.0247\n",
      "\n",
      " -------------------------------------------------------- \n",
      " Probando combinación aleatoria 5/100: {'gradient_clip_val': 0.01, 'hidden_size': 32, 'dropout': 0.1, 'hidden_continuous_size': 64, 'attention_head_size': 8, 'learning_rate': 0.01, 'loss': MAPE(), 'test_len': 125, 'pred_len': 25, 'n_prev_len': 100}\n"
     ]
    },
    {
     "name": "stderr",
     "output_type": "stream",
     "text": [
      "LOCAL_RANK: 0 - CUDA_VISIBLE_DEVICES: [0]\n"
     ]
    },
    {
     "name": "stdout",
     "output_type": "stream",
     "text": [
      "Epoch 49: 100%|██████████| 32/32 [00:22<00:00,  1.40it/s, v_num=24, train_loss_step=0.0133, val_loss=0.0171, train_loss_epoch=0.0107] "
     ]
    },
    {
     "name": "stderr",
     "output_type": "stream",
     "text": [
      "`Trainer.fit` stopped: `max_epochs=50` reached.\n"
     ]
    },
    {
     "name": "stdout",
     "output_type": "stream",
     "text": [
      "Epoch 49: 100%|██████████| 32/32 [00:23<00:00,  1.36it/s, v_num=24, train_loss_step=0.0133, val_loss=0.0171, train_loss_epoch=0.0107]\n"
     ]
    },
    {
     "name": "stderr",
     "output_type": "stream",
     "text": [
      "LOCAL_RANK: 0 - CUDA_VISIBLE_DEVICES: [0]\n"
     ]
    },
    {
     "name": "stdout",
     "output_type": "stream",
     "text": [
      "Number of parameters in network: 730.1k\n",
      "Training time: 19m 43s\n"
     ]
    },
    {
     "name": "stderr",
     "output_type": "stream",
     "text": [
      "LOCAL_RANK: 0 - CUDA_VISIBLE_DEVICES: [0]\n",
      "LOCAL_RANK: 0 - CUDA_VISIBLE_DEVICES: [0]\n",
      "LOCAL_RANK: 0 - CUDA_VISIBLE_DEVICES: [0]\n",
      "LOCAL_RANK: 0 - CUDA_VISIBLE_DEVICES: [0]\n",
      "GPU available: True (cuda), used: True\n",
      "TPU available: False, using: 0 TPU cores\n",
      "HPU available: False, using: 0 HPUs\n"
     ]
    },
    {
     "name": "stdout",
     "output_type": "stream",
     "text": [
      "Nueva mejor combinación encontrada: {'gradient_clip_val': 0.01, 'hidden_size': 32, 'dropout': 0.1, 'hidden_continuous_size': 64, 'attention_head_size': 8, 'learning_rate': 0.01, 'loss': MAPE(), 'test_len': 125, 'pred_len': 25, 'n_prev_len': 100} con pérdida 0.0171\n",
      "\n",
      " -------------------------------------------------------- \n",
      " Probando combinación aleatoria 6/100: {'gradient_clip_val': 0.05, 'hidden_size': 8, 'dropout': 0.2, 'hidden_continuous_size': 128, 'attention_head_size': 4, 'learning_rate': 0.01, 'loss': MAPE(), 'test_len': 125, 'pred_len': 25, 'n_prev_len': 100}\n"
     ]
    },
    {
     "name": "stderr",
     "output_type": "stream",
     "text": [
      "LOCAL_RANK: 0 - CUDA_VISIBLE_DEVICES: [0]\n"
     ]
    },
    {
     "name": "stdout",
     "output_type": "stream",
     "text": [
      "Epoch 49: 100%|██████████| 32/32 [00:20<00:00,  1.56it/s, v_num=30, train_loss_step=0.0188, val_loss=0.0229, train_loss_epoch=0.0144]"
     ]
    },
    {
     "name": "stderr",
     "output_type": "stream",
     "text": [
      "`Trainer.fit` stopped: `max_epochs=50` reached.\n"
     ]
    },
    {
     "name": "stdout",
     "output_type": "stream",
     "text": [
      "Epoch 49: 100%|██████████| 32/32 [00:21<00:00,  1.51it/s, v_num=30, train_loss_step=0.0188, val_loss=0.0229, train_loss_epoch=0.0144]\n"
     ]
    },
    {
     "name": "stderr",
     "output_type": "stream",
     "text": [
      "LOCAL_RANK: 0 - CUDA_VISIBLE_DEVICES: [0]\n"
     ]
    },
    {
     "name": "stdout",
     "output_type": "stream",
     "text": [
      "Number of parameters in network: 225.6k\n",
      "Training time: 18m 58s\n"
     ]
    },
    {
     "name": "stderr",
     "output_type": "stream",
     "text": [
      "LOCAL_RANK: 0 - CUDA_VISIBLE_DEVICES: [0]\n",
      "LOCAL_RANK: 0 - CUDA_VISIBLE_DEVICES: [0]\n",
      "LOCAL_RANK: 0 - CUDA_VISIBLE_DEVICES: [0]\n",
      "LOCAL_RANK: 0 - CUDA_VISIBLE_DEVICES: [0]\n",
      "GPU available: True (cuda), used: True\n",
      "TPU available: False, using: 0 TPU cores\n",
      "HPU available: False, using: 0 HPUs\n"
     ]
    },
    {
     "name": "stdout",
     "output_type": "stream",
     "text": [
      "\n",
      " -------------------------------------------------------- \n",
      " Probando combinación aleatoria 7/100: {'gradient_clip_val': 0.03, 'hidden_size': 8, 'dropout': 0.2, 'hidden_continuous_size': 64, 'attention_head_size': 16, 'learning_rate': 0.03, 'loss': MAPE(), 'test_len': 125, 'pred_len': 25, 'n_prev_len': 100}\n"
     ]
    },
    {
     "name": "stderr",
     "output_type": "stream",
     "text": [
      "LOCAL_RANK: 0 - CUDA_VISIBLE_DEVICES: [0]\n"
     ]
    },
    {
     "name": "stdout",
     "output_type": "stream",
     "text": [
      "Epoch 49: 100%|██████████| 32/32 [00:19<00:00,  1.61it/s, v_num=36, train_loss_step=0.0145, val_loss=0.0385, train_loss_epoch=0.0124] "
     ]
    },
    {
     "name": "stderr",
     "output_type": "stream",
     "text": [
      "`Trainer.fit` stopped: `max_epochs=50` reached.\n"
     ]
    },
    {
     "name": "stdout",
     "output_type": "stream",
     "text": [
      "Epoch 49: 100%|██████████| 32/32 [00:20<00:00,  1.56it/s, v_num=36, train_loss_step=0.0145, val_loss=0.0385, train_loss_epoch=0.0124]\n"
     ]
    },
    {
     "name": "stderr",
     "output_type": "stream",
     "text": [
      "LOCAL_RANK: 0 - CUDA_VISIBLE_DEVICES: [0]\n"
     ]
    },
    {
     "name": "stdout",
     "output_type": "stream",
     "text": [
      "Number of parameters in network: 129.3k\n",
      "Training time: 19m 11s\n"
     ]
    },
    {
     "name": "stderr",
     "output_type": "stream",
     "text": [
      "LOCAL_RANK: 0 - CUDA_VISIBLE_DEVICES: [0]\n",
      "LOCAL_RANK: 0 - CUDA_VISIBLE_DEVICES: [0]\n",
      "LOCAL_RANK: 0 - CUDA_VISIBLE_DEVICES: [0]\n",
      "LOCAL_RANK: 0 - CUDA_VISIBLE_DEVICES: [0]\n",
      "GPU available: True (cuda), used: True\n",
      "TPU available: False, using: 0 TPU cores\n",
      "HPU available: False, using: 0 HPUs\n",
      "LOCAL_RANK: 0 - CUDA_VISIBLE_DEVICES: [0]\n"
     ]
    },
    {
     "name": "stdout",
     "output_type": "stream",
     "text": [
      "\n",
      " -------------------------------------------------------- \n",
      " Probando combinación aleatoria 8/100: {'gradient_clip_val': 0.03, 'hidden_size': 32, 'dropout': 0.3, 'hidden_continuous_size': 64, 'attention_head_size': 16, 'learning_rate': 0.03, 'loss': MAPE(), 'test_len': 125, 'pred_len': 25, 'n_prev_len': 100}\n",
      "Epoch 49: 100%|██████████| 32/32 [00:22<00:00,  1.41it/s, v_num=42, train_loss_step=0.00864, val_loss=0.0226, train_loss_epoch=0.00916]"
     ]
    },
    {
     "name": "stderr",
     "output_type": "stream",
     "text": [
      "`Trainer.fit` stopped: `max_epochs=50` reached.\n"
     ]
    },
    {
     "name": "stdout",
     "output_type": "stream",
     "text": [
      "Epoch 49: 100%|██████████| 32/32 [00:23<00:00,  1.37it/s, v_num=42, train_loss_step=0.00864, val_loss=0.0226, train_loss_epoch=0.00916]\n"
     ]
    },
    {
     "name": "stderr",
     "output_type": "stream",
     "text": [
      "LOCAL_RANK: 0 - CUDA_VISIBLE_DEVICES: [0]\n"
     ]
    },
    {
     "name": "stdout",
     "output_type": "stream",
     "text": [
      "Number of parameters in network: 730.0k\n",
      "Training time: 20m 2s\n"
     ]
    },
    {
     "name": "stderr",
     "output_type": "stream",
     "text": [
      "LOCAL_RANK: 0 - CUDA_VISIBLE_DEVICES: [0]\n",
      "LOCAL_RANK: 0 - CUDA_VISIBLE_DEVICES: [0]\n",
      "LOCAL_RANK: 0 - CUDA_VISIBLE_DEVICES: [0]\n",
      "LOCAL_RANK: 0 - CUDA_VISIBLE_DEVICES: [0]\n",
      "GPU available: True (cuda), used: True\n",
      "TPU available: False, using: 0 TPU cores\n",
      "HPU available: False, using: 0 HPUs\n",
      "LOCAL_RANK: 0 - CUDA_VISIBLE_DEVICES: [0]\n"
     ]
    },
    {
     "name": "stdout",
     "output_type": "stream",
     "text": [
      "\n",
      " -------------------------------------------------------- \n",
      " Probando combinación aleatoria 9/100: {'gradient_clip_val': 0.01, 'hidden_size': 8, 'dropout': 0.2, 'hidden_continuous_size': 128, 'attention_head_size': 16, 'learning_rate': 0.01, 'loss': MAPE(), 'test_len': 125, 'pred_len': 25, 'n_prev_len': 100}\n",
      "Epoch 49: 100%|██████████| 32/32 [00:22<00:00,  1.42it/s, v_num=48, train_loss_step=0.0176, val_loss=0.0343, train_loss_epoch=0.0144]"
     ]
    },
    {
     "name": "stderr",
     "output_type": "stream",
     "text": [
      "`Trainer.fit` stopped: `max_epochs=50` reached.\n"
     ]
    },
    {
     "name": "stdout",
     "output_type": "stream",
     "text": [
      "Epoch 49: 100%|██████████| 32/32 [00:23<00:00,  1.38it/s, v_num=48, train_loss_step=0.0176, val_loss=0.0343, train_loss_epoch=0.0144]\n"
     ]
    },
    {
     "name": "stderr",
     "output_type": "stream",
     "text": [
      "LOCAL_RANK: 0 - CUDA_VISIBLE_DEVICES: [0]\n"
     ]
    },
    {
     "name": "stdout",
     "output_type": "stream",
     "text": [
      "Number of parameters in network: 225.4k\n",
      "Training time: 19m 21s\n"
     ]
    },
    {
     "name": "stderr",
     "output_type": "stream",
     "text": [
      "LOCAL_RANK: 0 - CUDA_VISIBLE_DEVICES: [0]\n",
      "LOCAL_RANK: 0 - CUDA_VISIBLE_DEVICES: [0]\n",
      "LOCAL_RANK: 0 - CUDA_VISIBLE_DEVICES: [0]\n",
      "LOCAL_RANK: 0 - CUDA_VISIBLE_DEVICES: [0]\n",
      "GPU available: True (cuda), used: True\n",
      "TPU available: False, using: 0 TPU cores\n",
      "HPU available: False, using: 0 HPUs\n",
      "LOCAL_RANK: 0 - CUDA_VISIBLE_DEVICES: [0]\n"
     ]
    },
    {
     "name": "stdout",
     "output_type": "stream",
     "text": [
      "\n",
      " -------------------------------------------------------- \n",
      " Probando combinación aleatoria 10/100: {'gradient_clip_val': 0.05, 'hidden_size': 8, 'dropout': 0.2, 'hidden_continuous_size': 16, 'attention_head_size': 8, 'learning_rate': 0.03, 'loss': MAPE(), 'test_len': 125, 'pred_len': 25, 'n_prev_len': 100}\n",
      "Epoch 49: 100%|██████████| 32/32 [00:22<00:00,  1.39it/s, v_num=54, train_loss_step=0.012, val_loss=0.0125, train_loss_epoch=0.0125]  "
     ]
    },
    {
     "name": "stderr",
     "output_type": "stream",
     "text": [
      "`Trainer.fit` stopped: `max_epochs=50` reached.\n"
     ]
    },
    {
     "name": "stdout",
     "output_type": "stream",
     "text": [
      "Epoch 49: 100%|██████████| 32/32 [00:23<00:00,  1.35it/s, v_num=54, train_loss_step=0.012, val_loss=0.0125, train_loss_epoch=0.0125]\n"
     ]
    },
    {
     "name": "stderr",
     "output_type": "stream",
     "text": [
      "LOCAL_RANK: 0 - CUDA_VISIBLE_DEVICES: [0]\n"
     ]
    },
    {
     "name": "stdout",
     "output_type": "stream",
     "text": [
      "Number of parameters in network: 57.4k\n",
      "Training time: 20m 19s\n"
     ]
    },
    {
     "name": "stderr",
     "output_type": "stream",
     "text": [
      "LOCAL_RANK: 0 - CUDA_VISIBLE_DEVICES: [0]\n",
      "LOCAL_RANK: 0 - CUDA_VISIBLE_DEVICES: [0]\n",
      "LOCAL_RANK: 0 - CUDA_VISIBLE_DEVICES: [0]\n",
      "LOCAL_RANK: 0 - CUDA_VISIBLE_DEVICES: [0]\n",
      "GPU available: True (cuda), used: True\n",
      "TPU available: False, using: 0 TPU cores\n",
      "HPU available: False, using: 0 HPUs\n"
     ]
    },
    {
     "name": "stdout",
     "output_type": "stream",
     "text": [
      "Nueva mejor combinación encontrada: {'gradient_clip_val': 0.05, 'hidden_size': 8, 'dropout': 0.2, 'hidden_continuous_size': 16, 'attention_head_size': 8, 'learning_rate': 0.03, 'loss': MAPE(), 'test_len': 125, 'pred_len': 25, 'n_prev_len': 100} con pérdida 0.0125\n",
      "\n",
      " -------------------------------------------------------- \n",
      " Probando combinación aleatoria 11/100: {'gradient_clip_val': 0.05, 'hidden_size': 32, 'dropout': 0.3, 'hidden_continuous_size': 128, 'attention_head_size': 16, 'learning_rate': 0.01, 'loss': MAPE(), 'test_len': 125, 'pred_len': 25, 'n_prev_len': 100}\n"
     ]
    },
    {
     "name": "stderr",
     "output_type": "stream",
     "text": [
      "LOCAL_RANK: 0 - CUDA_VISIBLE_DEVICES: [0]\n"
     ]
    },
    {
     "name": "stdout",
     "output_type": "stream",
     "text": [
      "Epoch 49: 100%|██████████| 32/32 [00:26<00:00,  1.22it/s, v_num=60, train_loss_step=0.0118, val_loss=0.0371, train_loss_epoch=0.0125] "
     ]
    },
    {
     "name": "stderr",
     "output_type": "stream",
     "text": [
      "`Trainer.fit` stopped: `max_epochs=50` reached.\n"
     ]
    },
    {
     "name": "stdout",
     "output_type": "stream",
     "text": [
      "Epoch 49: 100%|██████████| 32/32 [00:27<00:00,  1.18it/s, v_num=60, train_loss_step=0.0118, val_loss=0.0371, train_loss_epoch=0.0125]\n"
     ]
    },
    {
     "name": "stderr",
     "output_type": "stream",
     "text": [
      "LOCAL_RANK: 0 - CUDA_VISIBLE_DEVICES: [0]\n"
     ]
    },
    {
     "name": "stdout",
     "output_type": "stream",
     "text": [
      "Number of parameters in network: 1087.0k\n",
      "Training time: 23m 1s\n"
     ]
    },
    {
     "name": "stderr",
     "output_type": "stream",
     "text": [
      "LOCAL_RANK: 0 - CUDA_VISIBLE_DEVICES: [0]\n",
      "LOCAL_RANK: 0 - CUDA_VISIBLE_DEVICES: [0]\n",
      "LOCAL_RANK: 0 - CUDA_VISIBLE_DEVICES: [0]\n",
      "LOCAL_RANK: 0 - CUDA_VISIBLE_DEVICES: [0]\n",
      "GPU available: True (cuda), used: True\n",
      "TPU available: False, using: 0 TPU cores\n",
      "HPU available: False, using: 0 HPUs\n",
      "LOCAL_RANK: 0 - CUDA_VISIBLE_DEVICES: [0]\n"
     ]
    },
    {
     "name": "stdout",
     "output_type": "stream",
     "text": [
      "\n",
      " -------------------------------------------------------- \n",
      " Probando combinación aleatoria 12/100: {'gradient_clip_val': 0.03, 'hidden_size': 8, 'dropout': 0.1, 'hidden_continuous_size': 128, 'attention_head_size': 16, 'learning_rate': 0.005, 'loss': MAPE(), 'test_len': 125, 'pred_len': 25, 'n_prev_len': 100}\n",
      "Epoch 49: 100%|██████████| 32/32 [00:23<00:00,  1.34it/s, v_num=66, train_loss_step=0.0157, val_loss=0.0136, train_loss_epoch=0.014] "
     ]
    },
    {
     "name": "stderr",
     "output_type": "stream",
     "text": [
      "`Trainer.fit` stopped: `max_epochs=50` reached.\n"
     ]
    },
    {
     "name": "stdout",
     "output_type": "stream",
     "text": [
      "Epoch 49: 100%|██████████| 32/32 [00:24<00:00,  1.30it/s, v_num=66, train_loss_step=0.0157, val_loss=0.0136, train_loss_epoch=0.014]\n",
      "Number of parameters in network: 225.4k\n",
      "Training time: 22m 2s\n"
     ]
    },
    {
     "name": "stderr",
     "output_type": "stream",
     "text": [
      "LOCAL_RANK: 0 - CUDA_VISIBLE_DEVICES: [0]\n",
      "LOCAL_RANK: 0 - CUDA_VISIBLE_DEVICES: [0]\n",
      "LOCAL_RANK: 0 - CUDA_VISIBLE_DEVICES: [0]\n",
      "LOCAL_RANK: 0 - CUDA_VISIBLE_DEVICES: [0]\n",
      "LOCAL_RANK: 0 - CUDA_VISIBLE_DEVICES: [0]\n",
      "GPU available: True (cuda), used: True\n",
      "TPU available: False, using: 0 TPU cores\n",
      "HPU available: False, using: 0 HPUs\n",
      "LOCAL_RANK: 0 - CUDA_VISIBLE_DEVICES: [0]\n"
     ]
    },
    {
     "name": "stdout",
     "output_type": "stream",
     "text": [
      "\n",
      " -------------------------------------------------------- \n",
      " Probando combinación aleatoria 13/100: {'gradient_clip_val': 0.01, 'hidden_size': 32, 'dropout': 0.2, 'hidden_continuous_size': 16, 'attention_head_size': 16, 'learning_rate': 0.01, 'loss': MAPE(), 'test_len': 125, 'pred_len': 25, 'n_prev_len': 100}\n",
      "Epoch 49: 100%|██████████| 32/32 [00:25<00:00,  1.24it/s, v_num=72, train_loss_step=0.0113, val_loss=0.0395, train_loss_epoch=0.0118] "
     ]
    },
    {
     "name": "stderr",
     "output_type": "stream",
     "text": [
      "`Trainer.fit` stopped: `max_epochs=50` reached.\n"
     ]
    },
    {
     "name": "stdout",
     "output_type": "stream",
     "text": [
      "Epoch 49: 100%|██████████| 32/32 [00:26<00:00,  1.21it/s, v_num=72, train_loss_step=0.0113, val_loss=0.0395, train_loss_epoch=0.0118]\n",
      "Number of parameters in network: 281.3k\n",
      "Training time: 23m 9s\n"
     ]
    },
    {
     "name": "stderr",
     "output_type": "stream",
     "text": [
      "LOCAL_RANK: 0 - CUDA_VISIBLE_DEVICES: [0]\n",
      "LOCAL_RANK: 0 - CUDA_VISIBLE_DEVICES: [0]\n",
      "LOCAL_RANK: 0 - CUDA_VISIBLE_DEVICES: [0]\n",
      "LOCAL_RANK: 0 - CUDA_VISIBLE_DEVICES: [0]\n",
      "LOCAL_RANK: 0 - CUDA_VISIBLE_DEVICES: [0]\n",
      "GPU available: True (cuda), used: True\n",
      "TPU available: False, using: 0 TPU cores\n",
      "HPU available: False, using: 0 HPUs\n",
      "LOCAL_RANK: 0 - CUDA_VISIBLE_DEVICES: [0]\n"
     ]
    },
    {
     "name": "stdout",
     "output_type": "stream",
     "text": [
      "\n",
      " -------------------------------------------------------- \n",
      " Probando combinación aleatoria 14/100: {'gradient_clip_val': 0.05, 'hidden_size': 16, 'dropout': 0.3, 'hidden_continuous_size': 16, 'attention_head_size': 16, 'learning_rate': 0.01, 'loss': MAPE(), 'test_len': 125, 'pred_len': 25, 'n_prev_len': 100}\n",
      "Epoch 49: 100%|██████████| 32/32 [00:19<00:00,  1.65it/s, v_num=78, train_loss_step=0.0137, val_loss=0.0272, train_loss_epoch=0.0135]"
     ]
    },
    {
     "name": "stderr",
     "output_type": "stream",
     "text": [
      "`Trainer.fit` stopped: `max_epochs=50` reached.\n"
     ]
    },
    {
     "name": "stdout",
     "output_type": "stream",
     "text": [
      "Epoch 49: 100%|██████████| 32/32 [00:19<00:00,  1.60it/s, v_num=78, train_loss_step=0.0137, val_loss=0.0272, train_loss_epoch=0.0135]\n",
      "Number of parameters in network: 148.1k\n",
      "Training time: 18m 13s\n"
     ]
    },
    {
     "name": "stderr",
     "output_type": "stream",
     "text": [
      "LOCAL_RANK: 0 - CUDA_VISIBLE_DEVICES: [0]\n",
      "LOCAL_RANK: 0 - CUDA_VISIBLE_DEVICES: [0]\n",
      "LOCAL_RANK: 0 - CUDA_VISIBLE_DEVICES: [0]\n",
      "LOCAL_RANK: 0 - CUDA_VISIBLE_DEVICES: [0]\n",
      "LOCAL_RANK: 0 - CUDA_VISIBLE_DEVICES: [0]\n",
      "GPU available: True (cuda), used: True\n",
      "TPU available: False, using: 0 TPU cores\n",
      "HPU available: False, using: 0 HPUs\n",
      "LOCAL_RANK: 0 - CUDA_VISIBLE_DEVICES: [0]\n"
     ]
    },
    {
     "name": "stdout",
     "output_type": "stream",
     "text": [
      "\n",
      " -------------------------------------------------------- \n",
      " Probando combinación aleatoria 15/100: {'gradient_clip_val': 0.03, 'hidden_size': 32, 'dropout': 0.1, 'hidden_continuous_size': 16, 'attention_head_size': 16, 'learning_rate': 0.03, 'loss': MAPE(), 'test_len': 125, 'pred_len': 25, 'n_prev_len': 100}\n",
      "Epoch 49: 100%|██████████| 32/32 [00:23<00:00,  1.36it/s, v_num=84, train_loss_step=0.00708, val_loss=0.0398, train_loss_epoch=0.00709]"
     ]
    },
    {
     "name": "stderr",
     "output_type": "stream",
     "text": [
      "`Trainer.fit` stopped: `max_epochs=50` reached.\n"
     ]
    },
    {
     "name": "stdout",
     "output_type": "stream",
     "text": [
      "Epoch 49: 100%|██████████| 32/32 [00:24<00:00,  1.31it/s, v_num=84, train_loss_step=0.00708, val_loss=0.0398, train_loss_epoch=0.00709]\n",
      "Number of parameters in network: 281.3k\n",
      "Training time: 23m 27s\n"
     ]
    },
    {
     "name": "stderr",
     "output_type": "stream",
     "text": [
      "LOCAL_RANK: 0 - CUDA_VISIBLE_DEVICES: [0]\n",
      "LOCAL_RANK: 0 - CUDA_VISIBLE_DEVICES: [0]\n",
      "LOCAL_RANK: 0 - CUDA_VISIBLE_DEVICES: [0]\n",
      "LOCAL_RANK: 0 - CUDA_VISIBLE_DEVICES: [0]\n",
      "LOCAL_RANK: 0 - CUDA_VISIBLE_DEVICES: [0]\n",
      "GPU available: True (cuda), used: True\n",
      "TPU available: False, using: 0 TPU cores\n",
      "HPU available: False, using: 0 HPUs\n",
      "LOCAL_RANK: 0 - CUDA_VISIBLE_DEVICES: [0]\n"
     ]
    },
    {
     "name": "stdout",
     "output_type": "stream",
     "text": [
      "\n",
      " -------------------------------------------------------- \n",
      " Probando combinación aleatoria 16/100: {'gradient_clip_val': 0.01, 'hidden_size': 8, 'dropout': 0.2, 'hidden_continuous_size': 128, 'attention_head_size': 8, 'learning_rate': 0.005, 'loss': MAPE(), 'test_len': 125, 'pred_len': 25, 'n_prev_len': 100}\n",
      "Epoch 49: 100%|██████████| 32/32 [00:27<00:00,  1.15it/s, v_num=90, train_loss_step=0.0125, val_loss=0.016, train_loss_epoch=0.015]  "
     ]
    },
    {
     "name": "stderr",
     "output_type": "stream",
     "text": [
      "`Trainer.fit` stopped: `max_epochs=50` reached.\n"
     ]
    },
    {
     "name": "stdout",
     "output_type": "stream",
     "text": [
      "Epoch 49: 100%|██████████| 32/32 [00:28<00:00,  1.12it/s, v_num=90, train_loss_step=0.0125, val_loss=0.016, train_loss_epoch=0.015]\n",
      "Number of parameters in network: 225.6k\n",
      "Training time: 24m 52s\n"
     ]
    },
    {
     "name": "stderr",
     "output_type": "stream",
     "text": [
      "LOCAL_RANK: 0 - CUDA_VISIBLE_DEVICES: [0]\n",
      "LOCAL_RANK: 0 - CUDA_VISIBLE_DEVICES: [0]\n",
      "LOCAL_RANK: 0 - CUDA_VISIBLE_DEVICES: [0]\n",
      "LOCAL_RANK: 0 - CUDA_VISIBLE_DEVICES: [0]\n",
      "LOCAL_RANK: 0 - CUDA_VISIBLE_DEVICES: [0]\n",
      "GPU available: True (cuda), used: True\n",
      "TPU available: False, using: 0 TPU cores\n",
      "HPU available: False, using: 0 HPUs\n"
     ]
    },
    {
     "name": "stdout",
     "output_type": "stream",
     "text": [
      "\n",
      " -------------------------------------------------------- \n",
      " Probando combinación aleatoria 17/100: {'gradient_clip_val': 0.05, 'hidden_size': 8, 'dropout': 0.1, 'hidden_continuous_size': 128, 'attention_head_size': 4, 'learning_rate': 0.03, 'loss': MAPE(), 'test_len': 125, 'pred_len': 25, 'n_prev_len': 100}\n"
     ]
    },
    {
     "name": "stderr",
     "output_type": "stream",
     "text": [
      "LOCAL_RANK: 0 - CUDA_VISIBLE_DEVICES: [0]\n"
     ]
    },
    {
     "name": "stdout",
     "output_type": "stream",
     "text": [
      "Epoch 49: 100%|██████████| 32/32 [00:25<00:00,  1.26it/s, v_num=96, train_loss_step=0.0134, val_loss=0.0159, train_loss_epoch=0.0123] "
     ]
    },
    {
     "name": "stderr",
     "output_type": "stream",
     "text": [
      "`Trainer.fit` stopped: `max_epochs=50` reached.\n"
     ]
    },
    {
     "name": "stdout",
     "output_type": "stream",
     "text": [
      "Epoch 49: 100%|██████████| 32/32 [00:26<00:00,  1.22it/s, v_num=96, train_loss_step=0.0134, val_loss=0.0159, train_loss_epoch=0.0123]\n",
      "Number of parameters in network: 225.6k\n",
      "Training time: 23m 54s\n"
     ]
    },
    {
     "name": "stderr",
     "output_type": "stream",
     "text": [
      "LOCAL_RANK: 0 - CUDA_VISIBLE_DEVICES: [0]\n",
      "LOCAL_RANK: 0 - CUDA_VISIBLE_DEVICES: [0]\n",
      "LOCAL_RANK: 0 - CUDA_VISIBLE_DEVICES: [0]\n",
      "LOCAL_RANK: 0 - CUDA_VISIBLE_DEVICES: [0]\n",
      "LOCAL_RANK: 0 - CUDA_VISIBLE_DEVICES: [0]\n",
      "GPU available: True (cuda), used: True\n",
      "TPU available: False, using: 0 TPU cores\n",
      "HPU available: False, using: 0 HPUs\n",
      "LOCAL_RANK: 0 - CUDA_VISIBLE_DEVICES: [0]\n"
     ]
    },
    {
     "name": "stdout",
     "output_type": "stream",
     "text": [
      "\n",
      " -------------------------------------------------------- \n",
      " Probando combinación aleatoria 18/100: {'gradient_clip_val': 0.01, 'hidden_size': 32, 'dropout': 0.2, 'hidden_continuous_size': 64, 'attention_head_size': 16, 'learning_rate': 0.03, 'loss': MAPE(), 'test_len': 125, 'pred_len': 25, 'n_prev_len': 100}\n",
      "Epoch 49: 100%|██████████| 32/32 [00:23<00:00,  1.38it/s, v_num=102, train_loss_step=0.00753, val_loss=0.061, train_loss_epoch=0.00808] "
     ]
    },
    {
     "name": "stderr",
     "output_type": "stream",
     "text": [
      "`Trainer.fit` stopped: `max_epochs=50` reached.\n"
     ]
    },
    {
     "name": "stdout",
     "output_type": "stream",
     "text": [
      "Epoch 49: 100%|██████████| 32/32 [00:23<00:00,  1.33it/s, v_num=102, train_loss_step=0.00753, val_loss=0.061, train_loss_epoch=0.00808]\n",
      "Number of parameters in network: 730.0k\n",
      "Training time: 23m 7s\n"
     ]
    },
    {
     "name": "stderr",
     "output_type": "stream",
     "text": [
      "LOCAL_RANK: 0 - CUDA_VISIBLE_DEVICES: [0]\n",
      "LOCAL_RANK: 0 - CUDA_VISIBLE_DEVICES: [0]\n",
      "LOCAL_RANK: 0 - CUDA_VISIBLE_DEVICES: [0]\n",
      "LOCAL_RANK: 0 - CUDA_VISIBLE_DEVICES: [0]\n",
      "LOCAL_RANK: 0 - CUDA_VISIBLE_DEVICES: [0]\n",
      "GPU available: True (cuda), used: True\n",
      "TPU available: False, using: 0 TPU cores\n",
      "HPU available: False, using: 0 HPUs\n",
      "LOCAL_RANK: 0 - CUDA_VISIBLE_DEVICES: [0]\n"
     ]
    },
    {
     "name": "stdout",
     "output_type": "stream",
     "text": [
      "\n",
      " -------------------------------------------------------- \n",
      " Probando combinación aleatoria 19/100: {'gradient_clip_val': 0.01, 'hidden_size': 8, 'dropout': 0.2, 'hidden_continuous_size': 16, 'attention_head_size': 16, 'learning_rate': 0.01, 'loss': MAPE(), 'test_len': 125, 'pred_len': 25, 'n_prev_len': 100}\n",
      "Epoch 49: 100%|██████████| 32/32 [00:20<00:00,  1.55it/s, v_num=108, train_loss_step=0.0145, val_loss=0.021, train_loss_epoch=0.0143] "
     ]
    },
    {
     "name": "stderr",
     "output_type": "stream",
     "text": [
      "`Trainer.fit` stopped: `max_epochs=50` reached.\n"
     ]
    },
    {
     "name": "stdout",
     "output_type": "stream",
     "text": [
      "Epoch 49: 100%|██████████| 32/32 [00:21<00:00,  1.50it/s, v_num=108, train_loss_step=0.0145, val_loss=0.021, train_loss_epoch=0.0143]\n",
      "Number of parameters in network: 57.2k\n",
      "Training time: 20m 5s\n"
     ]
    },
    {
     "name": "stderr",
     "output_type": "stream",
     "text": [
      "LOCAL_RANK: 0 - CUDA_VISIBLE_DEVICES: [0]\n",
      "LOCAL_RANK: 0 - CUDA_VISIBLE_DEVICES: [0]\n",
      "LOCAL_RANK: 0 - CUDA_VISIBLE_DEVICES: [0]\n",
      "LOCAL_RANK: 0 - CUDA_VISIBLE_DEVICES: [0]\n",
      "LOCAL_RANK: 0 - CUDA_VISIBLE_DEVICES: [0]\n",
      "GPU available: True (cuda), used: True\n",
      "TPU available: False, using: 0 TPU cores\n",
      "HPU available: False, using: 0 HPUs\n",
      "LOCAL_RANK: 0 - CUDA_VISIBLE_DEVICES: [0]\n"
     ]
    },
    {
     "name": "stdout",
     "output_type": "stream",
     "text": [
      "\n",
      " -------------------------------------------------------- \n",
      " Probando combinación aleatoria 20/100: {'gradient_clip_val': 0.05, 'hidden_size': 8, 'dropout': 0.1, 'hidden_continuous_size': 64, 'attention_head_size': 16, 'learning_rate': 0.03, 'loss': MAPE(), 'test_len': 125, 'pred_len': 25, 'n_prev_len': 100}\n",
      "Epoch 49: 100%|██████████| 32/32 [00:20<00:00,  1.53it/s, v_num=114, train_loss_step=0.0116, val_loss=0.0143, train_loss_epoch=0.0107]  "
     ]
    },
    {
     "name": "stderr",
     "output_type": "stream",
     "text": [
      "`Trainer.fit` stopped: `max_epochs=50` reached.\n"
     ]
    },
    {
     "name": "stdout",
     "output_type": "stream",
     "text": [
      "Epoch 49: 100%|██████████| 32/32 [00:21<00:00,  1.47it/s, v_num=114, train_loss_step=0.0116, val_loss=0.0143, train_loss_epoch=0.0107]\n"
     ]
    },
    {
     "name": "stderr",
     "output_type": "stream",
     "text": [
      "LOCAL_RANK: 0 - CUDA_VISIBLE_DEVICES: [0]\n"
     ]
    },
    {
     "name": "stdout",
     "output_type": "stream",
     "text": [
      "Number of parameters in network: 129.3k\n",
      "Training time: 19m 3s\n"
     ]
    },
    {
     "name": "stderr",
     "output_type": "stream",
     "text": [
      "LOCAL_RANK: 0 - CUDA_VISIBLE_DEVICES: [0]\n",
      "LOCAL_RANK: 0 - CUDA_VISIBLE_DEVICES: [0]\n",
      "LOCAL_RANK: 0 - CUDA_VISIBLE_DEVICES: [0]\n",
      "LOCAL_RANK: 0 - CUDA_VISIBLE_DEVICES: [0]\n",
      "GPU available: True (cuda), used: True\n",
      "TPU available: False, using: 0 TPU cores\n",
      "HPU available: False, using: 0 HPUs\n",
      "LOCAL_RANK: 0 - CUDA_VISIBLE_DEVICES: [0]\n"
     ]
    },
    {
     "name": "stdout",
     "output_type": "stream",
     "text": [
      "\n",
      " -------------------------------------------------------- \n",
      " Probando combinación aleatoria 21/100: {'gradient_clip_val': 0.03, 'hidden_size': 16, 'dropout': 0.3, 'hidden_continuous_size': 16, 'attention_head_size': 8, 'learning_rate': 0.01, 'loss': MAPE(), 'test_len': 125, 'pred_len': 25, 'n_prev_len': 100}\n",
      "Epoch 49: 100%|██████████| 32/32 [00:16<00:00,  1.92it/s, v_num=120, train_loss_step=0.0136, val_loss=0.035, train_loss_epoch=0.0138]  "
     ]
    },
    {
     "name": "stderr",
     "output_type": "stream",
     "text": [
      "`Trainer.fit` stopped: `max_epochs=50` reached.\n"
     ]
    },
    {
     "name": "stdout",
     "output_type": "stream",
     "text": [
      "Epoch 49: 100%|██████████| 32/32 [00:17<00:00,  1.86it/s, v_num=120, train_loss_step=0.0136, val_loss=0.035, train_loss_epoch=0.0138]\n",
      "Number of parameters in network: 148.1k\n",
      "Training time: 19m 5s\n"
     ]
    },
    {
     "name": "stderr",
     "output_type": "stream",
     "text": [
      "LOCAL_RANK: 0 - CUDA_VISIBLE_DEVICES: [0]\n",
      "LOCAL_RANK: 0 - CUDA_VISIBLE_DEVICES: [0]\n",
      "LOCAL_RANK: 0 - CUDA_VISIBLE_DEVICES: [0]\n",
      "LOCAL_RANK: 0 - CUDA_VISIBLE_DEVICES: [0]\n",
      "LOCAL_RANK: 0 - CUDA_VISIBLE_DEVICES: [0]\n",
      "GPU available: True (cuda), used: True\n",
      "TPU available: False, using: 0 TPU cores\n",
      "HPU available: False, using: 0 HPUs\n"
     ]
    },
    {
     "name": "stdout",
     "output_type": "stream",
     "text": [
      "\n",
      " -------------------------------------------------------- \n",
      " Probando combinación aleatoria 22/100: {'gradient_clip_val': 0.01, 'hidden_size': 16, 'dropout': 0.2, 'hidden_continuous_size': 64, 'attention_head_size': 4, 'learning_rate': 0.01, 'loss': MAPE(), 'test_len': 125, 'pred_len': 25, 'n_prev_len': 100}\n"
     ]
    },
    {
     "name": "stderr",
     "output_type": "stream",
     "text": [
      "LOCAL_RANK: 0 - CUDA_VISIBLE_DEVICES: [0]\n"
     ]
    },
    {
     "name": "stdout",
     "output_type": "stream",
     "text": [
      "Epoch 49: 100%|██████████| 32/32 [00:22<00:00,  1.44it/s, v_num=126, train_loss_step=0.00993, val_loss=0.0149, train_loss_epoch=0.0124]"
     ]
    },
    {
     "name": "stderr",
     "output_type": "stream",
     "text": [
      "`Trainer.fit` stopped: `max_epochs=50` reached.\n"
     ]
    },
    {
     "name": "stdout",
     "output_type": "stream",
     "text": [
      "Epoch 49: 100%|██████████| 32/32 [00:22<00:00,  1.40it/s, v_num=126, train_loss_step=0.00993, val_loss=0.0149, train_loss_epoch=0.0124]\n"
     ]
    },
    {
     "name": "stderr",
     "output_type": "stream",
     "text": [
      "LOCAL_RANK: 0 - CUDA_VISIBLE_DEVICES: [0]\n"
     ]
    },
    {
     "name": "stdout",
     "output_type": "stream",
     "text": [
      "Number of parameters in network: 290.5k\n",
      "Training time: 19m 8s\n"
     ]
    },
    {
     "name": "stderr",
     "output_type": "stream",
     "text": [
      "LOCAL_RANK: 0 - CUDA_VISIBLE_DEVICES: [0]\n",
      "LOCAL_RANK: 0 - CUDA_VISIBLE_DEVICES: [0]\n",
      "LOCAL_RANK: 0 - CUDA_VISIBLE_DEVICES: [0]\n",
      "LOCAL_RANK: 0 - CUDA_VISIBLE_DEVICES: [0]\n",
      "GPU available: True (cuda), used: True\n",
      "TPU available: False, using: 0 TPU cores\n",
      "HPU available: False, using: 0 HPUs\n",
      "LOCAL_RANK: 0 - CUDA_VISIBLE_DEVICES: [0]\n"
     ]
    },
    {
     "name": "stdout",
     "output_type": "stream",
     "text": [
      "\n",
      " -------------------------------------------------------- \n",
      " Probando combinación aleatoria 23/100: {'gradient_clip_val': 0.03, 'hidden_size': 8, 'dropout': 0.2, 'hidden_continuous_size': 128, 'attention_head_size': 8, 'learning_rate': 0.01, 'loss': MAPE(), 'test_len': 125, 'pred_len': 25, 'n_prev_len': 100}\n",
      "Epoch 49: 100%|██████████| 32/32 [00:22<00:00,  1.43it/s, v_num=132, train_loss_step=0.0157, val_loss=0.0217, train_loss_epoch=0.0141]"
     ]
    },
    {
     "name": "stderr",
     "output_type": "stream",
     "text": [
      "`Trainer.fit` stopped: `max_epochs=50` reached.\n"
     ]
    },
    {
     "name": "stdout",
     "output_type": "stream",
     "text": [
      "Epoch 49: 100%|██████████| 32/32 [00:23<00:00,  1.39it/s, v_num=132, train_loss_step=0.0157, val_loss=0.0217, train_loss_epoch=0.0141]\n",
      "Number of parameters in network: 225.6k\n",
      "Training time: 23m 13s\n"
     ]
    },
    {
     "name": "stderr",
     "output_type": "stream",
     "text": [
      "LOCAL_RANK: 0 - CUDA_VISIBLE_DEVICES: [0]\n",
      "LOCAL_RANK: 0 - CUDA_VISIBLE_DEVICES: [0]\n",
      "LOCAL_RANK: 0 - CUDA_VISIBLE_DEVICES: [0]\n",
      "LOCAL_RANK: 0 - CUDA_VISIBLE_DEVICES: [0]\n",
      "LOCAL_RANK: 0 - CUDA_VISIBLE_DEVICES: [0]\n",
      "GPU available: True (cuda), used: True\n",
      "TPU available: False, using: 0 TPU cores\n",
      "HPU available: False, using: 0 HPUs\n"
     ]
    },
    {
     "name": "stdout",
     "output_type": "stream",
     "text": [
      "\n",
      " -------------------------------------------------------- \n",
      " Probando combinación aleatoria 24/100: {'gradient_clip_val': 0.01, 'hidden_size': 16, 'dropout': 0.1, 'hidden_continuous_size': 128, 'attention_head_size': 16, 'learning_rate': 0.03, 'loss': MAPE(), 'test_len': 125, 'pred_len': 25, 'n_prev_len': 100}\n"
     ]
    },
    {
     "name": "stderr",
     "output_type": "stream",
     "text": [
      "LOCAL_RANK: 0 - CUDA_VISIBLE_DEVICES: [0]\n"
     ]
    },
    {
     "name": "stdout",
     "output_type": "stream",
     "text": [
      "Epoch 49: 100%|██████████| 32/32 [00:23<00:00,  1.35it/s, v_num=138, train_loss_step=0.0104, val_loss=0.0341, train_loss_epoch=0.0101]  "
     ]
    },
    {
     "name": "stderr",
     "output_type": "stream",
     "text": [
      "`Trainer.fit` stopped: `max_epochs=50` reached.\n"
     ]
    },
    {
     "name": "stdout",
     "output_type": "stream",
     "text": [
      "Epoch 49: 100%|██████████| 32/32 [00:24<00:00,  1.31it/s, v_num=138, train_loss_step=0.0104, val_loss=0.0341, train_loss_epoch=0.0101]\n"
     ]
    },
    {
     "name": "stderr",
     "output_type": "stream",
     "text": [
      "LOCAL_RANK: 0 - CUDA_VISIBLE_DEVICES: [0]\n"
     ]
    },
    {
     "name": "stdout",
     "output_type": "stream",
     "text": [
      "Number of parameters in network: 474.6k\n",
      "Training time: 21m 35s\n"
     ]
    },
    {
     "name": "stderr",
     "output_type": "stream",
     "text": [
      "LOCAL_RANK: 0 - CUDA_VISIBLE_DEVICES: [0]\n",
      "LOCAL_RANK: 0 - CUDA_VISIBLE_DEVICES: [0]\n",
      "LOCAL_RANK: 0 - CUDA_VISIBLE_DEVICES: [0]\n",
      "LOCAL_RANK: 0 - CUDA_VISIBLE_DEVICES: [0]\n",
      "GPU available: True (cuda), used: True\n",
      "TPU available: False, using: 0 TPU cores\n",
      "HPU available: False, using: 0 HPUs\n"
     ]
    },
    {
     "name": "stdout",
     "output_type": "stream",
     "text": [
      "\n",
      " -------------------------------------------------------- \n",
      " Probando combinación aleatoria 25/100: {'gradient_clip_val': 0.03, 'hidden_size': 32, 'dropout': 0.3, 'hidden_continuous_size': 16, 'attention_head_size': 4, 'learning_rate': 0.01, 'loss': MAPE(), 'test_len': 125, 'pred_len': 25, 'n_prev_len': 100}\n"
     ]
    },
    {
     "name": "stderr",
     "output_type": "stream",
     "text": [
      "LOCAL_RANK: 0 - CUDA_VISIBLE_DEVICES: [0]\n"
     ]
    },
    {
     "name": "stdout",
     "output_type": "stream",
     "text": [
      "Epoch 20: 100%|██████████| 32/32 [00:21<00:00,  1.48it/s, v_num=144, train_loss_step=0.0124, val_loss=0.028, train_loss_epoch=0.0146] "
     ]
    },
    {
     "ename": "MemoryError",
     "evalue": "Unable to allocate 8.62 MiB for an array with shape (1494, 504, 3) and data type float32",
     "output_type": "error",
     "traceback": [
      "\u001b[1;31m---------------------------------------------------------------------------\u001b[0m",
      "\u001b[1;31mMemoryError\u001b[0m                               Traceback (most recent call last)",
      "Input \u001b[1;32mIn [21]\u001b[0m, in \u001b[0;36m<cell line: 1>\u001b[1;34m()\u001b[0m\n\u001b[0;32m      3\u001b[0m warnings\u001b[38;5;241m.\u001b[39mfilterwarnings(\u001b[38;5;124m\"\u001b[39m\u001b[38;5;124mignore\u001b[39m\u001b[38;5;124m\"\u001b[39m)\n\u001b[0;32m      5\u001b[0m \u001b[38;5;66;03m# Llamada a la función de búsqueda aleatoria\u001b[39;00m\n\u001b[1;32m----> 6\u001b[0m best_model, best_params, best_val_loss \u001b[38;5;241m=\u001b[39m \u001b[43mrandom_hyperparameter_search\u001b[49m\u001b[43m(\u001b[49m\n\u001b[0;32m      7\u001b[0m \u001b[43m    \u001b[49m\u001b[43mdata\u001b[49m\u001b[43m,\u001b[49m\n\u001b[0;32m      8\u001b[0m \u001b[43m    \u001b[49m\u001b[43mtrain\u001b[49m\u001b[43m,\u001b[49m\n\u001b[0;32m      9\u001b[0m \u001b[43m    \u001b[49m\u001b[43mtrain_dataloader\u001b[49m\u001b[43m,\u001b[49m\n\u001b[0;32m     10\u001b[0m \u001b[43m    \u001b[49m\u001b[43mval_dataloader\u001b[49m\u001b[43m,\u001b[49m\n\u001b[0;32m     11\u001b[0m \u001b[43m    \u001b[49m\u001b[43mtest\u001b[49m\u001b[43m,\u001b[49m\n\u001b[0;32m     12\u001b[0m \u001b[43m    \u001b[49m\u001b[43mparam_grid\u001b[49m\u001b[43m,\u001b[49m\n\u001b[0;32m     13\u001b[0m \u001b[43m    \u001b[49m\u001b[43mn_iterations\u001b[49m\u001b[38;5;241;43m=\u001b[39;49m\u001b[38;5;241;43m100\u001b[39;49m\u001b[43m,\u001b[49m\n\u001b[0;32m     14\u001b[0m \u001b[43m    \u001b[49m\u001b[43mmax_epochs\u001b[49m\u001b[38;5;241;43m=\u001b[39;49m\u001b[38;5;241;43m50\u001b[39;49m\u001b[43m,\u001b[49m\n\u001b[0;32m     15\u001b[0m \u001b[43m    \u001b[49m\u001b[43msave_dir\u001b[49m\u001b[38;5;241;43m=\u001b[39;49m\u001b[38;5;124;43mf\u001b[39;49m\u001b[38;5;124;43m'\u001b[39;49m\u001b[38;5;124;43m./plots/multiexog_syp500_-\u001b[39;49m\u001b[38;5;132;43;01m{\u001b[39;49;00m\u001b[43mn_prev_len\u001b[49m\u001b[38;5;132;43;01m}\u001b[39;49;00m\u001b[38;5;124;43md-\u001b[39;49m\u001b[38;5;132;43;01m{\u001b[39;49;00m\u001b[43mdate_start\u001b[49m\u001b[38;5;241;43m.\u001b[39;49m\u001b[43mreplace\u001b[49m\u001b[43m(\u001b[49m\u001b[38;5;124;43m\"\u001b[39;49m\u001b[38;5;124;43m-\u001b[39;49m\u001b[38;5;124;43m\"\u001b[39;49m\u001b[43m,\u001b[49m\u001b[38;5;124;43m\"\u001b[39;49m\u001b[38;5;124;43m\"\u001b[39;49m\u001b[43m)\u001b[49m\u001b[38;5;132;43;01m}\u001b[39;49;00m\u001b[38;5;124;43m-\u001b[39;49m\u001b[38;5;132;43;01m{\u001b[39;49;00m\u001b[43mdate_end\u001b[49m\u001b[38;5;241;43m.\u001b[39;49m\u001b[43mreplace\u001b[49m\u001b[43m(\u001b[49m\u001b[38;5;124;43m\"\u001b[39;49m\u001b[38;5;124;43m-\u001b[39;49m\u001b[38;5;124;43m\"\u001b[39;49m\u001b[43m,\u001b[49m\u001b[38;5;124;43m\"\u001b[39;49m\u001b[38;5;124;43m\"\u001b[39;49m\u001b[43m)\u001b[49m\u001b[38;5;132;43;01m}\u001b[39;49;00m\u001b[38;5;124;43m-lessFilters\u001b[39;49m\u001b[38;5;124;43m'\u001b[39;49m\u001b[43m,\u001b[49m\n\u001b[0;32m     16\u001b[0m \u001b[43m    \u001b[49m\u001b[43mcsv_file\u001b[49m\u001b[38;5;241;43m=\u001b[39;49m\u001b[38;5;124;43mf\u001b[39;49m\u001b[38;5;124;43m\"\u001b[39;49m\u001b[38;5;124;43m./results/multiexog_syp500_-\u001b[39;49m\u001b[38;5;132;43;01m{\u001b[39;49;00m\u001b[43mn_prev_len\u001b[49m\u001b[38;5;132;43;01m}\u001b[39;49;00m\u001b[38;5;124;43md-\u001b[39;49m\u001b[38;5;132;43;01m{\u001b[39;49;00m\u001b[43mdate_start\u001b[49m\u001b[38;5;132;43;01m}\u001b[39;49;00m\u001b[38;5;124;43m-\u001b[39;49m\u001b[38;5;132;43;01m{\u001b[39;49;00m\u001b[43mdate_end\u001b[49m\u001b[38;5;132;43;01m}\u001b[39;49;00m\u001b[38;5;124;43m.csv\u001b[39;49m\u001b[38;5;124;43m\"\u001b[39;49m\u001b[43m,\u001b[49m\n\u001b[0;32m     17\u001b[0m \u001b[43m\u001b[49m\u001b[43m)\u001b[49m\n",
      "File \u001b[1;32mc:\\Users\\nicov\\Documents\\Github\\TFT-QuantTrader\\tft_helper.py:297\u001b[0m, in \u001b[0;36mrandom_hyperparameter_search\u001b[1;34m(data, train, train_dataloader, val_dataloader, test, param_grid, n_iterations, max_epochs, save_dir, csv_file)\u001b[0m\n\u001b[0;32m    294\u001b[0m start_time \u001b[38;5;241m=\u001b[39m datetime\u001b[38;5;241m.\u001b[39mnow()\n\u001b[0;32m    296\u001b[0m \u001b[38;5;66;03m# Entrenar el modelo con la combinación actual de hiperparámetros\u001b[39;00m\n\u001b[1;32m--> 297\u001b[0m tft, val_loss \u001b[38;5;241m=\u001b[39m tft_trainer(\n\u001b[0;32m    298\u001b[0m     train, train_dataloader, val_dataloader, max_epochs\u001b[38;5;241m=\u001b[39mmax_epochs, \u001b[38;5;241m*\u001b[39m\u001b[38;5;241m*\u001b[39mparams\n\u001b[0;32m    299\u001b[0m )\n\u001b[0;32m    301\u001b[0m \u001b[38;5;66;03m# Medir el tiempo de finalización del entrenamiento\u001b[39;00m\n\u001b[0;32m    302\u001b[0m end_time \u001b[38;5;241m=\u001b[39m datetime\u001b[38;5;241m.\u001b[39mnow()\n",
      "File \u001b[1;32mc:\\Users\\nicov\\Documents\\Github\\TFT-QuantTrader\\tft_helper.py:123\u001b[0m, in \u001b[0;36mtft_trainer\u001b[1;34m(train, train_dataloader, val_dataloader, max_epochs, model_path, **kwargs)\u001b[0m\n\u001b[0;32m     93\u001b[0m trainer \u001b[38;5;241m=\u001b[39m pl\u001b[38;5;241m.\u001b[39mTrainer(\n\u001b[0;32m     94\u001b[0m     max_epochs\u001b[38;5;241m=\u001b[39mmax_epochs,\n\u001b[0;32m     95\u001b[0m     accelerator\u001b[38;5;241m=\u001b[39m\u001b[38;5;124m\"\u001b[39m\u001b[38;5;124mgpu\u001b[39m\u001b[38;5;124m\"\u001b[39m \u001b[38;5;28;01mif\u001b[39;00m torch\u001b[38;5;241m.\u001b[39mcuda\u001b[38;5;241m.\u001b[39mis_available() \u001b[38;5;28;01melse\u001b[39;00m \u001b[38;5;124m\"\u001b[39m\u001b[38;5;124mcpu\u001b[39m\u001b[38;5;124m\"\u001b[39m,\n\u001b[1;32m   (...)\u001b[0m\n\u001b[0;32m    107\u001b[0m     ],\n\u001b[0;32m    108\u001b[0m )\n\u001b[0;32m    110\u001b[0m tft \u001b[38;5;241m=\u001b[39m TemporalFusionTransformer\u001b[38;5;241m.\u001b[39mfrom_dataset(\n\u001b[0;32m    111\u001b[0m     train,\n\u001b[0;32m    112\u001b[0m     learning_rate\u001b[38;5;241m=\u001b[39mkwargs\u001b[38;5;241m.\u001b[39mget(\u001b[38;5;124m\"\u001b[39m\u001b[38;5;124mlearning_rate\u001b[39m\u001b[38;5;124m\"\u001b[39m, \u001b[38;5;241m0.15\u001b[39m),\n\u001b[1;32m   (...)\u001b[0m\n\u001b[0;32m    120\u001b[0m     reduce_on_plateau_patience\u001b[38;5;241m=\u001b[39mkwargs\u001b[38;5;241m.\u001b[39mget(\u001b[38;5;124m\"\u001b[39m\u001b[38;5;124mreduce_on_plateau_patience\u001b[39m\u001b[38;5;124m\"\u001b[39m, \u001b[38;5;241m4\u001b[39m),\n\u001b[0;32m    121\u001b[0m )\n\u001b[1;32m--> 123\u001b[0m trainer\u001b[38;5;241m.\u001b[39mfit(tft, train_dataloader, val_dataloader)\n\u001b[0;32m    125\u001b[0m \u001b[38;5;66;03m# Guardar el modelo entrenado\u001b[39;00m\n\u001b[0;32m    126\u001b[0m \u001b[38;5;28;01mif\u001b[39;00m model_path:\n",
      "File \u001b[1;32mc:\\Users\\nicov\\AppData\\Local\\Programs\\Python\\Python39\\lib\\site-packages\\lightning\\pytorch\\trainer\\trainer.py:538\u001b[0m, in \u001b[0;36mTrainer.fit\u001b[1;34m(self, model, train_dataloaders, val_dataloaders, datamodule, ckpt_path)\u001b[0m\n\u001b[0;32m    536\u001b[0m \u001b[38;5;28mself\u001b[39m\u001b[38;5;241m.\u001b[39mstate\u001b[38;5;241m.\u001b[39mstatus \u001b[38;5;241m=\u001b[39m TrainerStatus\u001b[38;5;241m.\u001b[39mRUNNING\n\u001b[0;32m    537\u001b[0m \u001b[38;5;28mself\u001b[39m\u001b[38;5;241m.\u001b[39mtraining \u001b[38;5;241m=\u001b[39m \u001b[38;5;28;01mTrue\u001b[39;00m\n\u001b[1;32m--> 538\u001b[0m \u001b[43mcall\u001b[49m\u001b[38;5;241;43m.\u001b[39;49m\u001b[43m_call_and_handle_interrupt\u001b[49m\u001b[43m(\u001b[49m\n\u001b[0;32m    539\u001b[0m \u001b[43m    \u001b[49m\u001b[38;5;28;43mself\u001b[39;49m\u001b[43m,\u001b[49m\u001b[43m \u001b[49m\u001b[38;5;28;43mself\u001b[39;49m\u001b[38;5;241;43m.\u001b[39;49m\u001b[43m_fit_impl\u001b[49m\u001b[43m,\u001b[49m\u001b[43m \u001b[49m\u001b[43mmodel\u001b[49m\u001b[43m,\u001b[49m\u001b[43m \u001b[49m\u001b[43mtrain_dataloaders\u001b[49m\u001b[43m,\u001b[49m\u001b[43m \u001b[49m\u001b[43mval_dataloaders\u001b[49m\u001b[43m,\u001b[49m\u001b[43m \u001b[49m\u001b[43mdatamodule\u001b[49m\u001b[43m,\u001b[49m\u001b[43m \u001b[49m\u001b[43mckpt_path\u001b[49m\n\u001b[0;32m    540\u001b[0m \u001b[43m\u001b[49m\u001b[43m)\u001b[49m\n",
      "File \u001b[1;32mc:\\Users\\nicov\\AppData\\Local\\Programs\\Python\\Python39\\lib\\site-packages\\lightning\\pytorch\\trainer\\call.py:47\u001b[0m, in \u001b[0;36m_call_and_handle_interrupt\u001b[1;34m(trainer, trainer_fn, *args, **kwargs)\u001b[0m\n\u001b[0;32m     45\u001b[0m     \u001b[38;5;28;01mif\u001b[39;00m trainer\u001b[38;5;241m.\u001b[39mstrategy\u001b[38;5;241m.\u001b[39mlauncher \u001b[38;5;129;01mis\u001b[39;00m \u001b[38;5;129;01mnot\u001b[39;00m \u001b[38;5;28;01mNone\u001b[39;00m:\n\u001b[0;32m     46\u001b[0m         \u001b[38;5;28;01mreturn\u001b[39;00m trainer\u001b[38;5;241m.\u001b[39mstrategy\u001b[38;5;241m.\u001b[39mlauncher\u001b[38;5;241m.\u001b[39mlaunch(trainer_fn, \u001b[38;5;241m*\u001b[39margs, trainer\u001b[38;5;241m=\u001b[39mtrainer, \u001b[38;5;241m*\u001b[39m\u001b[38;5;241m*\u001b[39mkwargs)\n\u001b[1;32m---> 47\u001b[0m     \u001b[38;5;28;01mreturn\u001b[39;00m trainer_fn(\u001b[38;5;241m*\u001b[39margs, \u001b[38;5;241m*\u001b[39m\u001b[38;5;241m*\u001b[39mkwargs)\n\u001b[0;32m     49\u001b[0m \u001b[38;5;28;01mexcept\u001b[39;00m _TunerExitException:\n\u001b[0;32m     50\u001b[0m     _call_teardown_hook(trainer)\n",
      "File \u001b[1;32mc:\\Users\\nicov\\AppData\\Local\\Programs\\Python\\Python39\\lib\\site-packages\\lightning\\pytorch\\trainer\\trainer.py:574\u001b[0m, in \u001b[0;36mTrainer._fit_impl\u001b[1;34m(self, model, train_dataloaders, val_dataloaders, datamodule, ckpt_path)\u001b[0m\n\u001b[0;32m    567\u001b[0m \u001b[38;5;28;01massert\u001b[39;00m \u001b[38;5;28mself\u001b[39m\u001b[38;5;241m.\u001b[39mstate\u001b[38;5;241m.\u001b[39mfn \u001b[38;5;129;01mis\u001b[39;00m \u001b[38;5;129;01mnot\u001b[39;00m \u001b[38;5;28;01mNone\u001b[39;00m\n\u001b[0;32m    568\u001b[0m ckpt_path \u001b[38;5;241m=\u001b[39m \u001b[38;5;28mself\u001b[39m\u001b[38;5;241m.\u001b[39m_checkpoint_connector\u001b[38;5;241m.\u001b[39m_select_ckpt_path(\n\u001b[0;32m    569\u001b[0m     \u001b[38;5;28mself\u001b[39m\u001b[38;5;241m.\u001b[39mstate\u001b[38;5;241m.\u001b[39mfn,\n\u001b[0;32m    570\u001b[0m     ckpt_path,\n\u001b[0;32m    571\u001b[0m     model_provided\u001b[38;5;241m=\u001b[39m\u001b[38;5;28;01mTrue\u001b[39;00m,\n\u001b[0;32m    572\u001b[0m     model_connected\u001b[38;5;241m=\u001b[39m\u001b[38;5;28mself\u001b[39m\u001b[38;5;241m.\u001b[39mlightning_module \u001b[38;5;129;01mis\u001b[39;00m \u001b[38;5;129;01mnot\u001b[39;00m \u001b[38;5;28;01mNone\u001b[39;00m,\n\u001b[0;32m    573\u001b[0m )\n\u001b[1;32m--> 574\u001b[0m \u001b[38;5;28;43mself\u001b[39;49m\u001b[38;5;241;43m.\u001b[39;49m\u001b[43m_run\u001b[49m\u001b[43m(\u001b[49m\u001b[43mmodel\u001b[49m\u001b[43m,\u001b[49m\u001b[43m \u001b[49m\u001b[43mckpt_path\u001b[49m\u001b[38;5;241;43m=\u001b[39;49m\u001b[43mckpt_path\u001b[49m\u001b[43m)\u001b[49m\n\u001b[0;32m    576\u001b[0m \u001b[38;5;28;01massert\u001b[39;00m \u001b[38;5;28mself\u001b[39m\u001b[38;5;241m.\u001b[39mstate\u001b[38;5;241m.\u001b[39mstopped\n\u001b[0;32m    577\u001b[0m \u001b[38;5;28mself\u001b[39m\u001b[38;5;241m.\u001b[39mtraining \u001b[38;5;241m=\u001b[39m \u001b[38;5;28;01mFalse\u001b[39;00m\n",
      "File \u001b[1;32mc:\\Users\\nicov\\AppData\\Local\\Programs\\Python\\Python39\\lib\\site-packages\\lightning\\pytorch\\trainer\\trainer.py:981\u001b[0m, in \u001b[0;36mTrainer._run\u001b[1;34m(self, model, ckpt_path)\u001b[0m\n\u001b[0;32m    976\u001b[0m \u001b[38;5;28mself\u001b[39m\u001b[38;5;241m.\u001b[39m_signal_connector\u001b[38;5;241m.\u001b[39mregister_signal_handlers()\n\u001b[0;32m    978\u001b[0m \u001b[38;5;66;03m# ----------------------------\u001b[39;00m\n\u001b[0;32m    979\u001b[0m \u001b[38;5;66;03m# RUN THE TRAINER\u001b[39;00m\n\u001b[0;32m    980\u001b[0m \u001b[38;5;66;03m# ----------------------------\u001b[39;00m\n\u001b[1;32m--> 981\u001b[0m results \u001b[38;5;241m=\u001b[39m \u001b[38;5;28;43mself\u001b[39;49m\u001b[38;5;241;43m.\u001b[39;49m\u001b[43m_run_stage\u001b[49m\u001b[43m(\u001b[49m\u001b[43m)\u001b[49m\n\u001b[0;32m    983\u001b[0m \u001b[38;5;66;03m# ----------------------------\u001b[39;00m\n\u001b[0;32m    984\u001b[0m \u001b[38;5;66;03m# POST-Training CLEAN UP\u001b[39;00m\n\u001b[0;32m    985\u001b[0m \u001b[38;5;66;03m# ----------------------------\u001b[39;00m\n\u001b[0;32m    986\u001b[0m log\u001b[38;5;241m.\u001b[39mdebug(\u001b[38;5;124mf\u001b[39m\u001b[38;5;124m\"\u001b[39m\u001b[38;5;132;01m{\u001b[39;00m\u001b[38;5;28mself\u001b[39m\u001b[38;5;241m.\u001b[39m\u001b[38;5;18m__class__\u001b[39m\u001b[38;5;241m.\u001b[39m\u001b[38;5;18m__name__\u001b[39m\u001b[38;5;132;01m}\u001b[39;00m\u001b[38;5;124m: trainer tearing down\u001b[39m\u001b[38;5;124m\"\u001b[39m)\n",
      "File \u001b[1;32mc:\\Users\\nicov\\AppData\\Local\\Programs\\Python\\Python39\\lib\\site-packages\\lightning\\pytorch\\trainer\\trainer.py:1025\u001b[0m, in \u001b[0;36mTrainer._run_stage\u001b[1;34m(self)\u001b[0m\n\u001b[0;32m   1023\u001b[0m         \u001b[38;5;28mself\u001b[39m\u001b[38;5;241m.\u001b[39m_run_sanity_check()\n\u001b[0;32m   1024\u001b[0m     \u001b[38;5;28;01mwith\u001b[39;00m torch\u001b[38;5;241m.\u001b[39mautograd\u001b[38;5;241m.\u001b[39mset_detect_anomaly(\u001b[38;5;28mself\u001b[39m\u001b[38;5;241m.\u001b[39m_detect_anomaly):\n\u001b[1;32m-> 1025\u001b[0m         \u001b[38;5;28;43mself\u001b[39;49m\u001b[38;5;241;43m.\u001b[39;49m\u001b[43mfit_loop\u001b[49m\u001b[38;5;241;43m.\u001b[39;49m\u001b[43mrun\u001b[49m\u001b[43m(\u001b[49m\u001b[43m)\u001b[49m\n\u001b[0;32m   1026\u001b[0m     \u001b[38;5;28;01mreturn\u001b[39;00m \u001b[38;5;28;01mNone\u001b[39;00m\n\u001b[0;32m   1027\u001b[0m \u001b[38;5;28;01mraise\u001b[39;00m \u001b[38;5;167;01mRuntimeError\u001b[39;00m(\u001b[38;5;124mf\u001b[39m\u001b[38;5;124m\"\u001b[39m\u001b[38;5;124mUnexpected state \u001b[39m\u001b[38;5;132;01m{\u001b[39;00m\u001b[38;5;28mself\u001b[39m\u001b[38;5;241m.\u001b[39mstate\u001b[38;5;132;01m}\u001b[39;00m\u001b[38;5;124m\"\u001b[39m)\n",
      "File \u001b[1;32mc:\\Users\\nicov\\AppData\\Local\\Programs\\Python\\Python39\\lib\\site-packages\\lightning\\pytorch\\loops\\fit_loop.py:205\u001b[0m, in \u001b[0;36m_FitLoop.run\u001b[1;34m(self)\u001b[0m\n\u001b[0;32m    203\u001b[0m \u001b[38;5;28;01mtry\u001b[39;00m:\n\u001b[0;32m    204\u001b[0m     \u001b[38;5;28mself\u001b[39m\u001b[38;5;241m.\u001b[39mon_advance_start()\n\u001b[1;32m--> 205\u001b[0m     \u001b[38;5;28;43mself\u001b[39;49m\u001b[38;5;241;43m.\u001b[39;49m\u001b[43madvance\u001b[49m\u001b[43m(\u001b[49m\u001b[43m)\u001b[49m\n\u001b[0;32m    206\u001b[0m     \u001b[38;5;28mself\u001b[39m\u001b[38;5;241m.\u001b[39mon_advance_end()\n\u001b[0;32m    207\u001b[0m     \u001b[38;5;28mself\u001b[39m\u001b[38;5;241m.\u001b[39m_restarting \u001b[38;5;241m=\u001b[39m \u001b[38;5;28;01mFalse\u001b[39;00m\n",
      "File \u001b[1;32mc:\\Users\\nicov\\AppData\\Local\\Programs\\Python\\Python39\\lib\\site-packages\\lightning\\pytorch\\loops\\fit_loop.py:363\u001b[0m, in \u001b[0;36m_FitLoop.advance\u001b[1;34m(self)\u001b[0m\n\u001b[0;32m    361\u001b[0m \u001b[38;5;28;01mwith\u001b[39;00m \u001b[38;5;28mself\u001b[39m\u001b[38;5;241m.\u001b[39mtrainer\u001b[38;5;241m.\u001b[39mprofiler\u001b[38;5;241m.\u001b[39mprofile(\u001b[38;5;124m\"\u001b[39m\u001b[38;5;124mrun_training_epoch\u001b[39m\u001b[38;5;124m\"\u001b[39m):\n\u001b[0;32m    362\u001b[0m     \u001b[38;5;28;01massert\u001b[39;00m \u001b[38;5;28mself\u001b[39m\u001b[38;5;241m.\u001b[39m_data_fetcher \u001b[38;5;129;01mis\u001b[39;00m \u001b[38;5;129;01mnot\u001b[39;00m \u001b[38;5;28;01mNone\u001b[39;00m\n\u001b[1;32m--> 363\u001b[0m     \u001b[38;5;28;43mself\u001b[39;49m\u001b[38;5;241;43m.\u001b[39;49m\u001b[43mepoch_loop\u001b[49m\u001b[38;5;241;43m.\u001b[39;49m\u001b[43mrun\u001b[49m\u001b[43m(\u001b[49m\u001b[38;5;28;43mself\u001b[39;49m\u001b[38;5;241;43m.\u001b[39;49m\u001b[43m_data_fetcher\u001b[49m\u001b[43m)\u001b[49m\n",
      "File \u001b[1;32mc:\\Users\\nicov\\AppData\\Local\\Programs\\Python\\Python39\\lib\\site-packages\\lightning\\pytorch\\loops\\training_epoch_loop.py:141\u001b[0m, in \u001b[0;36m_TrainingEpochLoop.run\u001b[1;34m(self, data_fetcher)\u001b[0m\n\u001b[0;32m    139\u001b[0m \u001b[38;5;28;01mtry\u001b[39;00m:\n\u001b[0;32m    140\u001b[0m     \u001b[38;5;28mself\u001b[39m\u001b[38;5;241m.\u001b[39madvance(data_fetcher)\n\u001b[1;32m--> 141\u001b[0m     \u001b[38;5;28;43mself\u001b[39;49m\u001b[38;5;241;43m.\u001b[39;49m\u001b[43mon_advance_end\u001b[49m\u001b[43m(\u001b[49m\u001b[43mdata_fetcher\u001b[49m\u001b[43m)\u001b[49m\n\u001b[0;32m    142\u001b[0m     \u001b[38;5;28mself\u001b[39m\u001b[38;5;241m.\u001b[39m_restarting \u001b[38;5;241m=\u001b[39m \u001b[38;5;28;01mFalse\u001b[39;00m\n\u001b[0;32m    143\u001b[0m \u001b[38;5;28;01mexcept\u001b[39;00m \u001b[38;5;167;01mStopIteration\u001b[39;00m:\n",
      "File \u001b[1;32mc:\\Users\\nicov\\AppData\\Local\\Programs\\Python\\Python39\\lib\\site-packages\\lightning\\pytorch\\loops\\training_epoch_loop.py:295\u001b[0m, in \u001b[0;36m_TrainingEpochLoop.on_advance_end\u001b[1;34m(self, data_fetcher)\u001b[0m\n\u001b[0;32m    291\u001b[0m \u001b[38;5;28;01mif\u001b[39;00m \u001b[38;5;129;01mnot\u001b[39;00m \u001b[38;5;28mself\u001b[39m\u001b[38;5;241m.\u001b[39m_should_accumulate():\n\u001b[0;32m    292\u001b[0m     \u001b[38;5;66;03m# clear gradients to not leave any unused memory during validation\u001b[39;00m\n\u001b[0;32m    293\u001b[0m     call\u001b[38;5;241m.\u001b[39m_call_lightning_module_hook(\u001b[38;5;28mself\u001b[39m\u001b[38;5;241m.\u001b[39mtrainer, \u001b[38;5;124m\"\u001b[39m\u001b[38;5;124mon_validation_model_zero_grad\u001b[39m\u001b[38;5;124m\"\u001b[39m)\n\u001b[1;32m--> 295\u001b[0m \u001b[38;5;28;43mself\u001b[39;49m\u001b[38;5;241;43m.\u001b[39;49m\u001b[43mval_loop\u001b[49m\u001b[38;5;241;43m.\u001b[39;49m\u001b[43mrun\u001b[49m\u001b[43m(\u001b[49m\u001b[43m)\u001b[49m\n\u001b[0;32m    296\u001b[0m \u001b[38;5;28mself\u001b[39m\u001b[38;5;241m.\u001b[39mtrainer\u001b[38;5;241m.\u001b[39mtraining \u001b[38;5;241m=\u001b[39m \u001b[38;5;28;01mTrue\u001b[39;00m\n\u001b[0;32m    297\u001b[0m \u001b[38;5;28mself\u001b[39m\u001b[38;5;241m.\u001b[39mtrainer\u001b[38;5;241m.\u001b[39m_logger_connector\u001b[38;5;241m.\u001b[39m_first_loop_iter \u001b[38;5;241m=\u001b[39m first_loop_iter\n",
      "File \u001b[1;32mc:\\Users\\nicov\\AppData\\Local\\Programs\\Python\\Python39\\lib\\site-packages\\lightning\\pytorch\\loops\\utilities.py:178\u001b[0m, in \u001b[0;36m_no_grad_context.<locals>._decorator\u001b[1;34m(self, *args, **kwargs)\u001b[0m\n\u001b[0;32m    176\u001b[0m     context_manager \u001b[38;5;241m=\u001b[39m torch\u001b[38;5;241m.\u001b[39mno_grad\n\u001b[0;32m    177\u001b[0m \u001b[38;5;28;01mwith\u001b[39;00m context_manager():\n\u001b[1;32m--> 178\u001b[0m     \u001b[38;5;28;01mreturn\u001b[39;00m loop_run(\u001b[38;5;28mself\u001b[39m, \u001b[38;5;241m*\u001b[39margs, \u001b[38;5;241m*\u001b[39m\u001b[38;5;241m*\u001b[39mkwargs)\n",
      "File \u001b[1;32mc:\\Users\\nicov\\AppData\\Local\\Programs\\Python\\Python39\\lib\\site-packages\\lightning\\pytorch\\loops\\evaluation_loop.py:142\u001b[0m, in \u001b[0;36m_EvaluationLoop.run\u001b[1;34m(self)\u001b[0m\n\u001b[0;32m    140\u001b[0m         \u001b[38;5;28mself\u001b[39m\u001b[38;5;241m.\u001b[39m_restarting \u001b[38;5;241m=\u001b[39m \u001b[38;5;28;01mFalse\u001b[39;00m\n\u001b[0;32m    141\u001b[0m \u001b[38;5;28mself\u001b[39m\u001b[38;5;241m.\u001b[39m_store_dataloader_outputs()\n\u001b[1;32m--> 142\u001b[0m \u001b[38;5;28;01mreturn\u001b[39;00m \u001b[38;5;28;43mself\u001b[39;49m\u001b[38;5;241;43m.\u001b[39;49m\u001b[43mon_run_end\u001b[49m\u001b[43m(\u001b[49m\u001b[43m)\u001b[49m\n",
      "File \u001b[1;32mc:\\Users\\nicov\\AppData\\Local\\Programs\\Python\\Python39\\lib\\site-packages\\lightning\\pytorch\\loops\\evaluation_loop.py:254\u001b[0m, in \u001b[0;36m_EvaluationLoop.on_run_end\u001b[1;34m(self)\u001b[0m\n\u001b[0;32m    251\u001b[0m \u001b[38;5;28mself\u001b[39m\u001b[38;5;241m.\u001b[39mtrainer\u001b[38;5;241m.\u001b[39m_logger_connector\u001b[38;5;241m.\u001b[39m_evaluation_epoch_end()\n\u001b[0;32m    253\u001b[0m \u001b[38;5;66;03m# hook\u001b[39;00m\n\u001b[1;32m--> 254\u001b[0m \u001b[38;5;28;43mself\u001b[39;49m\u001b[38;5;241;43m.\u001b[39;49m\u001b[43m_on_evaluation_epoch_end\u001b[49m\u001b[43m(\u001b[49m\u001b[43m)\u001b[49m\n\u001b[0;32m    256\u001b[0m logged_outputs, \u001b[38;5;28mself\u001b[39m\u001b[38;5;241m.\u001b[39m_logged_outputs \u001b[38;5;241m=\u001b[39m \u001b[38;5;28mself\u001b[39m\u001b[38;5;241m.\u001b[39m_logged_outputs, []  \u001b[38;5;66;03m# free memory\u001b[39;00m\n\u001b[0;32m    257\u001b[0m \u001b[38;5;66;03m# include any logged outputs on epoch_end\u001b[39;00m\n",
      "File \u001b[1;32mc:\\Users\\nicov\\AppData\\Local\\Programs\\Python\\Python39\\lib\\site-packages\\lightning\\pytorch\\loops\\evaluation_loop.py:334\u001b[0m, in \u001b[0;36m_EvaluationLoop._on_evaluation_epoch_end\u001b[1;34m(self)\u001b[0m\n\u001b[0;32m    332\u001b[0m hook_name \u001b[38;5;241m=\u001b[39m \u001b[38;5;124m\"\u001b[39m\u001b[38;5;124mon_test_epoch_end\u001b[39m\u001b[38;5;124m\"\u001b[39m \u001b[38;5;28;01mif\u001b[39;00m trainer\u001b[38;5;241m.\u001b[39mtesting \u001b[38;5;28;01melse\u001b[39;00m \u001b[38;5;124m\"\u001b[39m\u001b[38;5;124mon_validation_epoch_end\u001b[39m\u001b[38;5;124m\"\u001b[39m\n\u001b[0;32m    333\u001b[0m call\u001b[38;5;241m.\u001b[39m_call_callback_hooks(trainer, hook_name)\n\u001b[1;32m--> 334\u001b[0m \u001b[43mcall\u001b[49m\u001b[38;5;241;43m.\u001b[39;49m\u001b[43m_call_lightning_module_hook\u001b[49m\u001b[43m(\u001b[49m\u001b[43mtrainer\u001b[49m\u001b[43m,\u001b[49m\u001b[43m \u001b[49m\u001b[43mhook_name\u001b[49m\u001b[43m)\u001b[49m\n\u001b[0;32m    336\u001b[0m trainer\u001b[38;5;241m.\u001b[39m_logger_connector\u001b[38;5;241m.\u001b[39mon_epoch_end()\n",
      "File \u001b[1;32mc:\\Users\\nicov\\AppData\\Local\\Programs\\Python\\Python39\\lib\\site-packages\\lightning\\pytorch\\trainer\\call.py:167\u001b[0m, in \u001b[0;36m_call_lightning_module_hook\u001b[1;34m(trainer, hook_name, pl_module, *args, **kwargs)\u001b[0m\n\u001b[0;32m    164\u001b[0m pl_module\u001b[38;5;241m.\u001b[39m_current_fx_name \u001b[38;5;241m=\u001b[39m hook_name\n\u001b[0;32m    166\u001b[0m \u001b[38;5;28;01mwith\u001b[39;00m trainer\u001b[38;5;241m.\u001b[39mprofiler\u001b[38;5;241m.\u001b[39mprofile(\u001b[38;5;124mf\u001b[39m\u001b[38;5;124m\"\u001b[39m\u001b[38;5;124m[LightningModule]\u001b[39m\u001b[38;5;132;01m{\u001b[39;00mpl_module\u001b[38;5;241m.\u001b[39m\u001b[38;5;18m__class__\u001b[39m\u001b[38;5;241m.\u001b[39m\u001b[38;5;18m__name__\u001b[39m\u001b[38;5;132;01m}\u001b[39;00m\u001b[38;5;124m.\u001b[39m\u001b[38;5;132;01m{\u001b[39;00mhook_name\u001b[38;5;132;01m}\u001b[39;00m\u001b[38;5;124m\"\u001b[39m):\n\u001b[1;32m--> 167\u001b[0m     output \u001b[38;5;241m=\u001b[39m fn(\u001b[38;5;241m*\u001b[39margs, \u001b[38;5;241m*\u001b[39m\u001b[38;5;241m*\u001b[39mkwargs)\n\u001b[0;32m    169\u001b[0m \u001b[38;5;66;03m# restore current_fx when nested context\u001b[39;00m\n\u001b[0;32m    170\u001b[0m pl_module\u001b[38;5;241m.\u001b[39m_current_fx_name \u001b[38;5;241m=\u001b[39m prev_fx_name\n",
      "File \u001b[1;32mc:\\Users\\nicov\\AppData\\Local\\Programs\\Python\\Python39\\lib\\site-packages\\pytorch_forecasting\\models\\base_model.py:636\u001b[0m, in \u001b[0;36mBaseModel.on_validation_epoch_end\u001b[1;34m(self)\u001b[0m\n\u001b[0;32m    635\u001b[0m \u001b[38;5;28;01mdef\u001b[39;00m \u001b[38;5;21mon_validation_epoch_end\u001b[39m(\u001b[38;5;28mself\u001b[39m):\n\u001b[1;32m--> 636\u001b[0m     \u001b[38;5;28;43mself\u001b[39;49m\u001b[38;5;241;43m.\u001b[39;49m\u001b[43mon_epoch_end\u001b[49m\u001b[43m(\u001b[49m\u001b[38;5;28;43mself\u001b[39;49m\u001b[38;5;241;43m.\u001b[39;49m\u001b[43mvalidation_step_outputs\u001b[49m\u001b[43m)\u001b[49m\n\u001b[0;32m    637\u001b[0m     \u001b[38;5;28mself\u001b[39m\u001b[38;5;241m.\u001b[39mvalidation_step_outputs\u001b[38;5;241m.\u001b[39mclear()\n",
      "File \u001b[1;32mc:\\Users\\nicov\\AppData\\Local\\Programs\\Python\\Python39\\lib\\site-packages\\pytorch_forecasting\\models\\temporal_fusion_transformer\\__init__.py:539\u001b[0m, in \u001b[0;36mTemporalFusionTransformer.on_epoch_end\u001b[1;34m(self, outputs)\u001b[0m\n\u001b[0;32m    535\u001b[0m \u001b[38;5;124;03m\"\"\"\u001b[39;00m\n\u001b[0;32m    536\u001b[0m \u001b[38;5;124;03mrun at epoch end for training or validation\u001b[39;00m\n\u001b[0;32m    537\u001b[0m \u001b[38;5;124;03m\"\"\"\u001b[39;00m\n\u001b[0;32m    538\u001b[0m \u001b[38;5;28;01mif\u001b[39;00m \u001b[38;5;28mself\u001b[39m\u001b[38;5;241m.\u001b[39mlog_interval \u001b[38;5;241m>\u001b[39m \u001b[38;5;241m0\u001b[39m \u001b[38;5;129;01mand\u001b[39;00m \u001b[38;5;129;01mnot\u001b[39;00m \u001b[38;5;28mself\u001b[39m\u001b[38;5;241m.\u001b[39mtraining:\n\u001b[1;32m--> 539\u001b[0m     \u001b[38;5;28;43mself\u001b[39;49m\u001b[38;5;241;43m.\u001b[39;49m\u001b[43mlog_interpretation\u001b[49m\u001b[43m(\u001b[49m\u001b[43moutputs\u001b[49m\u001b[43m)\u001b[49m\n",
      "File \u001b[1;32mc:\\Users\\nicov\\AppData\\Local\\Programs\\Python\\Python39\\lib\\site-packages\\pytorch_forecasting\\models\\temporal_fusion_transformer\\__init__.py:820\u001b[0m, in \u001b[0;36mTemporalFusionTransformer.log_interpretation\u001b[1;34m(self, outputs)\u001b[0m\n\u001b[0;32m    818\u001b[0m \u001b[38;5;66;03m# log to tensorboard\u001b[39;00m\n\u001b[0;32m    819\u001b[0m \u001b[38;5;28;01mfor\u001b[39;00m name, fig \u001b[38;5;129;01min\u001b[39;00m figs\u001b[38;5;241m.\u001b[39mitems():\n\u001b[1;32m--> 820\u001b[0m     \u001b[38;5;28;43mself\u001b[39;49m\u001b[38;5;241;43m.\u001b[39;49m\u001b[43mlogger\u001b[49m\u001b[38;5;241;43m.\u001b[39;49m\u001b[43mexperiment\u001b[49m\u001b[38;5;241;43m.\u001b[39;49m\u001b[43madd_figure\u001b[49m\u001b[43m(\u001b[49m\n\u001b[0;32m    821\u001b[0m \u001b[43m        \u001b[49m\u001b[38;5;124;43mf\u001b[39;49m\u001b[38;5;124;43m\"\u001b[39;49m\u001b[38;5;132;43;01m{\u001b[39;49;00m\u001b[43mlabel\u001b[49m\u001b[38;5;241;43m.\u001b[39;49m\u001b[43mcapitalize\u001b[49m\u001b[43m(\u001b[49m\u001b[43m)\u001b[49m\u001b[38;5;132;43;01m}\u001b[39;49;00m\u001b[38;5;124;43m \u001b[39;49m\u001b[38;5;132;43;01m{\u001b[39;49;00m\u001b[43mname\u001b[49m\u001b[38;5;132;43;01m}\u001b[39;49;00m\u001b[38;5;124;43m importance\u001b[39;49m\u001b[38;5;124;43m\"\u001b[39;49m\u001b[43m,\u001b[49m\u001b[43m \u001b[49m\u001b[43mfig\u001b[49m\u001b[43m,\u001b[49m\u001b[43m \u001b[49m\u001b[43mglobal_step\u001b[49m\u001b[38;5;241;43m=\u001b[39;49m\u001b[38;5;28;43mself\u001b[39;49m\u001b[38;5;241;43m.\u001b[39;49m\u001b[43mglobal_step\u001b[49m\n\u001b[0;32m    822\u001b[0m \u001b[43m    \u001b[49m\u001b[43m)\u001b[49m\n\u001b[0;32m    824\u001b[0m \u001b[38;5;66;03m# log lengths of encoder/decoder\u001b[39;00m\n\u001b[0;32m    825\u001b[0m \u001b[38;5;28;01mfor\u001b[39;00m \u001b[38;5;28mtype\u001b[39m \u001b[38;5;129;01min\u001b[39;00m [\u001b[38;5;124m\"\u001b[39m\u001b[38;5;124mencoder\u001b[39m\u001b[38;5;124m\"\u001b[39m, \u001b[38;5;124m\"\u001b[39m\u001b[38;5;124mdecoder\u001b[39m\u001b[38;5;124m\"\u001b[39m]:\n",
      "File \u001b[1;32mc:\\Users\\nicov\\AppData\\Local\\Programs\\Python\\Python39\\lib\\site-packages\\torch\\utils\\tensorboard\\writer.py:753\u001b[0m, in \u001b[0;36mSummaryWriter.add_figure\u001b[1;34m(self, tag, figure, global_step, close, walltime)\u001b[0m\n\u001b[0;32m    745\u001b[0m     \u001b[38;5;28mself\u001b[39m\u001b[38;5;241m.\u001b[39madd_image(\n\u001b[0;32m    746\u001b[0m         tag,\n\u001b[0;32m    747\u001b[0m         figure_to_image(figure, close),\n\u001b[1;32m   (...)\u001b[0m\n\u001b[0;32m    750\u001b[0m         dataformats\u001b[38;5;241m=\u001b[39m\u001b[38;5;124m\"\u001b[39m\u001b[38;5;124mNCHW\u001b[39m\u001b[38;5;124m\"\u001b[39m,\n\u001b[0;32m    751\u001b[0m     )\n\u001b[0;32m    752\u001b[0m \u001b[38;5;28;01melse\u001b[39;00m:\n\u001b[1;32m--> 753\u001b[0m     \u001b[38;5;28;43mself\u001b[39;49m\u001b[38;5;241;43m.\u001b[39;49m\u001b[43madd_image\u001b[49m\u001b[43m(\u001b[49m\n\u001b[0;32m    754\u001b[0m \u001b[43m        \u001b[49m\u001b[43mtag\u001b[49m\u001b[43m,\u001b[49m\n\u001b[0;32m    755\u001b[0m \u001b[43m        \u001b[49m\u001b[43mfigure_to_image\u001b[49m\u001b[43m(\u001b[49m\u001b[43mfigure\u001b[49m\u001b[43m,\u001b[49m\u001b[43m \u001b[49m\u001b[43mclose\u001b[49m\u001b[43m)\u001b[49m\u001b[43m,\u001b[49m\n\u001b[0;32m    756\u001b[0m \u001b[43m        \u001b[49m\u001b[43mglobal_step\u001b[49m\u001b[43m,\u001b[49m\n\u001b[0;32m    757\u001b[0m \u001b[43m        \u001b[49m\u001b[43mwalltime\u001b[49m\u001b[43m,\u001b[49m\n\u001b[0;32m    758\u001b[0m \u001b[43m        \u001b[49m\u001b[43mdataformats\u001b[49m\u001b[38;5;241;43m=\u001b[39;49m\u001b[38;5;124;43m\"\u001b[39;49m\u001b[38;5;124;43mCHW\u001b[39;49m\u001b[38;5;124;43m\"\u001b[39;49m\u001b[43m,\u001b[49m\n\u001b[0;32m    759\u001b[0m \u001b[43m    \u001b[49m\u001b[43m)\u001b[49m\n",
      "File \u001b[1;32mc:\\Users\\nicov\\AppData\\Local\\Programs\\Python\\Python39\\lib\\site-packages\\torch\\utils\\tensorboard\\writer.py:625\u001b[0m, in \u001b[0;36mSummaryWriter.add_image\u001b[1;34m(self, tag, img_tensor, global_step, walltime, dataformats)\u001b[0m\n\u001b[0;32m    580\u001b[0m \u001b[38;5;124;03m\"\"\"Add image data to summary.\u001b[39;00m\n\u001b[0;32m    581\u001b[0m \n\u001b[0;32m    582\u001b[0m \u001b[38;5;124;03mNote that this requires the ``pillow`` package.\u001b[39;00m\n\u001b[1;32m   (...)\u001b[0m\n\u001b[0;32m    621\u001b[0m \n\u001b[0;32m    622\u001b[0m \u001b[38;5;124;03m\"\"\"\u001b[39;00m\n\u001b[0;32m    623\u001b[0m torch\u001b[38;5;241m.\u001b[39m_C\u001b[38;5;241m.\u001b[39m_log_api_usage_once(\u001b[38;5;124m\"\u001b[39m\u001b[38;5;124mtensorboard.logging.add_image\u001b[39m\u001b[38;5;124m\"\u001b[39m)\n\u001b[0;32m    624\u001b[0m \u001b[38;5;28mself\u001b[39m\u001b[38;5;241m.\u001b[39m_get_file_writer()\u001b[38;5;241m.\u001b[39madd_summary(\n\u001b[1;32m--> 625\u001b[0m     \u001b[43mimage\u001b[49m\u001b[43m(\u001b[49m\u001b[43mtag\u001b[49m\u001b[43m,\u001b[49m\u001b[43m \u001b[49m\u001b[43mimg_tensor\u001b[49m\u001b[43m,\u001b[49m\u001b[43m \u001b[49m\u001b[43mdataformats\u001b[49m\u001b[38;5;241;43m=\u001b[39;49m\u001b[43mdataformats\u001b[49m\u001b[43m)\u001b[49m, global_step, walltime\n\u001b[0;32m    626\u001b[0m )\n",
      "File \u001b[1;32mc:\\Users\\nicov\\AppData\\Local\\Programs\\Python\\Python39\\lib\\site-packages\\torch\\utils\\tensorboard\\summary.py:576\u001b[0m, in \u001b[0;36mimage\u001b[1;34m(tag, tensor, rescale, dataformats)\u001b[0m\n\u001b[0;32m    574\u001b[0m scale_factor \u001b[38;5;241m=\u001b[39m _calc_scale_factor(tensor)\n\u001b[0;32m    575\u001b[0m tensor \u001b[38;5;241m=\u001b[39m tensor\u001b[38;5;241m.\u001b[39mastype(np\u001b[38;5;241m.\u001b[39mfloat32)\n\u001b[1;32m--> 576\u001b[0m tensor \u001b[38;5;241m=\u001b[39m \u001b[43m(\u001b[49m\u001b[43mtensor\u001b[49m\u001b[43m \u001b[49m\u001b[38;5;241;43m*\u001b[39;49m\u001b[43m \u001b[49m\u001b[43mscale_factor\u001b[49m\u001b[43m)\u001b[49m\u001b[38;5;241;43m.\u001b[39;49m\u001b[43mclip\u001b[49m\u001b[43m(\u001b[49m\u001b[38;5;241;43m0\u001b[39;49m\u001b[43m,\u001b[49m\u001b[43m \u001b[49m\u001b[38;5;241;43m255\u001b[39;49m\u001b[43m)\u001b[49m\u001b[38;5;241m.\u001b[39mastype(np\u001b[38;5;241m.\u001b[39muint8)\n\u001b[0;32m    577\u001b[0m image \u001b[38;5;241m=\u001b[39m make_image(tensor, rescale\u001b[38;5;241m=\u001b[39mrescale)\n\u001b[0;32m    578\u001b[0m \u001b[38;5;28;01mreturn\u001b[39;00m Summary(value\u001b[38;5;241m=\u001b[39m[Summary\u001b[38;5;241m.\u001b[39mValue(tag\u001b[38;5;241m=\u001b[39mtag, image\u001b[38;5;241m=\u001b[39mimage)])\n",
      "File \u001b[1;32mc:\\Users\\nicov\\AppData\\Local\\Programs\\Python\\Python39\\lib\\site-packages\\numpy\\core\\_methods.py:161\u001b[0m, in \u001b[0;36m_clip\u001b[1;34m(a, min, max, out, casting, **kwargs)\u001b[0m\n\u001b[0;32m    158\u001b[0m     \u001b[38;5;28;01mreturn\u001b[39;00m _clip_dep_invoke_with_casting(\n\u001b[0;32m    159\u001b[0m         um\u001b[38;5;241m.\u001b[39mmaximum, a, \u001b[38;5;28mmin\u001b[39m, out\u001b[38;5;241m=\u001b[39mout, casting\u001b[38;5;241m=\u001b[39mcasting, \u001b[38;5;241m*\u001b[39m\u001b[38;5;241m*\u001b[39mkwargs)\n\u001b[0;32m    160\u001b[0m \u001b[38;5;28;01melse\u001b[39;00m:\n\u001b[1;32m--> 161\u001b[0m     \u001b[38;5;28;01mreturn\u001b[39;00m _clip_dep_invoke_with_casting(\n\u001b[0;32m    162\u001b[0m         um\u001b[38;5;241m.\u001b[39mclip, a, \u001b[38;5;28mmin\u001b[39m, \u001b[38;5;28mmax\u001b[39m, out\u001b[38;5;241m=\u001b[39mout, casting\u001b[38;5;241m=\u001b[39mcasting, \u001b[38;5;241m*\u001b[39m\u001b[38;5;241m*\u001b[39mkwargs)\n",
      "File \u001b[1;32mc:\\Users\\nicov\\AppData\\Local\\Programs\\Python\\Python39\\lib\\site-packages\\numpy\\core\\_methods.py:115\u001b[0m, in \u001b[0;36m_clip_dep_invoke_with_casting\u001b[1;34m(ufunc, out, casting, *args, **kwargs)\u001b[0m\n\u001b[0;32m    113\u001b[0m \u001b[38;5;66;03m# try to deal with broken casting rules\u001b[39;00m\n\u001b[0;32m    114\u001b[0m \u001b[38;5;28;01mtry\u001b[39;00m:\n\u001b[1;32m--> 115\u001b[0m     \u001b[38;5;28;01mreturn\u001b[39;00m ufunc(\u001b[38;5;241m*\u001b[39margs, out\u001b[38;5;241m=\u001b[39mout, \u001b[38;5;241m*\u001b[39m\u001b[38;5;241m*\u001b[39mkwargs)\n\u001b[0;32m    116\u001b[0m \u001b[38;5;28;01mexcept\u001b[39;00m _exceptions\u001b[38;5;241m.\u001b[39m_UFuncOutputCastingError \u001b[38;5;28;01mas\u001b[39;00m e:\n\u001b[0;32m    117\u001b[0m     \u001b[38;5;66;03m# Numpy 1.17.0, 2019-02-24\u001b[39;00m\n\u001b[0;32m    118\u001b[0m     warnings\u001b[38;5;241m.\u001b[39mwarn(\n\u001b[0;32m    119\u001b[0m         \u001b[38;5;124m\"\u001b[39m\u001b[38;5;124mConverting the output of clip from \u001b[39m\u001b[38;5;132;01m{!r}\u001b[39;00m\u001b[38;5;124m to \u001b[39m\u001b[38;5;132;01m{!r}\u001b[39;00m\u001b[38;5;124m is deprecated. \u001b[39m\u001b[38;5;124m\"\u001b[39m\n\u001b[0;32m    120\u001b[0m         \u001b[38;5;124m\"\u001b[39m\u001b[38;5;124mPass `casting=\u001b[39m\u001b[38;5;130;01m\\\"\u001b[39;00m\u001b[38;5;124munsafe\u001b[39m\u001b[38;5;130;01m\\\"\u001b[39;00m\u001b[38;5;124m` explicitly to silence this warning, or \u001b[39m\u001b[38;5;124m\"\u001b[39m\n\u001b[1;32m   (...)\u001b[0m\n\u001b[0;32m    123\u001b[0m         stacklevel\u001b[38;5;241m=\u001b[39m\u001b[38;5;241m2\u001b[39m\n\u001b[0;32m    124\u001b[0m     )\n",
      "\u001b[1;31mMemoryError\u001b[0m: Unable to allocate 8.62 MiB for an array with shape (1494, 504, 3) and data type float32"
     ]
    },
    {
     "data": {
      "image/png": "[encoded data removed]",
      "text/plain": [
       "<Figure size 504x684 with 1 Axes>"
      ]
     },
     "metadata": {
      "needs_background": "light"
     },
     "output_type": "display_data"
    }
   ],
   "source": [
    "if grid_search == \"random\":\n",
    "    # Suprime todos los warnings\n",
    "    warnings.filterwarnings(\"ignore\")\n",
    "\n",
    "    # Llamada a la función de búsqueda aleatoria\n",
    "    best_model, best_params, best_val_loss = random_hyperparameter_search(\n",
    "        data,\n",
    "        train,\n",
    "        train_dataloader,\n",
    "        val_dataloader,\n",
    "        test,\n",
    "        param_grid,\n",
    "        n_iterations=100,\n",
    "        max_epochs=50,\n",
    "        save_dir=f'./plots/multiexog_syp500_-{n_prev_len}d-{date_start.replace(\"-\",\"\")}-{date_end.replace(\"-\",\"\")}-lessFilters',\n",
    "        csv_file=f\"./results/multiexog_syp500_-{n_prev_len}d-{date_start}-{date_end}.csv\",\n",
    "    )"
   ]
  },
  {
   "cell_type": "code",
   "execution_count": 15,
   "id": "40e9473e",
   "metadata": {},
   "outputs": [],
   "source": [
    "if grid_search == \"exhaustive\":\n",
    "    \n",
    "    # Suprime todos los warnings \n",
    "\n",
    "    \n",
    "    warnings.filterwarnings(\"ignore\")\n",
    "    \n",
    "    # Llamada a la función de búsqueda de hiperparámetros\n",
    "    best_model, best_params, best_val_loss = exhaustive_hyperparameter_search(\n",
    "        data, train, train_dataloader, val_dataloader, test, param_grid, max_epochs=1\n",
    "    )"
   ]
  },
  {
   "cell_type": "code",
   "execution_count": null,
   "id": "bebd5b9f",
   "metadata": {},
   "outputs": [],
   "source": [
    "if grid_search:\n",
    "    tft_predict(best_model, val_dataloader, n_preds=1)\n"
   ]
  },
  {
   "cell_type": "markdown",
   "id": "0f03dd31",
   "metadata": {},
   "source": [
    "# TEST EVAL"
   ]
  },
  {
   "cell_type": "code",
   "execution_count": 17,
   "id": "3272e531",
   "metadata": {},
   "outputs": [],
   "source": [
    "def make_preds(\n",
    "    train,\n",
    "    test,\n",
    "    model,\n",
    "    encoder_lenght,\n",
    "    test_lenght,\n",
    "    pred_lenght,\n",
    "    quantiles: bool = True,\n",
    "):\n",
    "    # group = model.output_transformer.groups[0]\n",
    "    if quantiles:\n",
    "        try:  # for Quantileloss\n",
    "            preds = []\n",
    "            preds_data = pd.concat([train[-encoder_lenght:], test])\n",
    "            for i in range(0, test_lenght, pred_lenght):\n",
    "                new_data = preds_data[i : i + encoder_lenght + pred_lenght]\n",
    "                new_data.loc[:, group] = new_data.iloc[0, new_data.columns.get_loc(group)]\n",
    "                new_raw_predictions = model.predict(new_data, mode=\"raw\", return_x=True)\n",
    "                prediction = []\n",
    "                for i in range(pred_lenght):\n",
    "                    prediction.append(float(new_raw_predictions.output.prediction[0][i][3]))\n",
    "                preds.append(prediction)\n",
    "        except:  # for MQF2DistributionLoss\n",
    "            preds = []\n",
    "            preds_data = pd.concat([train[-encoder_lenght:], test])\n",
    "            for i in range(0, test_lenght, pred_lenght):\n",
    "                new_data = preds_data[i : i + encoder_lenght + pred_lenght]\n",
    "                new_data.loc[:, group] = new_data.iloc[0, new_data.columns.get_loc(group)]\n",
    "                prediction = model.to_prediction(new_raw_predictions.output)[0].flatten().tolist()\n",
    "                preds.append(prediction)\n",
    "    else:\n",
    "        preds = []\n",
    "        preds_data = pd.concat([train[-encoder_lenght:], test])\n",
    "        for i in range(0, test_lenght, pred_lenght):\n",
    "            new_data = preds_data[i : i + encoder_lenght + pred_lenght]\n",
    "            new_data.loc[:, group] = new_data.iloc[0, new_data.columns.get_loc(group)]\n",
    "            new_raw_predictions = model.predict(new_data, mode=\"raw\", return_x=True)\n",
    "            prediction = new_raw_predictions.output.prediction[0].flatten().tolist()\n",
    "            preds.append(prediction)\n",
    "\n",
    "    return preds"
   ]
  },
  {
   "cell_type": "code",
   "execution_count": 18,
   "id": "1ed3276c",
   "metadata": {},
   "outputs": [],
   "source": [
    "# preds = []\n",
    "# preds_data = pd.concat([data[-n_prev_len:], test])\n",
    "# # preds_data = preds_data.ffill()\n",
    "# preds_data[\"target\"] = float(1)\n",
    "# # preds_data.drop(columns=[\"target\"], inplace=True)\n",
    "# for i in range(0, test_len, pred_len):\n",
    "#     new_data = preds_data[i : i + n_prev_len + pred_len]\n",
    "#     new_data.loc[:, group] = new_data.iloc[0, new_data.columns.get_loc(group)]\n",
    "#     new_raw_predictions = tft.predict(new_data, mode=\"raw\", return_x=True)\n",
    "#     prediction = new_raw_predictions.output.prediction[0].flatten().tolist()\n",
    "#     preds.append(prediction)"
   ]
  },
  {
   "cell_type": "code",
   "execution_count": null,
   "id": "6a408112",
   "metadata": {},
   "outputs": [],
   "source": [
    "preds = make_preds(\n",
    "    train=data,\n",
    "    test=test,\n",
    "    model=tft,\n",
    "    encoder_lenght=n_prev_len,\n",
    "    test_lenght=test_len,\n",
    "    pred_lenght=pred_len,\n",
    "    quantiles=True if isinstance(loss, QuantileLoss) else False,\n",
    ")"
   ]
  },
  {
   "cell_type": "code",
   "execution_count": null,
   "id": "d9847a87",
   "metadata": {},
   "outputs": [
    {
     "ename": "",
     "evalue": "",
     "output_type": "error",
     "traceback": [
      "\u001b[1;31mFailed to start the Kernel. \n",
      "\u001b[1;31mThe kernel died. Error: ... View Jupyter <a href='command:jupyter.viewOutput'>log</a> for further details."
     ]
    }
   ],
   "source": [
    "from sklearn.metrics import mean_absolute_error, mean_absolute_percentage_error, root_mean_squared_error\n",
    "\n",
    "dates = test[\"Date\"].to_list()\n",
    "preds_flat = [item for sublist in preds for item in sublist]\n",
    "\n",
    "# real_vals = list(data[-n_preds * pred_len :][\"target\"])\n",
    "real_vals = test[\"target\"].to_list()\n",
    "\n",
    "print(f\"MAE: {mean_absolute_error(real_vals, preds_flat)}\")\n",
    "print(f\"MAPE: {mean_absolute_percentage_error(real_vals, preds_flat)}\")\n",
    "print(f\"RMSE: {root_mean_squared_error(real_vals, preds_flat)}\")\n",
    "\n",
    "plt.plot(dates, preds_flat, color=\"r\")\n",
    "plt.plot(dates, real_vals, color=\"g\")\n",
    "plt.title(\"Real vs Preds\")\n",
    "plt.xlabel(\"Índice\")\n",
    "plt.ylabel(\"Valor\")\n",
    "plt.show()"
   ]
  },
  {
   "cell_type": "code",
   "execution_count": null,
   "id": "96b460c4",
   "metadata": {},
   "outputs": [
    {
     "ename": "",
     "evalue": "",
     "output_type": "error",
     "traceback": [
      "\u001b[1;31mFailed to start the Kernel. \n",
      "\u001b[1;31mThe kernel died. Error: ... View Jupyter <a href='command:jupyter.viewOutput'>log</a> for further details."
     ]
    }
   ],
   "source": [
    "import matplotlib.pyplot as plt\n",
    "from sklearn.metrics import mean_absolute_error, mean_absolute_percentage_error, mean_squared_error\n",
    "import matplotlib.dates as mdates\n",
    "\n",
    "# Convertir las fechas a formato de datetime si no están ya\n",
    "dates = pd.to_datetime(test[\"Date\"]).to_list()\n",
    "\n",
    "# Aplanar las predicciones si es necesario\n",
    "preds_flat = [item for sublist in preds for item in sublist]\n",
    "\n",
    "# Valores reales\n",
    "real_vals = test[\"target\"].to_list()\n",
    "\n",
    "# Métricas de error\n",
    "print(f\"MAE: {mean_absolute_error(real_vals, preds_flat)}\")\n",
    "print(f\"MAPE: {mean_absolute_percentage_error(real_vals, preds_flat)}\")\n",
    "print(f\"RMSE: {mean_squared_error(real_vals, preds_flat, squared=False)}\")\n",
    "\n",
    "# Gráfico\n",
    "plt.figure(figsize=(10, 6))\n",
    "plt.plot(dates, real_vals, color=\"g\", label=\"Valores Reales\")\n",
    "plt.plot(dates, preds_flat, color=\"r\", label=\"Predicciones\")\n",
    "plt.title(\"Valores Reales vs Predicciones\")\n",
    "plt.xlabel(\"Fecha\")\n",
    "plt.ylabel(\"Valor (€)\")\n",
    "\n",
    "# Formato de fecha en el eje x\n",
    "plt.gca().xaxis.set_major_formatter(mdates.DateFormatter(\"%Y-%m-%d\"))\n",
    "plt.gca().xaxis.set_major_locator(mdates.AutoDateLocator())\n",
    "plt.gcf().autofmt_xdate()  # Rotar fechas para mejor visualización\n",
    "\n",
    "# Añadir leyenda\n",
    "plt.legend()\n",
    "\n",
    "# Mostrar gráfico\n",
    "plt.show()"
   ]
  },
  {
   "cell_type": "code",
   "execution_count": null,
   "id": "1f373476",
   "metadata": {},
   "outputs": [
    {
     "ename": "",
     "evalue": "",
     "output_type": "error",
     "traceback": [
      "\u001b[1;31mFailed to start the Kernel. \n",
      "\u001b[1;31mThe kernel died. Error: ... View Jupyter <a href='command:jupyter.viewOutput'>log</a> for further details."
     ]
    }
   ],
   "source": [
    "from sklearn.metrics import mean_absolute_error\n",
    "import matplotlib.pyplot as plt\n",
    "import matplotlib.dates as mdates\n",
    "\n",
    "# Supongamos que `preds`, `test`, y `dates` ya están definidos en tu entorno\n",
    "\n",
    "# Aplanar la lista de predicciones\n",
    "preds_flat = [item for sublist in preds for item in sublist]\n",
    "\n",
    "# Convertir los valores reales a una lista\n",
    "real_vals = test[\"target\"].to_list()\n",
    "\n",
    "# Lista de fechas (timestamps)\n",
    "\n",
    "\n",
    "# Calcular el error absoluto medio\n",
    "print(f\"MAE: {mean_absolute_error(real_vals, preds_flat)}\")\n",
    "print(f\"MAPE: {mean_absolute_percentage_error(real_vals, preds_flat)}\")\n",
    "print(f\"RMSE: {root_mean_squared_error(real_vals, preds_flat)}\")\n",
    "# Crear la gráfica\n",
    "plt.figure(figsize=(10, 6))\n",
    "plt.plot(dates, preds_flat, color=\"r\", label=\"Predicciones\", marker=\"o\", linestyle=\"--\")\n",
    "plt.plot(dates, real_vals, color=\"g\", label=\"Valores Reales\", marker=\"x\", linestyle=\"-\")\n",
    "\n",
    "# Añadir título y etiquetas\n",
    "plt.title(\"Predicciones vs Valores Reales\")\n",
    "plt.xlabel(\"Fecha\")\n",
    "plt.ylabel(\"Valor\")\n",
    "\n",
    "# Formatear las fechas en el eje x\n",
    "plt.gca().xaxis.set_major_formatter(mdates.DateFormatter(\"%Y-%m-%d\"))\n",
    "# plt.gca().xaxis.set_major_locator(mdates.HourLocator(interval=6))\n",
    "plt.gcf().autofmt_xdate()  # Rotar las etiquetas de fecha\n",
    "\n",
    "# Añadir cuadrícula y leyenda\n",
    "plt.grid(True)\n",
    "plt.legend()\n",
    "\n",
    "# Mostrar la gráfica\n",
    "plt.show()"
   ]
  },
  {
   "cell_type": "markdown",
   "id": "081d3ac6",
   "metadata": {},
   "source": [
    "# INFERENCE"
   ]
  },
  {
   "cell_type": "markdown",
   "id": "584a21f5",
   "metadata": {},
   "source": [
    "## Retrain for inference"
   ]
  },
  {
   "cell_type": "code",
   "execution_count": null,
   "id": "6d680c22",
   "metadata": {},
   "outputs": [
    {
     "ename": "",
     "evalue": "",
     "output_type": "error",
     "traceback": [
      "\u001b[1;31mFailed to start the Kernel. \n",
      "\u001b[1;31mThe kernel died. Error: ... View Jupyter <a href='command:jupyter.viewOutput'>log</a> for further details."
     ]
    }
   ],
   "source": [
    "features = [\n",
    "    col for col in data.columns if col != \"target\"\n",
    "]  # Columnas de características and col != \"Date\"\n",
    "\n",
    "max_prediction_length = pred_len\n",
    "max_encoder_length = n_prev_len  # 48\n",
    "# training_cutoff = data[\"Date\"].max() - pd.Timedelta(hours=max_encoder_length)\n",
    "training_cutoff = data[\"time_idx\"].max() - max_prediction_length\n",
    "\n",
    "retrain = TimeSeriesDataSet(\n",
    "    full.dropna()[lambda x: x.time_idx <= training_cutoff],\n",
    "    time_idx=\"time_idx\",\n",
    "    target=\"target\",\n",
    "    group_ids=[group],\n",
    "    min_encoder_length=max_encoder_length,  # keep encoder length long (as it is in the validation set)\n",
    "    max_encoder_length=max_encoder_length,\n",
    "    # min_prediction_length=24,\n",
    "    max_prediction_length=max_prediction_length,\n",
    "    static_categoricals=[],\n",
    "    static_reals=[],\n",
    "    time_varying_known_categoricals=[],  # group of categorical variables can be treated as one variable\n",
    "    time_varying_known_reals=[\"Date\", \"month\", \"week\", \"day\", \"time_idx\"],\n",
    "    time_varying_unknown_categoricals=[],\n",
    "    time_varying_unknown_reals=[\n",
    "        \"target\",\n",
    "        \"open\",\n",
    "        \"max\",\n",
    "        \"min\",\n",
    "        \"vol\",\n",
    "        \"var\",\n",
    "        \"SMA_5\",\n",
    "        \"EMA_5\",\n",
    "        \"SMA_10\",\n",
    "        \"EMA_10\",\n",
    "        \"SMA_15\",\n",
    "        \"EMA_15\",\n",
    "        \"SMA_20\",\n",
    "        \"EMA_20\",\n",
    "        \"RSI_6\",\n",
    "        \"RSI_10\",\n",
    "        \"RSI_14\",\n",
    "        \"Bollinger_Upper_5\",\n",
    "        \"Bollinger_Lower_5\",\n",
    "        \"Bollinger_Upper_10\",\n",
    "        \"Bollinger_Lower_10\",\n",
    "        \"Bollinger_Upper_15\",\n",
    "        \"Bollinger_Lower_15\",\n",
    "        \"Bollinger_Upper_20\",\n",
    "        \"Bollinger_Lower_20\",\n",
    "        \"MACD\",\n",
    "        \"Signal_Line\",\n",
    "        \"ATR_5\",\n",
    "        \"ATR_10\",\n",
    "        \"ATR_15\",\n",
    "        \"ATR_20\",\n",
    "        \"CCI_5\",\n",
    "        \"CCI_10\",\n",
    "        \"CCI_15\",\n",
    "        \"CCI_20\",\n",
    "        \"ROC_10\",\n",
    "        \"ROC_14\",\n",
    "        \"ROC_20\",\n",
    "        \"ROC_50\",\n",
    "        \"Stochastic_10_K\",\n",
    "        \"Stochastic_10_D\",\n",
    "        \"Stochastic_14_K\",\n",
    "        \"Stochastic_14_D\",\n",
    "        \"Stochastic_20_K\",\n",
    "        \"Stochastic_20_D\",\n",
    "        \"Stochastic_25_K\",\n",
    "        \"Stochastic_25_D\",\n",
    "        \"Stochastic_50_K\",\n",
    "        \"Stochastic_50_D\",\n",
    "        \"Williams_%R_10\",\n",
    "        \"Williams_%R_14\",\n",
    "    ],\n",
    "    # lags={\"target\": list(range(1, 5))},\n",
    "    # target_normalizer=GroupNormalizer(\"standard\", groups=[group], transformation=\"softplus\"),\n",
    "    # use softplus and normalize by group\n",
    "    add_relative_time_idx=True,\n",
    "    add_target_scales=True,\n",
    "    allow_missing_timesteps=True,\n",
    "    # add_encoder_length=True,\n",
    "    # categorical_encoders={\n",
    "    #     \"month\": pytorch_forecasting.data.encoders.NaNLabelEncoder(add_nan=True),\n",
    "    #     \"week\": pytorch_forecasting.data.encoders.NaNLabelEncoder(add_nan=True),\n",
    "    #     \"day\": pytorch_forecasting.data.encoders.NaNLabelEncoder(add_nan=True),\n",
    "    # },\n",
    ")\n",
    "\n",
    "revalidation = TimeSeriesDataSet.from_dataset(retrain, full.dropna(), predict=True, stop_randomization=True)\n",
    "\n",
    "# test = TimeSeriesDataSet.from_dataset(training, test_data, predict=True, stop_randomization=True)\n",
    "\n",
    "\n",
    "# create dataloaders for model\n",
    "\n",
    "batch_size = 64  # set this between 32 to 128\n",
    "\n",
    "retrain_dataloader = retrain.to_dataloader(\n",
    "\n",
    "    train=True, batch_size=batch_size, num_workers=7, persistent_workers=True\n",
    "\n",
    ")\n",
    "\n",
    "reval_dataloader = revalidation.to_dataloader(\n",
    "\n",
    "    train=False, batch_size=batch_size, num_workers=7, persistent_workers=True\n",
    "\n",
    ")\n",
    "\n",
    "# test_dataloader = test.to_dataloader(train=False, batch_size=batch_size, num_workers=11, persistent_workers=True)\n",
    "\n",
    "if not grid_search:\n",
    "\n",
    "    # tft_params[\"learning_rate\"] = 0.01\n",
    "\n",
    "    retft, val_loss = tft_trainer(\n",
    "\n",
    "        retrain, retrain_dataloader, reval_dataloader, max_epochs=epochs, **tft_params\n",
    "\n",
    "    )"
   ]
  },
  {
   "cell_type": "code",
   "execution_count": null,
   "id": "16c3c38f",
   "metadata": {},
   "outputs": [
    {
     "ename": "",
     "evalue": "",
     "output_type": "error",
     "traceback": [
      "\u001b[1;31mFailed to start the Kernel. \n",
      "\u001b[1;31mThe kernel died. Error: ... View Jupyter <a href='command:jupyter.viewOutput'>log</a> for further details."
     ]
    }
   ],
   "source": [
    "encoder_data = full[-n_prev_len:]\n",
    "last_row = full.iloc[-1]\n",
    "# Creamos nuevas filas\n",
    "new_rows = []\n",
    "for i in range(1, 6):\n",
    "    new_row = last_row.copy()\n",
    "    new_row[\"Date\"] += timedelta(days=i)\n",
    "    new_row[\"day\"] += i\n",
    "    new_row[\"time_idx\"] += i\n",
    "    new_rows.append(new_row)\n",
    "\n",
    "# Concatenamos las nuevas filas al DataFrame original\n",
    "decoder_data = pd.DataFrame(new_rows)\n",
    "\n",
    "new_data = pd.concat([encoder_data, decoder_data], ignore_index=True)\n",
    "new_data.loc[:, group] = new_data.iloc[0, new_data.columns.get_loc(group)]\n",
    "# new_data.loc[-pred_len: ,\"target\"] = 1\n",
    "new_raw_predictions = retft.predict(new_data, mode=\"raw\", return_x=True)\n",
    "if isinstance(loss, QuantileLoss):\n",
    "    prediction = []\n",
    "    for i in range(pred_len):\n",
    "        prediction.append(float(new_raw_predictions.output.prediction[0][i][3]))\n",
    "else:\n",
    "    prediction = new_raw_predictions.output.prediction[0].flatten().tolist()\n",
    "prediction"
   ]
  },
  {
   "cell_type": "code",
   "execution_count": null,
   "id": "162b0a6e",
   "metadata": {},
   "outputs": [
    {
     "ename": "",
     "evalue": "",
     "output_type": "error",
     "traceback": [
      "\u001b[1;31mFailed to start the Kernel. \n",
      "\u001b[1;31mThe kernel died. Error: ... View Jupyter <a href='command:jupyter.viewOutput'>log</a> for further details."
     ]
    }
   ],
   "source": [
    "# prediction = [11233.22265625, 11129.837890625, 11228.3486328125, 11315.59375, 11555.85546875]\n",
    "last_vals = full[-10:]\n",
    "last_vals = last_vals[[\"Date\", \"target\"]]\n",
    "fechas_azul = pd.date_range(start=\"2024-08-26\", periods=len(prediction))\n",
    "predictions = pd.DataFrame({\"Date\": fechas_azul, \"target\": prediction})\n",
    "\n",
    "plt.plot(predictions[\"Date\"], predictions[\"target\"], color=\"r\")\n",
    "plt.plot(last_vals[\"Date\"], last_vals[\"target\"], color=\"g\")\n",
    "plt.title(\"Gráfica de la lista aplanada\")\n",
    "plt.xlabel(\"Índice\")\n",
    "plt.ylabel(\"Valor\")\n",
    "plt.show()"
   ]
  },
  {
   "cell_type": "markdown",
   "id": "88078c66",
   "metadata": {},
   "source": [
    "# INTERPRETABILITY"
   ]
  },
  {
   "cell_type": "code",
   "execution_count": null,
   "id": "2461fd42",
   "metadata": {},
   "outputs": [
    {
     "ename": "",
     "evalue": "",
     "output_type": "error",
     "traceback": [
      "\u001b[1;31mFailed to start the Kernel. \n",
      "\u001b[1;31mThe kernel died. Error: ... View Jupyter <a href='command:jupyter.viewOutput'>log</a> for further details."
     ]
    }
   ],
   "source": [
    "interpretation = tft.interpret_output(preds.output, reduction=\"sum\") #\n",
    "tft.plot_interpretation(interpretation)\n"
   ]
  },
  {
   "cell_type": "code",
   "execution_count": null,
   "id": "2735f9d0",
   "metadata": {},
   "outputs": [
    {
     "ename": "",
     "evalue": "",
     "output_type": "error",
     "traceback": [
      "\u001b[1;31mFailed to start the Kernel. \n",
      "\u001b[1;31mThe kernel died. Error: ... View Jupyter <a href='command:jupyter.viewOutput'>log</a> for further details."
     ]
    }
   ],
   "source": []
  }
 ],
 "metadata": {
  "accelerator": "GPU",
  "colab": {
   "gpuType": "T4",
   "provenance": [],
   "toc_visible": true
  },
  "kernelspec": {
   "display_name": "Python 3",
   "language": "python",
   "name": "python3"
  },
  "language_info": {
   "codemirror_mode": {
    "name": "ipython",
    "version": 3
   },
   "file_extension": ".py",
   "mimetype": "text/x-python",
   "name": "python",
   "nbconvert_exporter": "python",
   "pygments_lexer": "ipython3",
   "version": "3.9.0"
  }
 },
 "nbformat": 4,
 "nbformat_minor": 5
}
